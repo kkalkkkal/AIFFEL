{
 "cells": [
  {
   "cell_type": "markdown",
   "metadata": {},
   "source": [
    "## 크롤링 순서\n",
    "\n",
    "1. 브라우저 열기\n",
    "2. 페이지 접속하기\n",
    "3. 원하는 정보 있는지 확인하기\n",
    "    - 없다면,  추가 작업(입력/클릭) or 다른 사이트 접속하기\n",
    "    - 있다면 다음 진행\n",
    "4. 현재 페이지 HTML 다운받기&해석하기   `soup = BeautifulSoup(browser.page_source,'html.parser')`\n",
    "5. HTML내에서 내가 원하는 정보 가진 태그 찾기   `tag_list = soup.select('태그정보')`\n",
    "6. 태그에서 원하는 값만 가져오기&정리하기   `tag_list[0].text`\n",
    "7. 저장하기"
   ]
  },
  {
   "cell_type": "code",
   "execution_count": 1,
   "metadata": {},
   "outputs": [],
   "source": [
    "import chromedriver_autoinstaller\n",
    "from selenium import webdriver\n",
    "\n",
    "chromedriver_autoinstaller.install() # chromedriver 최신버전설치\n",
    "browser = webdriver.Chrome()    # 브라우저 열기"
   ]
  },
  {
   "cell_type": "code",
   "execution_count": 2,
   "metadata": {},
   "outputs": [],
   "source": [
    "# 네이버 접속하기\n",
    "url = 'https://naver.com'\n",
    "browser.get(url)"
   ]
  },
  {
   "cell_type": "markdown",
   "metadata": {},
   "source": [
    "## 페이지 데이터(HTML) 다운받기"
   ]
  },
  {
   "cell_type": "code",
   "execution_count": 7,
   "metadata": {},
   "outputs": [],
   "source": [
    "browser.page_source\n",
    "# html"
   ]
  },
  {
   "cell_type": "markdown",
   "metadata": {},
   "source": [
    "## HTML 살펴보기\n",
    "\n",
    "---\n",
    "1. 모든 태그는 태그명 을 가짐  \n",
    "    `<태그명>`\n",
    "---\n",
    "2. 시작과 끝이 있음  \n",
    "  `<태그명>  </태그명>`\n",
    "---\n",
    "3. 태그 내에 속성이 사용될 수 있음  \n",
    "    `<태그명 속성1=값1> </태그명>`  \n",
    "    `<태그명 속성1=값1 속성2=값2> </태그명>`  \n",
    "---\n",
    "4. 태그는 다른 태그에 포함될 수 있음\n",
    "\n",
    "    <부모태그>\n",
    "        <자식태그> </자식태그>\n",
    "    </부모태그>  \n",
    "---  \n",
    "5. 태그 기호 사이에 화면에 보이는 텍스트가 포함되어 있음\n",
    "  \n",
    "  `<태그> 안녕하세요</태그>`\n",
    "---\n"
   ]
  },
  {
   "cell_type": "raw",
   "metadata": {},
   "source": [
    "### 태그 구조 읽어보기\n",
    "\n",
    "    <태그1>                \n",
    "         <태그2 속성=1>        \n",
    "            <태그3>Play with Data</태그3>         \n",
    "            <태그4></태그4>            \n",
    "        </태그2>\n",
    "    </태그1>"
   ]
  },
  {
   "cell_type": "code",
   "execution_count": null,
   "metadata": {},
   "outputs": [],
   "source": []
  }
 ],
 "metadata": {
  "kernelspec": {
   "display_name": "Python 3",
   "language": "python",
   "name": "python3"
  },
  "language_info": {
   "codemirror_mode": {
    "name": "ipython",
    "version": 3
   },
   "file_extension": ".py",
   "mimetype": "text/x-python",
   "name": "python",
   "nbconvert_exporter": "python",
   "pygments_lexer": "ipython3",
   "version": "3.8.8"
  }
 },
 "nbformat": 4,
 "nbformat_minor": 4
}
