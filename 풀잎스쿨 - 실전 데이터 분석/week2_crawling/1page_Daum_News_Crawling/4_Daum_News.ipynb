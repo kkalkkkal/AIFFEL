{
 "cells": [
  {
   "cell_type": "markdown",
   "metadata": {},
   "source": [
    "## 크롤링 순서\n",
    "\n",
    "1. 브라우저 열기\n",
    "2. 페이지 접속하기\n",
    "3. 원하는 정보 있는지 확인하기\n",
    "    - 없다면,  추가 작업(입력/클릭) or 다른 사이트 접속하기\n",
    "    - 있다면 다음 진행\n",
    "4. 현재 페이지 HTML 다운받기&해석하기   `soup = BeautifulSoup(browser.page_source,'html.parser')`\n",
    "5. HTML내에서 내가 원하는 정보 가진 태그 찾기   `tag_list = soup.select('태그정보')`\n",
    "6. 태그에서 원하는 값만 가져오기&정리하기   `tag_list[0].text`\n",
    "7. 저장하기"
   ]
  },
  {
   "cell_type": "code",
   "execution_count": null,
   "metadata": {},
   "outputs": [],
   "source": [
    "import chromedriver_autoinstaller\n",
    "from selenium import webdriver\n",
    "\n",
    "chromedriver_autoinstaller.install() # chromedriver 최신버전설치\n",
    "browser = webdriver.Chrome()    # 브라우저 열기"
   ]
  },
  {
   "cell_type": "code",
   "execution_count": null,
   "metadata": {},
   "outputs": [],
   "source": [
    "# 다음뉴스 페이지 접속하기\n",
    "url = 'https://news.v.daum.net/v/20160310190303578'\n",
    "browser.get(url)"
   ]
  },
  {
   "cell_type": "code",
   "execution_count": null,
   "metadata": {},
   "outputs": [],
   "source": [
    "# HTML 다운 받기 & 해석하기\n",
    "from bs4 import BeautifulSoup\n",
    "\n",
    "soup = BeautifulSoup(browser.page_source, 'html.parser')"
   ]
  },
  {
   "cell_type": "code",
   "execution_count": null,
   "metadata": {},
   "outputs": [],
   "source": [
    "# 기사 제목 찾기\n",
    "tag_list  = soup.select('h3.tit_view')  # 태그 리스트 찾기\n",
    "tag = tag_list[0]  # 하나의 태그 선택하기\n",
    "title = tag.text  # 태그에서 원하는 값 추출하기\n",
    "title"
   ]
  },
  {
   "cell_type": "code",
   "execution_count": null,
   "metadata": {},
   "outputs": [],
   "source": [
    "# 기사 제목 찾기 (한 줄로 간단하게)\n",
    "# title = soup.select('h3.tit_view')  # 태그 리스트 찾기\n",
    "# title = soup.select('h3.tit_view')[0]  # 태그 1개\n",
    "title = soup.select('h3.tit_view')[0].text  # 태그 내 글 선택\n",
    "title"
   ]
  },
  {
   "cell_type": "code",
   "execution_count": null,
   "metadata": {},
   "outputs": [],
   "source": [
    "# 신문사 찾기\n",
    "company = soup.select('a.link_cp > img')[0]['alt']\n",
    "company"
   ]
  },
  {
   "cell_type": "code",
   "execution_count": null,
   "metadata": {},
   "outputs": [],
   "source": [
    "# 작성일시\n",
    "date = soup.select('span.num_date')[0].text\n",
    "date"
   ]
  },
  {
   "cell_type": "markdown",
   "metadata": {},
   "source": [
    "#### 불필요한 데이터 정리하기\n",
    "\n",
    "- 문자열.`strip()`  : 앞/뒤 공백문자(띄어쓰기, 줄바꿈, 탭 등) 제거하기\n",
    "\n",
    "- 문자열.`replace`('A', 'B')  : 'A'를 모두 'B' 로 변경.  \n",
    "\n",
    "- 문자열.replace('A', `''`)  : 'A'를 모두 삭제 ('A'를 모두 '' 공백으로 변경)"
   ]
  },
  {
   "cell_type": "code",
   "execution_count": null,
   "metadata": {},
   "outputs": [],
   "source": [
    "# 본문\n",
    "content = soup.select('section')[0].text.strip()\n",
    "content"
   ]
  },
  {
   "cell_type": "code",
   "execution_count": null,
   "metadata": {},
   "outputs": [],
   "source": []
  }
 ],
 "metadata": {
  "kernelspec": {
   "display_name": "Python 3",
   "language": "python",
   "name": "python3"
  },
  "language_info": {
   "codemirror_mode": {
    "name": "ipython",
    "version": 3
   },
   "file_extension": ".py",
   "mimetype": "text/x-python",
   "name": "python",
   "nbconvert_exporter": "python",
   "pygments_lexer": "ipython3",
   "version": "3.8.8"
  }
 },
 "nbformat": 4,
 "nbformat_minor": 4
}
