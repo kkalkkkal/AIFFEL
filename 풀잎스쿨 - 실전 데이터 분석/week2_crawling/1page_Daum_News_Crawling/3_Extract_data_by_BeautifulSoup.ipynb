{
 "cells": [
  {
   "cell_type": "markdown",
   "metadata": {},
   "source": [
    "## 크롤링 순서\n",
    "\n",
    "1. 브라우저 열기\n",
    "2. 페이지 접속하기\n",
    "3. 원하는 정보 있는지 확인하기\n",
    "    - 없다면,  추가 작업(입력/클릭) or 다른 사이트 접속하기\n",
    "    - 있다면 다음 진행\n",
    "4. 현재 페이지 HTML 다운받기&해석하기   `soup = BeautifulSoup(browser.page_source,'html.parser')`\n",
    "5. HTML내에서 내가 원하는 정보 가진 태그 찾기   `tag_list = soup.select('태그정보')`\n",
    "6. 태그에서 원하는 값만 가져오기&정리하기   `tag_list[0].text`\n",
    "7. 저장하기"
   ]
  },
  {
   "cell_type": "code",
   "execution_count": null,
   "metadata": {},
   "outputs": [],
   "source": [
    "import chromedriver_autoinstaller\n",
    "from selenium import webdriver\n",
    "\n",
    "chromedriver_autoinstaller.install() # chromedriver 최신버전설치\n",
    "browser = webdriver.Chrome()    # 브라우저 열기"
   ]
  },
  {
   "cell_type": "code",
   "execution_count": null,
   "metadata": {},
   "outputs": [],
   "source": [
    "# 다음뉴스 페이지 접속하기\n",
    "url = 'https://news.v.daum.net/v/20210311090051159'\n",
    "browser.get(url)"
   ]
  },
  {
   "cell_type": "markdown",
   "metadata": {},
   "source": [
    "## HTML에서 정보 찾기 by BeautifulSoup\n",
    "\n",
    "- soup = `BeautifulSoup`(html, `'html.parser'`)\n",
    "    - html :  html 데이터\n",
    "    - `'html.parser'` : html 해석기.  문자열(\" \")로 똑같이 기입해야 함"
   ]
  },
  {
   "cell_type": "code",
   "execution_count": null,
   "metadata": {},
   "outputs": [],
   "source": [
    "# HTML 다운 받기 & 해석하기\n",
    "from bs4 import BeautifulSoup\n",
    "\n",
    "soup = BeautifulSoup(browser.page_source, 'html.parser')"
   ]
  },
  {
   "cell_type": "markdown",
   "metadata": {},
   "source": [
    "#### 원하는 태그 찾기\n",
    "- tag_list = soup.`select`('태그정보')\n",
    "- tag_list = soup.select(`'태그명'`)\n",
    "- tag_list = soup.select(`.class속성값`)\n",
    "- tag_list = soup.select(`#id속성값`)\n",
    "- tag_list = soup.select(`부모태그정보 > 자식태그정보`)"
   ]
  },
  {
   "cell_type": "code",
   "execution_count": null,
   "metadata": {},
   "outputs": [],
   "source": [
    "# 기사 제목 찾기\n",
    "tag_list  = soup.select('h3.tit_view')  # 태그 리스트 찾기"
   ]
  },
  {
   "cell_type": "markdown",
   "metadata": {},
   "source": [
    "#### 태그 하나 선택하기\n",
    "- tag = tag_list[0]"
   ]
  },
  {
   "cell_type": "code",
   "execution_count": null,
   "metadata": {},
   "outputs": [],
   "source": [
    "tag = tag_list[0]  # 하나의 태그 선택하기\n",
    "tag"
   ]
  },
  {
   "cell_type": "markdown",
   "metadata": {},
   "source": [
    "#### 태그에서 원하는 정보 추출하기\n",
    "\n",
    "- tag.`text`  :  화면에 보이는 글만  (태그 기호 제거)\n",
    "- tag`['속성명']` : 태그의 특정 속성값 가져오기"
   ]
  },
  {
   "cell_type": "code",
   "execution_count": null,
   "metadata": {},
   "outputs": [],
   "source": [
    "title = tag.text  # 태그에서 원하는 값 추출하기\n",
    "title"
   ]
  },
  {
   "cell_type": "code",
   "execution_count": null,
   "metadata": {},
   "outputs": [],
   "source": []
  }
 ],
 "metadata": {
  "kernelspec": {
   "display_name": "Python 3",
   "language": "python",
   "name": "python3"
  },
  "language_info": {
   "codemirror_mode": {
    "name": "ipython",
    "version": 3
   },
   "file_extension": ".py",
   "mimetype": "text/x-python",
   "name": "python",
   "nbconvert_exporter": "python",
   "pygments_lexer": "ipython3",
   "version": "3.8.8"
  }
 },
 "nbformat": 4,
 "nbformat_minor": 4
}
