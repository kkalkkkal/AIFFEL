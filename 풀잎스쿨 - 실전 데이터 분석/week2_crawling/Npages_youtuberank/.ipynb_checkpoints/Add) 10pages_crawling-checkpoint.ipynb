{
 "cells": [
  {
   "cell_type": "markdown",
   "metadata": {},
   "source": [
    "## (추가)여러페이지 가져오기"
   ]
  },
  {
   "cell_type": "markdown",
   "metadata": {},
   "source": [
    "- 2페이지 정보도 가져오고 싶다면????? "
   ]
  },
  {
   "cell_type": "code",
   "execution_count": null,
   "metadata": {},
   "outputs": [],
   "source": [
    "import chromedriver_autoinstaller\n",
    "from selenium import webdriver\n",
    "from bs4 import BeautifulSoup\n",
    "\n",
    "# chromedriver 최신버전설치\n",
    "chromedriver_autoinstaller.install()\n",
    "# 브라우저 열기\n",
    "browser = webdriver.Chrome()\n"
   ]
  },
  {
   "cell_type": "code",
   "execution_count": 2,
   "metadata": {},
   "outputs": [
    {
     "name": "stdout",
     "output_type": "stream",
     "text": [
      "https://youtube-rank.com/board/bbs/board.php?bo_table=youtube&page=2\n"
     ]
    }
   ],
   "source": [
    "# URL 에서 페이지 정보 변경 가능(문자열 포매팅 활용하기!)\n",
    "page = 2\n",
    "\n",
    "url = f\"https://youtube-rank.com/board/bbs/board.php?bo_table=youtube&page={page}\"\n",
    "print(url)"
   ]
  },
  {
   "cell_type": "markdown",
   "metadata": {},
   "source": [
    "- 여러 페이지 / 다수의 반복작업 진행시 -> 진행 상태바 추가하기"
   ]
  },
  {
   "cell_type": "code",
   "execution_count": 3,
   "metadata": {},
   "outputs": [],
   "source": [
    "# ! pip install tqdm  # tqdm 라이브러리 설치하기"
   ]
  },
  {
   "cell_type": "code",
   "execution_count": 4,
   "metadata": {},
   "outputs": [],
   "source": [
    "# 진행상태바 추가하기\n",
    "from tqdm.notebook import tqdm\n",
    "\n",
    "# for 변수 in tqdm(그룹):\n",
    "    # 실행문\n",
    "    # 실행문"
   ]
  },
  {
   "cell_type": "markdown",
   "metadata": {},
   "source": [
    "# 주의!)\n",
    "- 여러 페이지 접속시 \n",
    "- 짧게/여러번 접속할 경우 서버 다운/차단 등 이슈 발생\n",
    "- => time.sleep() 으로 속도 조절"
   ]
  },
  {
   "cell_type": "code",
   "execution_count": 5,
   "metadata": {},
   "outputs": [],
   "source": [
    "import time"
   ]
  },
  {
   "cell_type": "code",
   "execution_count": 6,
   "metadata": {},
   "outputs": [
    {
     "data": {
      "application/vnd.jupyter.widget-view+json": {
       "model_id": "611f976d7ca84ea5bc6f1c81a4751d12",
       "version_major": 2,
       "version_minor": 0
      },
      "text/plain": [
       "HBox(children=(FloatProgress(value=0.0, max=9.0), HTML(value='')))"
      ]
     },
     "metadata": {},
     "output_type": "display_data"
    },
    {
     "name": "stdout",
     "output_type": "stream",
     "text": [
      "\n"
     ]
    }
   ],
   "source": [
    "results = []\n",
    "for page in tqdm(range(1,10)):\n",
    "    url = f\"https://youtube-rank.com/board/bbs/board.php?bo_table=youtube&page={page}\"\n",
    "    browser.get(url)\n",
    "    time.sleep(2)\n",
    "    html = browser.page_source\n",
    "    soup = BeautifulSoup(html, 'html.parser')    \n",
    "    channel_list = soup.select('form > table > tbody > tr')  \n",
    "    for channel in channel_list:\n",
    "\n",
    "        title = channel.select('h1 > a')[0].text.strip()\n",
    "        category = channel.select('p.category')[0].text\n",
    "        subscriber = channel.select('.subscriber_cnt')[0].text\n",
    "        view = channel.select('.view_cnt')[0].text\n",
    "        video = channel.select('.video_cnt')[0].text\n",
    "\n",
    "#         print(title, category, subscriber, view, video)    \n",
    "        data = [title, category, subscriber, view, video]\n",
    "        \n",
    "        results.append(data)"
   ]
  },
  {
   "cell_type": "markdown",
   "metadata": {},
   "source": [
    "## 저장하기"
   ]
  },
  {
   "cell_type": "code",
   "execution_count": 9,
   "metadata": {},
   "outputs": [],
   "source": [
    "import pandas as pd"
   ]
  },
  {
   "cell_type": "code",
   "execution_count": 10,
   "metadata": {},
   "outputs": [
    {
     "data": {
      "text/html": [
       "<div>\n",
       "<style scoped>\n",
       "    .dataframe tbody tr th:only-of-type {\n",
       "        vertical-align: middle;\n",
       "    }\n",
       "\n",
       "    .dataframe tbody tr th {\n",
       "        vertical-align: top;\n",
       "    }\n",
       "\n",
       "    .dataframe thead th {\n",
       "        text-align: right;\n",
       "    }\n",
       "</style>\n",
       "<table border=\"1\" class=\"dataframe\">\n",
       "  <thead>\n",
       "    <tr style=\"text-align: right;\">\n",
       "      <th></th>\n",
       "      <th>title</th>\n",
       "      <th>category</th>\n",
       "      <th>subscriber</th>\n",
       "      <th>view</th>\n",
       "      <th>video</th>\n",
       "    </tr>\n",
       "  </thead>\n",
       "  <tbody>\n",
       "    <tr>\n",
       "      <th>0</th>\n",
       "      <td>BLACKPINK</td>\n",
       "      <td>[음악/댄스/가수]\\n                                \\n...</td>\n",
       "      <td>6810만</td>\n",
       "      <td>203억6621만</td>\n",
       "      <td>390개</td>\n",
       "    </tr>\n",
       "    <tr>\n",
       "      <th>1</th>\n",
       "      <td>HYBE LABELS</td>\n",
       "      <td>[음악/댄스/가수]\\n                                \\n...</td>\n",
       "      <td>6190만</td>\n",
       "      <td>196억9076만</td>\n",
       "      <td>697개</td>\n",
       "    </tr>\n",
       "    <tr>\n",
       "      <th>2</th>\n",
       "      <td>BANGTANTV</td>\n",
       "      <td>[음악/댄스/가수]\\n                                \\n...</td>\n",
       "      <td>5940만</td>\n",
       "      <td>132억7796만</td>\n",
       "      <td>1,618개</td>\n",
       "    </tr>\n",
       "    <tr>\n",
       "      <th>3</th>\n",
       "      <td>SMTOWN</td>\n",
       "      <td>[음악/댄스/가수]\\n                                \\n...</td>\n",
       "      <td>2900만</td>\n",
       "      <td>225억3824만</td>\n",
       "      <td>3,753개</td>\n",
       "    </tr>\n",
       "    <tr>\n",
       "      <th>4</th>\n",
       "      <td>Boram Tube Vlog [보람튜브 브이로그]</td>\n",
       "      <td>[키즈/어린이]\\n                                \\n  ...</td>\n",
       "      <td>2650만</td>\n",
       "      <td>110억5288만</td>\n",
       "      <td>223개</td>\n",
       "    </tr>\n",
       "  </tbody>\n",
       "</table>\n",
       "</div>"
      ],
      "text/plain": [
       "                         title  \\\n",
       "0                    BLACKPINK   \n",
       "1                  HYBE LABELS   \n",
       "2                    BANGTANTV   \n",
       "3                       SMTOWN   \n",
       "4  Boram Tube Vlog [보람튜브 브이로그]   \n",
       "\n",
       "                                            category subscriber       view  \\\n",
       "0  [음악/댄스/가수]\\n                                \\n...      6810만  203억6621만   \n",
       "1  [음악/댄스/가수]\\n                                \\n...      6190만  196억9076만   \n",
       "2  [음악/댄스/가수]\\n                                \\n...      5940만  132억7796만   \n",
       "3  [음악/댄스/가수]\\n                                \\n...      2900만  225억3824만   \n",
       "4  [키즈/어린이]\\n                                \\n  ...      2650만  110억5288만   \n",
       "\n",
       "    video  \n",
       "0    390개  \n",
       "1    697개  \n",
       "2  1,618개  \n",
       "3  3,753개  \n",
       "4    223개  "
      ]
     },
     "execution_count": 10,
     "metadata": {},
     "output_type": "execute_result"
    }
   ],
   "source": [
    "df = pd.DataFrame(results)\n",
    "df.columns = ['title', 'category', 'subscriber', 'view', 'video']\n",
    "df.head()"
   ]
  },
  {
   "cell_type": "code",
   "execution_count": 11,
   "metadata": {},
   "outputs": [],
   "source": [
    "df.to_excel('youtube_rank.xlsx', index = False)"
   ]
  }
 ],
 "metadata": {
  "kernelspec": {
   "display_name": "Python 3",
   "language": "python",
   "name": "python3"
  },
  "language_info": {
   "codemirror_mode": {
    "name": "ipython",
    "version": 3
   },
   "file_extension": ".py",
   "mimetype": "text/x-python",
   "name": "python",
   "nbconvert_exporter": "python",
   "pygments_lexer": "ipython3",
   "version": "3.8.3"
  }
 },
 "nbformat": 4,
 "nbformat_minor": 2
}
