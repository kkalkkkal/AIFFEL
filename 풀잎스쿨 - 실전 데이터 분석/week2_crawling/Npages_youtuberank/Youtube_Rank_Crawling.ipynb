{
 "cells": [
  {
   "cell_type": "markdown",
   "metadata": {},
   "source": [
    "### \"어떤 카테고리가 유튜브에서 인기가 많을까???\""
   ]
  },
  {
   "cell_type": "code",
   "execution_count": null,
   "metadata": {},
   "outputs": [],
   "source": [
    "# URL 확인하기\n",
    "url = \"https://youtube-rank.com/board/bbs/board.php?bo_table=youtube&page=1\"\n",
    "print(url)"
   ]
  },
  {
   "cell_type": "markdown",
   "metadata": {},
   "source": [
    "### 브라우저 열기"
   ]
  },
  {
   "cell_type": "code",
   "execution_count": null,
   "metadata": {},
   "outputs": [],
   "source": [
    "\n",
    "import chromedriver_autoinstaller\n",
    "from selenium import webdriver\n",
    "\n",
    "# chromedriver 최신버전설치\n",
    "chromedriver_autoinstaller.install()\n",
    "# 브라우저 열기\n",
    "browser = webdriver.Chrome()\n"
   ]
  },
  {
   "cell_type": "code",
   "execution_count": null,
   "metadata": {},
   "outputs": [],
   "source": [
    "import time    #  time.sleep(대기시간)\n",
    "import pandas as pd   "
   ]
  },
  {
   "cell_type": "markdown",
   "metadata": {},
   "source": [
    "## 진행 순서\n",
    "\n",
    "1. 라이브러리 불러오기\n",
    "2. 브라우저 열기\n",
    "3. 사이트/웹페이지 접속\n",
    "4. 사이트 html 받기\n",
    "5. html --> BeautifulSoup \n",
    "6. 내가 원하는 정보를 찾기  \n",
    "    6-1.채널 정보 뭉치 찾기   -->  100개  \n",
    "    6-2. 채널별 정보 찾기  \n",
    "        - 채널명 / 조회수 / 구독자수 / 영상수 .... \n",
    "    ※ select()\n",
    "        - .select('태그명')\n",
    "        - .select('.클래스값')\n",
    "        - .select('#아이디값')\n",
    "        - .select('상위태그정보 > 바로아래태그정보')\n",
    "        - .select('더상위태그정보 > 상위태그정보 > 바로아래태그정보')\n",
    "        - .select('상위정보 하위정보')  \n",
    "    - select() 결과는  무조건 [ ]  리스트,   복수 형태\n",
    "    - --> 그중에 하나만 선택한 뒤에    tag\n",
    "    - -->  tag.text   화면에 보이는 글만 가져오기\n",
    "    - -->  tag['속성명']   태그 가지고 있는 속성의 값을 선택\n",
    "    \n",
    "    \n",
    "7. 보관 리스트에 리스트 형태로\n",
    "    - \n",
    "    [\n",
    "        ['채널명','조회수','구독자수'],\n",
    "        ['채널명','조회수','구독자수'],\n",
    "        ['채널명','조회수','구독자수'],\n",
    "        ['채널명','조회수','구독자수'],\n",
    "    ]\n",
    "8. 판다스를 이용해서  엑셀 파일에 저장"
   ]
  },
  {
   "cell_type": "markdown",
   "metadata": {},
   "source": [
    "### 접속하기 -> 페이지 내 정보 가져오기"
   ]
  },
  {
   "cell_type": "code",
   "execution_count": null,
   "metadata": {},
   "outputs": [],
   "source": [
    "print(url)"
   ]
  },
  {
   "cell_type": "code",
   "execution_count": null,
   "metadata": {},
   "outputs": [],
   "source": [
    "# 페이지 접속하기\n",
    "browser.get(url)"
   ]
  },
  {
   "cell_type": "code",
   "execution_count": null,
   "metadata": {},
   "outputs": [],
   "source": [
    "# 브라우저가 현재 열고 있는 페이지 정보 받아오기 -> BeautifulSoup 으로 읽기\n",
    "from bs4 import BeautifulSoup\n",
    "html = browser.page_source\n",
    "soup = BeautifulSoup(html, 'html.parser')"
   ]
  },
  {
   "cell_type": "code",
   "execution_count": null,
   "metadata": {},
   "outputs": [],
   "source": [
    "# soup"
   ]
  },
  {
   "cell_type": "markdown",
   "metadata": {},
   "source": [
    "### 인기 채널 정보 수집하기"
   ]
  },
  {
   "cell_type": "markdown",
   "metadata": {},
   "source": [
    "6. 내가 원하는 정보를 찾기  \n",
    "    6-1.채널 정보 뭉치 찾기   -->  100개  \n",
    "    6-2. 채널별 정보 찾기  \n",
    "        - 채널명 / 조회수 / 구독자수 / 영상수 .... \n",
    "    ※ select()\n",
    "        - .select('태그명')\n",
    "        - .select('.클래스값')\n",
    "        - .select('#아이디값')\n",
    "        - .select('상위태그정보 > 바로아래태그정보')\n",
    "        - .select('더상위태그정보 > 상위태그정보 > 바로아래태그정보')\n",
    "        - .select('상위정보 하위정보')  \n",
    "    - select() 결과는  무조건 [ ]  리스트,   복수 형태\n",
    "    - --> 그중에 하나만 선택한 뒤에    tag\n",
    "    - -->  tag.text   화면에 보이는 글만 가져오기\n",
    "    - -->  tag['속성명']   태그 가지고 있는 속성의 값을 선택\n",
    "    \n",
    "    "
   ]
  },
  {
   "cell_type": "markdown",
   "metadata": {},
   "source": [
    "#### 6-1. 채널별 정보 뭉치 찾기 (100개)"
   ]
  },
  {
   "cell_type": "code",
   "execution_count": null,
   "metadata": {},
   "outputs": [],
   "source": [
    "# 크롬브라우저 -> 개발자도구 활용시   <tr> 태그에 채널별 정보뭉치(총 100개)가 있는 것 확인 가능\n",
    "\n",
    "channel_list = soup.select('tr')   # soup.select('tr') ->  \" soup 에서 태그명이 tr 인 거 다 찾아줘~!\"  \n",
    "len(channel_list)                  # 102 ->   찾고 있는 100개 외에 2개의 다른 정보들도 포함되어 있음"
   ]
  },
  {
   "cell_type": "code",
   "execution_count": null,
   "metadata": {},
   "outputs": [],
   "source": [
    "# 100개가 나올때까지 정보를 하나씩 추가해가며 찾습니다. \n",
    "channel_list = soup.select('tbody > tr')  #  \"soup 에서 tbody 바로 아래에 있는 tr 태그 다 찾아줘\"\n",
    "len(channel_list)"
   ]
  },
  {
   "cell_type": "code",
   "execution_count": null,
   "metadata": {},
   "outputs": [],
   "source": [
    "# 100개가 나올때까지 정보를 하나씩 추가해가며 찾습니다. \n",
    "channel_list = soup.select('table > tbody > tr')  #  \"soup 에서 table 바로 아래의, tbody 바로 아래에 있는 tr 태그 다 찾아줘\"\n",
    "len(channel_list)"
   ]
  },
  {
   "cell_type": "code",
   "execution_count": null,
   "metadata": {},
   "outputs": [],
   "source": [
    "# 100개가 나올때까지 정보를 하나씩 추가해가며 찾습니다. \n",
    "\n",
    "#  \"soup 에서 form 바로 아래 table 바로 아래의, tbody 바로 아래에 있는 tr 태그 다 찾아줘\"\n",
    "channel_list = soup.select('form > table > tbody > tr')  \n",
    "len(channel_list)   # 100 !!!  원하는 채널별 정보 뭉치를 딱 찾았습니다 !! "
   ]
  },
  {
   "cell_type": "code",
   "execution_count": null,
   "metadata": {
    "scrolled": true
   },
   "outputs": [],
   "source": [
    "# 찾은 데이터들을 하나씩 살펴봅니다. \n",
    "channel_list[0]"
   ]
  },
  {
   "cell_type": "code",
   "execution_count": null,
   "metadata": {},
   "outputs": [],
   "source": [
    "channel_list[-1]"
   ]
  },
  {
   "cell_type": "code",
   "execution_count": null,
   "metadata": {},
   "outputs": [],
   "source": [
    "channel = channel_list[0]\n",
    "channel"
   ]
  },
  {
   "cell_type": "markdown",
   "metadata": {},
   "source": [
    "#### 6-2. 각 채널별 정보 찾기"
   ]
  },
  {
   "cell_type": "code",
   "execution_count": null,
   "metadata": {},
   "outputs": [],
   "source": [
    "# 채널 정보뭉치 100개 중 1개 뭉치 선택하기. 여기서는 첫 번째(인덱스번호 0) 을 선택하겠습니다. \n",
    "channel = channel_list[0]\n",
    "channel"
   ]
  },
  {
   "cell_type": "code",
   "execution_count": null,
   "metadata": {},
   "outputs": [],
   "source": [
    "## 채널명 찾기\n",
    "\n",
    "title = channel.select('a')  # \"channel 에서 태그명이 a 인 것 다 찾아줘\"\n",
    "len(title)      # 찾고 싶은 개수/정답??? 1개  "
   ]
  },
  {
   "cell_type": "markdown",
   "metadata": {},
   "source": [
    "생각해보기)    `soup`.select()       ↔     `channel`.select()"
   ]
  },
  {
   "cell_type": "code",
   "execution_count": null,
   "metadata": {},
   "outputs": [],
   "source": [
    "# 채널명 찾기\n",
    "title = channel.select('h1 > a')  # \"channel 에서 태그명 h1 바로 아래에 있는 태그명 a 인 것 다 찾아줘\"\n",
    "len(title)    # 원하는 데이터 1개만 딱 찾음!"
   ]
  },
  {
   "cell_type": "code",
   "execution_count": null,
   "metadata": {},
   "outputs": [],
   "source": [
    "# 채널명 데이터 정리하기(단계별로)\n",
    "title = channel.select('h1 > a')\n",
    "print(title)\n",
    "print('-'*120)\n",
    "\n",
    "title = channel.select('h1 > a')[0] # 리스트 0 원소 --> 1개 태그\n",
    "print(title)\n",
    "print('-'*120)\n",
    "\n",
    "title = channel.select('h1 > a')[0].text # 태그 기호 빼줘 (화면에 보이는 글만)\n",
    "print(title)\n",
    "print('-'*120)\n",
    "\n",
    "title = channel.select('h1 > a')[0].text.strip() # 앞 뒤에 있는 공백문자 제거 (# \\n 줄바꿈     \\w  탭문자)\n",
    "print(title)\n",
    "print('-'*120)"
   ]
  },
  {
   "cell_type": "code",
   "execution_count": null,
   "metadata": {},
   "outputs": [],
   "source": [
    "# 채널명 정리하기 (실제로 진행할때에는  왼쪽 -> 오른쪽으로 가면서 하나씩 정리하기)\n",
    "title = channel.select('h1 > a')[0].text.strip() # 앞 뒤에 있는 공백문자 제거\n",
    "print(title)"
   ]
  },
  {
   "cell_type": "code",
   "execution_count": null,
   "metadata": {},
   "outputs": [],
   "source": [
    "# # 1개 채널 정보 정리/수집하기\n",
    "# channel = channel_list[0]\n",
    "# title = channel.select('h1 > a')[0].text.strip() \n",
    "# category = channel.select('p.category')[0].text.strip() \n",
    "# subscriber = channel.select('td.subscriber_cnt')[0].text \n",
    "# print(title, category, subscriber)"
   ]
  },
  {
   "cell_type": "code",
   "execution_count": null,
   "metadata": {},
   "outputs": [],
   "source": [
    "# 유사한 방법으로 카테고리 정보 정리하기\n",
    "\n",
    "# category = channel.select('p')\n",
    "# category = channel.select('p.category') #리스트\n",
    "# category = channel.select('p.category')[0] #태그 하나만 선택\n",
    "# category = channel.select('p.category')[0].text #태그 하나만 선택\n",
    "category = channel.select('p.category')[0].text.strip() # 앞 뒤 공백 제거\n",
    "category"
   ]
  },
  {
   "cell_type": "code",
   "execution_count": null,
   "metadata": {},
   "outputs": [],
   "source": [
    "# 유사한 방법으로 구독자수 정보 정리하기\n",
    "# subscriber = channel.select('td') # 7개... \n",
    "# subscriber = channel.select('td.subscriber_cnt') # 태그명 + 클래스속성값 \n",
    "# subscriber = channel.select('td.subscriber_cnt')[0] # 1개 태그만 선택\n",
    "subscriber = channel.select('td.subscriber_cnt')[0].text #  태그 기호 제거\n",
    "subscriber"
   ]
  },
  {
   "cell_type": "code",
   "execution_count": null,
   "metadata": {},
   "outputs": [],
   "source": [
    "# 조회수 수집하기\n",
    "view  =  channel.select('td.view_cnt')[0].text\n",
    "view"
   ]
  },
  {
   "cell_type": "code",
   "execution_count": null,
   "metadata": {},
   "outputs": [],
   "source": [
    "# 영상수 수집하기\n",
    "video =  channel.select('td.video_cnt')[0].text\n",
    "video"
   ]
  },
  {
   "cell_type": "code",
   "execution_count": null,
   "metadata": {},
   "outputs": [],
   "source": [
    "# 채널 하나 정보 수집하기 (위에 진행한 코드들 정리)\n",
    "# 채널 선택하기(첫 번째)\n",
    "channel = channel_list[0]\n",
    "\n",
    "# 1개 채널 정보 정리하기\n",
    "title = channel.select('h1 > a')[0].text.strip()\n",
    "category = channel.select('p.category')[0].text.strip()\n",
    "subscriber = channel.select('td.subscriber_cnt')[0].text\n",
    "view  =  channel.select('td.view_cnt')[0].text\n",
    "video =  channel.select('td.video_cnt')[0].text\n",
    "\n",
    "# 출력하기\n",
    "print(title, category, subscriber, view, video)"
   ]
  },
  {
   "cell_type": "markdown",
   "metadata": {},
   "source": [
    "### 1개채널 정보 수집 -> 여러개 채널 정보 수집하기"
   ]
  },
  {
   "cell_type": "code",
   "execution_count": null,
   "metadata": {},
   "outputs": [],
   "source": [
    "channel = channel_list[0]  ## 1번째 뭉치\n",
    "\n",
    "# 1개 채널 정보 정리하기\n",
    "title = channel.select('h1 > a')[0].text.strip()\n",
    "category = channel.select('p.category')[0].text.strip()\n",
    "subscriber = channel.select('td.subscriber_cnt')[0].text\n",
    "view  =  channel.select('td.view_cnt')[0].text\n",
    "video =  channel.select('td.video_cnt')[0].text\n",
    "# 출력하기\n",
    "print(title, category, subscriber, view, video)\n",
    "\n",
    "channel = channel_list[1]   ## 2번째 뭉치\n",
    "\n",
    "# 1개 채널 정보 정리하기\n",
    "title = channel.select('h1 > a')[0].text.strip()\n",
    "category = channel.select('p.category')[0].text.strip()\n",
    "subscriber = channel.select('td.subscriber_cnt')[0].text\n",
    "view  =  channel.select('td.view_cnt')[0].text\n",
    "video =  channel.select('td.video_cnt')[0].text\n",
    "# 출력하기\n",
    "print(title, category, subscriber, view, video)\n",
    "\n",
    "\n",
    "channel = channel_list[2]   ##  3번째 뭉치\n",
    "\n",
    "# 1개 채널 정보 정리하기\n",
    "title = channel.select('h1 > a')[0].text.strip()\n",
    "category = channel.select('p.category')[0].text.strip()\n",
    "subscriber = channel.select('td.subscriber_cnt')[0].text\n",
    "view  =  channel.select('td.view_cnt')[0].text\n",
    "video =  channel.select('td.video_cnt')[0].text\n",
    "# 출력하기\n",
    "print(title, category, subscriber, view, video)\n",
    "\n",
    "# .......  이걸 왜 하나씩 하고 있을까.... -> 컴퓨터에게!!!!"
   ]
  },
  {
   "cell_type": "code",
   "execution_count": null,
   "metadata": {},
   "outputs": [],
   "source": [
    "# 반복문 활용하기 -> 100개 채널 정보 출력하기\n",
    "\n",
    "for channel in channel_list :    #  \"channel_list 에서 순서대로 하나씩 꺼내서 channel 에 넣어줘\"\n",
    "\n",
    "    # 1개 채널 정보 정리하기\n",
    "    title = channel.select('h1 > a')[0].text.strip()\n",
    "    category = channel.select('p.category')[0].text.strip()\n",
    "    subscriber = channel.select('td.subscriber_cnt')[0].text\n",
    "    view  =  channel.select('td.view_cnt')[0].text\n",
    "    video =  channel.select('td.video_cnt')[0].text\n",
    "    # 출력하기\n",
    "    print(title, category, subscriber, view, video)"
   ]
  },
  {
   "cell_type": "code",
   "execution_count": null,
   "metadata": {},
   "outputs": [],
   "source": [
    "# 반복문 활용하기 -> 100개 채널 정보 저장하기 \n",
    "# 리스트에 리스트 형태로 저장하기 \n",
    "\n",
    "results = [ ]   #  <-- 전체 정보가 저장될 공간\n",
    "for channel in channel_list :    #  \"channel_list 에서 순서대로 하나씩 꺼내서 channel 에 넣어줘\"\n",
    "\n",
    "    # 1개 채널 정보 정리하기\n",
    "    title = channel.select('h1 > a')[0].text.strip()\n",
    "    category = channel.select('p.category')[0].text.strip()\n",
    "    subscriber = channel.select('td.subscriber_cnt')[0].text\n",
    "    view  =  channel.select('td.view_cnt')[0].text\n",
    "    video =  channel.select('td.video_cnt')[0].text\n",
    "    \n",
    "    \n",
    "    data = [title, category, subscriber, view, video]    # 1개 채널 정보\n",
    "    results.append(data)   # results 에 추가하기"
   ]
  },
  {
   "cell_type": "code",
   "execution_count": null,
   "metadata": {},
   "outputs": [],
   "source": [
    "results"
   ]
  },
  {
   "cell_type": "code",
   "execution_count": null,
   "metadata": {},
   "outputs": [],
   "source": [
    "# 엑셀 파일에 저장하기\n",
    "df = pd.DataFrame(results)   # D F 대문자\n",
    "df"
   ]
  },
  {
   "cell_type": "code",
   "execution_count": null,
   "metadata": {},
   "outputs": [],
   "source": [
    "# 컬럼명 지정\n",
    "df.columns = ['title', 'category', 'subscriber', 'view', 'video']\n",
    "df"
   ]
  },
  {
   "cell_type": "code",
   "execution_count": null,
   "metadata": {},
   "outputs": [],
   "source": [
    "# 데이터 프레임 저장하기\n",
    "df.to_excel('./youtube_page1.xlsx', index = False)     # F 대문자,   초록색 "
   ]
  },
  {
   "cell_type": "code",
   "execution_count": null,
   "metadata": {},
   "outputs": [],
   "source": [
    "# 절대경로  --> 'c:/informs/ddldd.xlsx'\n",
    "# 상대경로  \n",
    "#  -->  './aaa/파일.xlsx'    # 현재 경로 아래에 있는 aaa 폴더 아래 파일.xlsx \n",
    "#  -->  '../파일.xlsx'     # 현재 경로 바로 위에 있는 폴더 내에 파일.xlsx   --> 비추천"
   ]
  },
  {
   "cell_type": "markdown",
   "metadata": {},
   "source": [
    "### 페이지 접속부터 수집/저장하기 코드 정리"
   ]
  },
  {
   "cell_type": "code",
   "execution_count": null,
   "metadata": {},
   "outputs": [],
   "source": [
    "# 접속하기\n",
    "url = \"https://youtube-rank.com/board/bbs/board.php?bo_table=youtube&page=1\"\n",
    "browser.get(url)\n",
    "\n",
    "# 정보 가져오기\n",
    "html = browser.page_source\n",
    "soup = BeautifulSoup(html, 'html.parser')\n",
    "\n",
    "# 채널 뭉치(100개) 찾기\n",
    "channel_list = soup.select('form > table > tbody > tr')  \n",
    "\n",
    "# 채널별 정보 수집/정리 -> 저장하기\n",
    "results = [ ]   #  <-- 전체 정보가 저장될 공간\n",
    "for channel in channel_list :    #  \"channel_list 에서 순서대로 하나씩 꺼내서 channel 에 넣어줘\"\n",
    "\n",
    "    # 1개 채널 정보 정리하기\n",
    "    title = channel.select('h1 > a')[0].text.strip()\n",
    "    category = channel.select('p.category')[0].text.strip()\n",
    "    subscriber = channel.select('td.subscriber_cnt')[0].text\n",
    "    view  =  channel.select('td.view_cnt')[0].text\n",
    "    video =  channel.select('td.video_cnt')[0].text\n",
    "    data = [title, category, subscriber, view, video]    # 1개 채널 정보\n",
    "    results.append(data)   # results 에 추가하기\n",
    "results"
   ]
  },
  {
   "cell_type": "code",
   "execution_count": null,
   "metadata": {},
   "outputs": [],
   "source": []
  }
 ],
 "metadata": {
  "kernelspec": {
   "display_name": "Python 3",
   "language": "python",
   "name": "python3"
  },
  "language_info": {
   "codemirror_mode": {
    "name": "ipython",
    "version": 3
   },
   "file_extension": ".py",
   "mimetype": "text/x-python",
   "name": "python",
   "nbconvert_exporter": "python",
   "pygments_lexer": "ipython3",
   "version": "3.8.8"
  }
 },
 "nbformat": 4,
 "nbformat_minor": 2
}
