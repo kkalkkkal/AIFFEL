{
 "cells": [
  {
   "cell_type": "markdown",
   "id": "0eaa3494",
   "metadata": {},
   "source": [
    "# Step 1. 데이터 다운로드\n",
    "\n",
    "data 폴더에 aiffel에서 받은 데이터 파일을 저장해둠. "
   ]
  },
  {
   "cell_type": "markdown",
   "id": "f8f8331c",
   "metadata": {},
   "source": [
    "# Step 2. 데이터 읽어오기\n"
   ]
  },
  {
   "cell_type": "code",
   "execution_count": 2,
   "id": "ca4d6f52",
   "metadata": {},
   "outputs": [
    {
     "ename": "UnicodeDecodeError",
     "evalue": "'cp949' codec can't decode byte 0xe2 in position 4: illegal multibyte sequence",
     "output_type": "error",
     "traceback": [
      "\u001b[1;31m---------------------------------------------------------------------------\u001b[0m",
      "\u001b[1;31mUnicodeDecodeError\u001b[0m                        Traceback (most recent call last)",
      "\u001b[1;32m~\\AppData\\Local\\Temp/ipykernel_18068/1811004468.py\u001b[0m in \u001b[0;36m<module>\u001b[1;34m\u001b[0m\n\u001b[0;32m     11\u001b[0m \u001b[1;32mfor\u001b[0m \u001b[0mtxt_file\u001b[0m \u001b[1;32min\u001b[0m \u001b[0mtxt_list\u001b[0m\u001b[1;33m:\u001b[0m\u001b[1;33m\u001b[0m\u001b[1;33m\u001b[0m\u001b[0m\n\u001b[0;32m     12\u001b[0m     \u001b[1;32mwith\u001b[0m \u001b[0mopen\u001b[0m\u001b[1;33m(\u001b[0m\u001b[0mtxt_file\u001b[0m\u001b[1;33m,\u001b[0m \u001b[1;34m\"r\"\u001b[0m\u001b[1;33m)\u001b[0m \u001b[1;32mas\u001b[0m \u001b[0mf\u001b[0m\u001b[1;33m:\u001b[0m\u001b[1;33m\u001b[0m\u001b[1;33m\u001b[0m\u001b[0m\n\u001b[1;32m---> 13\u001b[1;33m         \u001b[0mraw\u001b[0m \u001b[1;33m=\u001b[0m \u001b[0mf\u001b[0m\u001b[1;33m.\u001b[0m\u001b[0mread\u001b[0m\u001b[1;33m(\u001b[0m\u001b[1;33m)\u001b[0m\u001b[1;33m.\u001b[0m\u001b[0msplitlines\u001b[0m\u001b[1;33m(\u001b[0m\u001b[1;33m)\u001b[0m\u001b[1;33m\u001b[0m\u001b[1;33m\u001b[0m\u001b[0m\n\u001b[0m\u001b[0;32m     14\u001b[0m         \u001b[0mraw_corpus\u001b[0m\u001b[1;33m.\u001b[0m\u001b[0mextend\u001b[0m\u001b[1;33m(\u001b[0m\u001b[0mraw\u001b[0m\u001b[1;33m)\u001b[0m\u001b[1;33m\u001b[0m\u001b[1;33m\u001b[0m\u001b[0m\n\u001b[0;32m     15\u001b[0m \u001b[1;33m\u001b[0m\u001b[0m\n",
      "\u001b[1;31mUnicodeDecodeError\u001b[0m: 'cp949' codec can't decode byte 0xe2 in position 4: illegal multibyte sequence"
     ]
    }
   ],
   "source": [
    "import glob\n",
    "import os\n",
    "\n",
    "txt_file_path = './data/*'\n",
    "\n",
    "txt_list = glob.glob(txt_file_path)\n",
    "\n",
    "raw_corpus = []\n",
    "\n",
    "# 여러개의 txt 파일을 모두 읽어서 raw_corpus 에 담습니다.\n",
    "for txt_file in txt_list:\n",
    "    with open(txt_file, \"r\") as f:\n",
    "        raw = f.read().splitlines()\n",
    "        raw_corpus.extend(raw)\n",
    "\n",
    "print(\"데이터 크기:\", len(raw_corpus))\n",
    "print(\"Examples:\\n\", raw_corpus[:3])"
   ]
  },
  {
   "cell_type": "markdown",
   "id": "fe178ece",
   "metadata": {},
   "source": [
    "\"UnicodeDecodeError: 'cp949' codec can't decode byte 0xe2 in position 4: illegal multibyte sequence\"\n",
    "\n",
    "코덱 읽기 오류가 발생했는데 이는 아래와 같이 코드를 수정하면 해결된다. "
   ]
  },
  {
   "cell_type": "code",
   "execution_count": 1,
   "id": "09f4c7a8",
   "metadata": {},
   "outputs": [
    {
     "name": "stdout",
     "output_type": "stream",
     "text": [
      "데이터 크기: 187088\n",
      "Examples:\n",
      " ['Looking for some education', 'Made my way into the night', 'All that bullshit conversation', \"Baby, can't you read the signs? I won't bore you with the details, baby\", \"I don't even wanna waste your time\", \"Let's just say that maybe\", 'You could help me ease my mind', \"I ain't Mr. Right But if you're looking for fast love\", \"If that's love in your eyes\", \"It's more than enough\", 'Had some bad love', \"So fast love is all that I've got on my mind Ooh, ooh\", 'Ooh, ooh Looking for some affirmation', 'Made my way into the sun', 'My friends got their ladies', \"And they're all having babies\", \"I just wanna have some fun I won't bore you with the details, baby\", \"I don't even wanna waste your time\", \"Let's just say that maybe\", 'You could help me ease my mind', \"I ain't Mr. Right But if you're looking for fast love\", \"If that's love in your eyes\", \"It's more than enough\", \"I've had some bad love\", \"So fast love is all that I've got on my mind Ooh, ooh\", 'Baby, baby', 'Ooh, ooh', 'Baby, baby', 'Ooh, ooh', 'Baby, baby']\n"
     ]
    }
   ],
   "source": [
    "import glob\n",
    "import os\n",
    "\n",
    "txt_file_path = './data/*'\n",
    "\n",
    "txt_list = glob.glob(txt_file_path)\n",
    "\n",
    "raw_corpus = []\n",
    "\n",
    "# 여러개의 txt 파일을 모두 읽어서 raw_corpus 에 담습니다.\n",
    "for txt_file in txt_list:\n",
    "    with open(txt_file, 'rt', encoding='UTF8') as f:\n",
    "        raw = f.read().splitlines()\n",
    "        raw_corpus.extend(raw)\n",
    "\n",
    "print(\"데이터 크기:\", len(raw_corpus))\n",
    "print(\"Examples:\\n\", raw_corpus[:30])"
   ]
  },
  {
   "cell_type": "markdown",
   "id": "fd734dfa",
   "metadata": {},
   "source": [
    "정상적으로 데이터를 읽어온 것을 확인할 수 있다. "
   ]
  },
  {
   "cell_type": "markdown",
   "id": "99a6e615",
   "metadata": {},
   "source": [
    "# Step 3. 데이터 정제\n"
   ]
  },
  {
   "cell_type": "code",
   "execution_count": 2,
   "id": "e28bf0b1",
   "metadata": {},
   "outputs": [
    {
     "name": "stdout",
     "output_type": "stream",
     "text": [
      "['Looking for some education', 'Made my way into the night', 'All that bullshit conversation', \"Baby, can't you read the signs? I won't bore you with the details, baby\", \"I don't even wanna waste your time\", \"Let's just say that maybe\", 'You could help me ease my mind', \"I ain't Mr. Right But if you're looking for fast love\", \"If that's love in your eyes\"]\n"
     ]
    }
   ],
   "source": [
    "# 앞에서부터 10라인만 화면에 출력해 볼까요?\n",
    "print(raw_corpus[:9])"
   ]
  },
  {
   "cell_type": "markdown",
   "id": "ad0c5d13",
   "metadata": {},
   "source": [
    "여기서 볼 수 있는 건 축약어로 don't라던가 Let's 등의 표현이 자주 보인다는 점이다. 따라서 기존 코드에 ' <- 이 작은따옴표는 정제할 때 추가로 제외 시켜야한다.  "
   ]
  },
  {
   "cell_type": "code",
   "execution_count": 3,
   "id": "c0671450",
   "metadata": {},
   "outputs": [
    {
     "name": "stdout",
     "output_type": "stream",
     "text": [
      "Requirement already satisfied: tensorflow in c:\\users\\s_kmh0207\\anaconda3\\lib\\site-packages (2.3.0rc0)\n",
      "Requirement already satisfied: absl-py>=0.7.0 in c:\\users\\s_kmh0207\\anaconda3\\lib\\site-packages (from tensorflow) (0.12.0)\n",
      "Requirement already satisfied: gast==0.3.3 in c:\\users\\s_kmh0207\\anaconda3\\lib\\site-packages (from tensorflow) (0.3.3)\n",
      "Requirement already satisfied: h5py<2.11.0,>=2.10.0 in c:\\users\\s_kmh0207\\anaconda3\\lib\\site-packages (from tensorflow) (2.10.0)\n",
      "Requirement already satisfied: grpcio>=1.8.6 in c:\\users\\s_kmh0207\\anaconda3\\lib\\site-packages (from tensorflow) (1.34.1)\n",
      "Requirement already satisfied: tensorboard<2.3.0,>=2.2.0 in c:\\users\\s_kmh0207\\anaconda3\\lib\\site-packages (from tensorflow) (2.2.2)\n",
      "Requirement already satisfied: keras-preprocessing<1.2,>=1.1.1 in c:\\users\\s_kmh0207\\anaconda3\\lib\\site-packages (from tensorflow) (1.1.2)\n",
      "Collecting numpy<1.19.0,>=1.16.0\n",
      "  Using cached numpy-1.18.5-cp38-cp38-win_amd64.whl (12.8 MB)\n",
      "Requirement already satisfied: protobuf>=3.9.2 in c:\\users\\s_kmh0207\\anaconda3\\lib\\site-packages (from tensorflow) (3.17.2)\n",
      "Requirement already satisfied: tf-estimator-nightly<2.3.0.dev2020062302,>=2.3.0.dev2020062301 in c:\\users\\s_kmh0207\\anaconda3\\lib\\site-packages (from tensorflow) (2.3.0.dev2020062301)\n",
      "Requirement already satisfied: wrapt>=1.11.1 in c:\\users\\s_kmh0207\\anaconda3\\lib\\site-packages (from tensorflow) (1.12.1)\n",
      "Requirement already satisfied: six>=1.12.0 in c:\\users\\s_kmh0207\\anaconda3\\lib\\site-packages (from tensorflow) (1.15.0)\n",
      "Requirement already satisfied: termcolor>=1.1.0 in c:\\users\\s_kmh0207\\anaconda3\\lib\\site-packages (from tensorflow) (1.1.0)\n",
      "Requirement already satisfied: google-pasta>=0.1.8 in c:\\users\\s_kmh0207\\anaconda3\\lib\\site-packages (from tensorflow) (0.2.0)\n",
      "Requirement already satisfied: opt-einsum>=2.3.2 in c:\\users\\s_kmh0207\\anaconda3\\lib\\site-packages (from tensorflow) (3.3.0)\n",
      "Requirement already satisfied: astunparse==1.6.3 in c:\\users\\s_kmh0207\\anaconda3\\lib\\site-packages (from tensorflow) (1.6.3)\n",
      "Requirement already satisfied: scipy==1.4.1 in c:\\users\\s_kmh0207\\anaconda3\\lib\\site-packages (from tensorflow) (1.4.1)\n",
      "Requirement already satisfied: wheel>=0.26 in c:\\users\\s_kmh0207\\anaconda3\\lib\\site-packages (from tensorflow) (0.36.2)\n",
      "Requirement already satisfied: markdown>=2.6.8 in c:\\users\\s_kmh0207\\anaconda3\\lib\\site-packages (from tensorboard<2.3.0,>=2.2.0->tensorflow) (3.3.4)\n",
      "Requirement already satisfied: tensorboard-plugin-wit>=1.6.0 in c:\\users\\s_kmh0207\\anaconda3\\lib\\site-packages (from tensorboard<2.3.0,>=2.2.0->tensorflow) (1.8.0)\n",
      "Requirement already satisfied: google-auth-oauthlib<0.5,>=0.4.1 in c:\\users\\s_kmh0207\\anaconda3\\lib\\site-packages (from tensorboard<2.3.0,>=2.2.0->tensorflow) (0.4.4)\n",
      "Requirement already satisfied: requests<3,>=2.21.0 in c:\\users\\s_kmh0207\\anaconda3\\lib\\site-packages (from tensorboard<2.3.0,>=2.2.0->tensorflow) (2.25.1)\n",
      "Requirement already satisfied: google-auth<2,>=1.6.3 in c:\\users\\s_kmh0207\\anaconda3\\lib\\site-packages (from tensorboard<2.3.0,>=2.2.0->tensorflow) (1.30.1)\n",
      "Requirement already satisfied: setuptools>=41.0.0 in c:\\users\\s_kmh0207\\anaconda3\\lib\\site-packages (from tensorboard<2.3.0,>=2.2.0->tensorflow) (52.0.0.post20210125)\n",
      "Requirement already satisfied: werkzeug>=0.11.15 in c:\\users\\s_kmh0207\\anaconda3\\lib\\site-packages (from tensorboard<2.3.0,>=2.2.0->tensorflow) (1.0.1)\n",
      "Requirement already satisfied: rsa<5,>=3.1.4 in c:\\users\\s_kmh0207\\anaconda3\\lib\\site-packages (from google-auth<2,>=1.6.3->tensorboard<2.3.0,>=2.2.0->tensorflow) (4.7.2)\n",
      "Requirement already satisfied: pyasn1-modules>=0.2.1 in c:\\users\\s_kmh0207\\anaconda3\\lib\\site-packages (from google-auth<2,>=1.6.3->tensorboard<2.3.0,>=2.2.0->tensorflow) (0.2.8)\n",
      "Requirement already satisfied: cachetools<5.0,>=2.0.0 in c:\\users\\s_kmh0207\\anaconda3\\lib\\site-packages (from google-auth<2,>=1.6.3->tensorboard<2.3.0,>=2.2.0->tensorflow) (4.2.2)\n",
      "Requirement already satisfied: requests-oauthlib>=0.7.0 in c:\\users\\s_kmh0207\\anaconda3\\lib\\site-packages (from google-auth-oauthlib<0.5,>=0.4.1->tensorboard<2.3.0,>=2.2.0->tensorflow) (1.3.0)\n",
      "Requirement already satisfied: urllib3<1.27,>=1.21.1 in c:\\users\\s_kmh0207\\anaconda3\\lib\\site-packages (from requests<3,>=2.21.0->tensorboard<2.3.0,>=2.2.0->tensorflow) (1.26.4)\n",
      "Requirement already satisfied: idna<3,>=2.5 in c:\\users\\s_kmh0207\\anaconda3\\lib\\site-packages (from requests<3,>=2.21.0->tensorboard<2.3.0,>=2.2.0->tensorflow) (2.10)\n",
      "Requirement already satisfied: certifi>=2017.4.17 in c:\\users\\s_kmh0207\\anaconda3\\lib\\site-packages (from requests<3,>=2.21.0->tensorboard<2.3.0,>=2.2.0->tensorflow) (2020.12.5)\n",
      "Requirement already satisfied: chardet<5,>=3.0.2 in c:\\users\\s_kmh0207\\anaconda3\\lib\\site-packages (from requests<3,>=2.21.0->tensorboard<2.3.0,>=2.2.0->tensorflow) (4.0.0)\n",
      "Requirement already satisfied: pyasn1<0.5.0,>=0.4.6 in c:\\users\\s_kmh0207\\anaconda3\\lib\\site-packages (from pyasn1-modules>=0.2.1->google-auth<2,>=1.6.3->tensorboard<2.3.0,>=2.2.0->tensorflow) (0.4.8)\n",
      "Requirement already satisfied: oauthlib>=3.0.0 in c:\\users\\s_kmh0207\\anaconda3\\lib\\site-packages (from requests-oauthlib>=0.7.0->google-auth-oauthlib<0.5,>=0.4.1->tensorboard<2.3.0,>=2.2.0->tensorflow) (3.1.1)\n",
      "Installing collected packages: numpy\n",
      "  Attempting uninstall: numpy\n",
      "    Found existing installation: numpy 1.22.0\n",
      "    Uninstalling numpy-1.22.0:\n",
      "      Successfully uninstalled numpy-1.22.0\n",
      "Successfully installed numpy-1.18.5\n"
     ]
    },
    {
     "name": "stderr",
     "output_type": "stream",
     "text": [
      "ERROR: pip's dependency resolver does not currently take into account all the packages that are installed. This behaviour is the source of the following dependency conflicts.\n",
      "tflite-support 0.3.1 requires numpy>=1.19.2, but you have numpy 1.18.5 which is incompatible.\n",
      "bokeh 2.3.2 requires pillow>=7.1.0, but you have pillow 7.0.0 which is incompatible.\n"
     ]
    }
   ],
   "source": [
    "!pip install tensorflow"
   ]
  },
  {
   "cell_type": "code",
   "execution_count": 4,
   "id": "9a933a95",
   "metadata": {},
   "outputs": [
    {
     "name": "stdout",
     "output_type": "stream",
     "text": [
      "<start> this is sample's sentence . <end>\n"
     ]
    }
   ],
   "source": [
    "import os, re \n",
    "import numpy as np\n",
    "import tensorflow as tf\n",
    "\n",
    "# 입력된 문장을\n",
    "#     1. 소문자로 바꾸고, 양쪽 공백을 지웁니다\n",
    "#     2. 특수문자 양쪽에 공백을 넣고\n",
    "#     3. 여러개의 공백은 하나의 공백으로 바꿉니다\n",
    "#     4. a-zA-Z?.!,¿,'가 아닌 모든 문자를 하나의 공백으로 바꿉니다\n",
    "#     5. 다시 양쪽 공백을 지웁니다\n",
    "#     6. 문장 시작에는 <start>, 끝에는 <end>를 추가합니다\n",
    "# 이 순서로 처리해주면 문제가 되는 상황을 방지할 수 있다.\n",
    "def preprocess_sentence(sentence):\n",
    "    sentence = sentence.lower().strip() # 1\n",
    "    sentence = re.sub(r\"([?.!,¿])\", r\" \\1 \", sentence) # 2\n",
    "    sentence = re.sub(r'[\" \"]+', \" \", sentence) # 3\n",
    "    sentence = re.sub(r\"[^a-zA-Z?'.!,¿]+\", \" \", sentence) # 4\n",
    "    sentence = sentence.strip() # 5\n",
    "    sentence = '<start> ' + sentence + ' <end>' # 6\n",
    "    \n",
    "    # bruce-springsteen.txt에서 [Verse] 와 [Chorus]라는 구분자가 보임. 이는 문장이 아니므로 삭제함.\n",
    "    if \"verse\" in sentence:\n",
    "        sentence = sentence.replace(\"verse\", \"\")\n",
    "    if \"chorus\" in sentence:\n",
    "        sentence = sentence.replace(\"chorus\", \"\")\n",
    "        \n",
    "    return sentence\n",
    "\n",
    "# 이 문장이 어떻게 필터링되는지 확인해 보세요.\n",
    "print(preprocess_sentence(\"This @_is ;;;sample's        sentence.\"))"
   ]
  },
  {
   "cell_type": "markdown",
   "id": "80fb540a",
   "metadata": {},
   "source": [
    "작은따옴표도 제외하고 잘 필터링 되는 것을 확인할 수 있다."
   ]
  },
  {
   "cell_type": "code",
   "execution_count": 5,
   "id": "122e00a6",
   "metadata": {},
   "outputs": [
    {
     "data": {
      "text/plain": [
       "['<start> looking for some education <end>',\n",
       " '<start> made my way into the night <end>',\n",
       " '<start> all that bullshit conversation <end>',\n",
       " \"<start> baby , can't you read the signs ? i won't bore you with the details , baby <end>\",\n",
       " \"<start> i don't even wanna waste your time <end>\",\n",
       " \"<start> let's just say that maybe <end>\",\n",
       " '<start> you could help me ease my mind <end>',\n",
       " \"<start> i ain't mr . right but if you're looking for fast love <end>\",\n",
       " \"<start> if that's love in your eyes <end>\",\n",
       " \"<start> it's more than enough <end>\",\n",
       " '<start> had some bad love <end>',\n",
       " \"<start> so fast love is all that i've got on my mind ooh , ooh <end>\",\n",
       " '<start> ooh , ooh looking for some affirmation <end>',\n",
       " '<start> made my way into the sun <end>',\n",
       " '<start> my friends got their ladies <end>',\n",
       " \"<start> and they're all having babies <end>\",\n",
       " \"<start> i just wanna have some fun i won't bore you with the details , baby <end>\",\n",
       " \"<start> i don't even wanna waste your time <end>\",\n",
       " \"<start> let's just say that maybe <end>\",\n",
       " '<start> you could help me ease my mind <end>',\n",
       " \"<start> i ain't mr . right but if you're looking for fast love <end>\",\n",
       " \"<start> if that's love in your eyes <end>\",\n",
       " \"<start> it's more than enough <end>\",\n",
       " \"<start> i've had some bad love <end>\",\n",
       " \"<start> so fast love is all that i've got on my mind ooh , ooh <end>\",\n",
       " '<start> baby , baby <end>',\n",
       " '<start> ooh , ooh <end>',\n",
       " '<start> baby , baby <end>',\n",
       " '<start> ooh , ooh <end>',\n",
       " '<start> baby , baby <end>']"
      ]
     },
     "execution_count": 5,
     "metadata": {},
     "output_type": "execute_result"
    }
   ],
   "source": [
    "# 여기에 정제된 문장을 모을겁니다\n",
    "corpus = []\n",
    "\n",
    "for sentence in raw_corpus:\n",
    "    # 우리가 원하지 않는 문장은 건너뜁니다\n",
    "    if len(sentence) == 0: continue\n",
    "    if sentence[-1] == \":\": continue\n",
    "    \n",
    "    # 정제를 하고 담아주세요\n",
    "    preprocessed_sentence = preprocess_sentence(sentence)\n",
    "    corpus.append(preprocessed_sentence)\n",
    "        \n",
    "# 정제된 결과를 30개만 확인해보죠\n",
    "corpus[:30]"
   ]
  },
  {
   "cell_type": "code",
   "execution_count": 6,
   "id": "83200ec8",
   "metadata": {},
   "outputs": [
    {
     "data": {
      "text/plain": [
       "175749"
      ]
     },
     "execution_count": 6,
     "metadata": {},
     "output_type": "execute_result"
    }
   ],
   "source": [
    "len(corpus)"
   ]
  },
  {
   "cell_type": "markdown",
   "id": "32136add",
   "metadata": {},
   "source": [
    "175749 개의 정제된 문장이 준비되었다. "
   ]
  },
  {
   "cell_type": "markdown",
   "id": "bbfdb6b1",
   "metadata": {},
   "source": [
    "우리는 여기에 너무 긴 문장은 제외할 것이다. \n",
    "- 여기서 토큰화 했을 때 토큰의 개수가 15개를 넘어가는 문장을 학습 데이터에서 제외할 것이다.\n",
    "- 단어장 크기는 12000단어이다."
   ]
  },
  {
   "cell_type": "code",
   "execution_count": 7,
   "id": "4535779c",
   "metadata": {},
   "outputs": [
    {
     "name": "stdout",
     "output_type": "stream",
     "text": [
      "[[  2 310  26 ...   0   0   0]\n",
      " [  2 226  12 ...   0   0   0]\n",
      " [  2  48 121 ...   0   0   0]\n",
      " ...\n",
      " [  2  25  71 ...   0   0   0]\n",
      " [  2  38  23 ...   0   0   0]\n",
      " [  2  25  71 ...   0   0   0]] <keras_preprocessing.text.Tokenizer object at 0x0000011C2A4FDEB0>\n"
     ]
    }
   ],
   "source": [
    "# 토큰화 할 때 텐서플로우의 Tokenizer와 pad_sequences를 사용합니다\n",
    "# 더 잘 알기 위해 아래 문서들을 참고하면 좋습니다\n",
    "# https://www.tensorflow.org/api_docs/python/tf/keras/preprocessing/text/Tokenizer\n",
    "# https://www.tensorflow.org/api_docs/python/tf/keras/preprocessing/sequence/pad_sequences\n",
    "def tokenize(corpus):\n",
    "    # 12000단어를 기억할 수 있는 tokenizer를 만들겁니다\n",
    "    # 우리는 이미 문장을 정제했으니 filters가 필요없어요\n",
    "    # 12000단어에 포함되지 못한 단어는 '<unk>'로 바꿀거에요\n",
    "    tokenizer = tf.keras.preprocessing.text.Tokenizer(\n",
    "        num_words=12000, \n",
    "        filters=' ',\n",
    "        oov_token=\"<unk>\"\n",
    "    )\n",
    "    # corpus를 이용해 tokenizer 내부의 단어장을 완성합니다\n",
    "    tokenizer.fit_on_texts(corpus)\n",
    "    # 준비한 tokenizer를 이용해 corpus를 Tensor로 변환합니다\n",
    "    tensor = tokenizer.texts_to_sequences(corpus)   \n",
    "    # 입력 데이터의 시퀀스 길이를 일정하게 맞춰줍니다\n",
    "    \n",
    "    for num in tensor:\n",
    "        if len(num) >= 17: # <start>, <end> 포함하여 17단어 이상(빼면 15단어 이상) \n",
    "            tensor = np.delete(tensor, num) # 너무 긴 문장은 삭제\n",
    "            break;\n",
    "           \n",
    "    \n",
    "    # 만약 시퀀스가 짧다면 문장 뒤에 패딩을 붙여 길이를 맞춰줍니다.\n",
    "    # 문장 앞에 패딩을 붙여 길이를 맞추고 싶다면 padding='pre'를 사용합니다\n",
    "    tensor = tf.keras.preprocessing.sequence.pad_sequences(tensor, padding='post',maxlen=15)  \n",
    "    \n",
    "    print(tensor,tokenizer)\n",
    "    return tensor, tokenizer\n",
    "\n",
    "tensor, tokenizer = tokenize(corpus)"
   ]
  },
  {
   "cell_type": "code",
   "execution_count": 8,
   "id": "4144216d",
   "metadata": {},
   "outputs": [
    {
     "name": "stdout",
     "output_type": "stream",
     "text": [
      "175734\n"
     ]
    }
   ],
   "source": [
    "print(len(tensor))"
   ]
  },
  {
   "cell_type": "markdown",
   "id": "bac9032b",
   "metadata": {},
   "source": [
    "길이가 15단어 이상인 문장은 삭제되어 175749개 -> 175734개의 문장으로 정제 되었다."
   ]
  },
  {
   "cell_type": "code",
   "execution_count": 9,
   "id": "cba26a22",
   "metadata": {},
   "outputs": [
    {
     "name": "stdout",
     "output_type": "stream",
     "text": [
      "1 : <unk>\n",
      "2 : <start>\n",
      "3 : <end>\n",
      "4 : ,\n",
      "5 : the\n",
      "6 : i\n",
      "7 : you\n",
      "8 : and\n",
      "9 : to\n",
      "10 : a\n",
      "11 : me\n",
      "12 : my\n",
      "13 : it\n",
      "14 : in\n",
      "15 : that\n",
      "16 : on\n",
      "17 : of\n",
      "18 : .\n",
      "19 : your\n",
      "20 : i'm\n",
      "21 : like\n",
      "22 : all\n",
      "23 : is\n",
      "24 : be\n",
      "25 : we\n",
      "26 : for\n",
      "27 : up\n",
      "28 : so\n",
      "29 : with\n",
      "30 : know\n",
      "31 : love\n",
      "32 : just\n",
      "33 : but\n",
      "34 : don't\n",
      "35 : no\n"
     ]
    }
   ],
   "source": [
    "# 어떻게 토큰이 구성되었는지 확인\n",
    "for idx in tokenizer.index_word:\n",
    "    print(idx, \":\", tokenizer.index_word[idx])\n",
    "\n",
    "    if idx >= 35: break # 35번까지만 확인"
   ]
  },
  {
   "cell_type": "code",
   "execution_count": 10,
   "id": "de1e4ff4",
   "metadata": {},
   "outputs": [
    {
     "name": "stdout",
     "output_type": "stream",
     "text": [
      "[   2  310   26   94 4918    3    0    0    0    0    0    0    0    0]\n",
      "[ 310   26   94 4918    3    0    0    0    0    0    0    0    0    0]\n"
     ]
    }
   ],
   "source": [
    "# tensor에서 마지막 토큰을 잘라내서 소스 문장을 생성합니다\n",
    "# 마지막 토큰은 <end>가 아니라 <pad>일 가능성이 높습니다.\n",
    "src_input = tensor[:, :-1]  \n",
    "# tensor에서 <start>를 잘라내서 타겟 문장을 생성합니다.\n",
    "tgt_input = tensor[:, 1:]    \n",
    "\n",
    "print(src_input[0])\n",
    "print(tgt_input[0])"
   ]
  },
  {
   "cell_type": "markdown",
   "id": "f68cfa7e",
   "metadata": {},
   "source": [
    "토큰 하나를 잘라내서 길이가 14이다."
   ]
  },
  {
   "cell_type": "code",
   "execution_count": 11,
   "id": "d96695c4",
   "metadata": {},
   "outputs": [
    {
     "data": {
      "text/plain": [
       "<BatchDataset shapes: ((256, 14), (256, 14)), types: (tf.int32, tf.int32)>"
      ]
     },
     "execution_count": 11,
     "metadata": {},
     "output_type": "execute_result"
    }
   ],
   "source": [
    "#데이터 객체 생성\n",
    "BUFFER_SIZE = len(src_input)\n",
    "BATCH_SIZE = 256\n",
    "steps_per_epoch = len(src_input) // BATCH_SIZE\n",
    "\n",
    " # tokenizer가 구축한 단어사전 내 12000개와, 여기 포함되지 않은 0:<pad>를 포함하여 12001개\n",
    "VOCAB_SIZE = tokenizer.num_words + 1   \n",
    "\n",
    "# 준비한 데이터 소스로부터 데이터셋을 만듭니다\n",
    "# 데이터셋에 대해서는 아래 문서를 참고하세요\n",
    "# 자세히 알아둘수록 도움이 많이 되는 중요한 문서입니다\n",
    "# https://www.tensorflow.org/api_docs/python/tf/data/Dataset\n",
    "dataset = tf.data.Dataset.from_tensor_slices((src_input, tgt_input))\n",
    "dataset = dataset.shuffle(BUFFER_SIZE)\n",
    "dataset = dataset.batch(BATCH_SIZE, drop_remainder=True)\n",
    "dataset"
   ]
  },
  {
   "cell_type": "markdown",
   "id": "fe7339bf",
   "metadata": {},
   "source": [
    "# Step 4. 평가 데이터셋 분리\n",
    "\n",
    " 단어장의 크기는 12,000 이상 으로 설정! 총 데이터의 20% 를 평가 데이터셋으로 사용"
   ]
  },
  {
   "cell_type": "code",
   "execution_count": 12,
   "id": "e627e8b5",
   "metadata": {},
   "outputs": [
    {
     "name": "stdout",
     "output_type": "stream",
     "text": [
      "Collecting sklearn\n",
      "  Using cached sklearn-0.0.tar.gz (1.1 kB)\n",
      "  Preparing metadata (setup.py): started\n",
      "  Preparing metadata (setup.py): finished with status 'done'\n",
      "Requirement already satisfied: scikit-learn in c:\\users\\s_kmh0207\\anaconda3\\lib\\site-packages (from sklearn) (0.24.1)\n",
      "Requirement already satisfied: joblib>=0.11 in c:\\users\\s_kmh0207\\anaconda3\\lib\\site-packages (from scikit-learn->sklearn) (1.0.1)\n",
      "Requirement already satisfied: scipy>=0.19.1 in c:\\users\\s_kmh0207\\anaconda3\\lib\\site-packages (from scikit-learn->sklearn) (1.4.1)\n",
      "Requirement already satisfied: threadpoolctl>=2.0.0 in c:\\users\\s_kmh0207\\anaconda3\\lib\\site-packages (from scikit-learn->sklearn) (2.1.0)\n",
      "Requirement already satisfied: numpy>=1.13.3 in c:\\users\\s_kmh0207\\anaconda3\\lib\\site-packages (from scikit-learn->sklearn) (1.18.5)\n",
      "Building wheels for collected packages: sklearn\n",
      "  Building wheel for sklearn (setup.py): started\n",
      "  Building wheel for sklearn (setup.py): finished with status 'done'\n",
      "  Created wheel for sklearn: filename=sklearn-0.0-py2.py3-none-any.whl size=1316 sha256=664ac2c98cfbc71e1429ac3f6a1a10a6cdbf42bbd75ed9cfe32b258b0bc5fe64\n",
      "  Stored in directory: c:\\users\\s_kmh0207\\appdata\\local\\pip\\cache\\wheels\\22\\0b\\40\\fd3f795caaa1fb4c6cb738bc1f56100be1e57da95849bfc897\n",
      "Successfully built sklearn\n",
      "Installing collected packages: sklearn\n",
      "Successfully installed sklearn-0.0\n"
     ]
    }
   ],
   "source": [
    "!pip install sklearn"
   ]
  },
  {
   "cell_type": "code",
   "execution_count": 13,
   "id": "1ef52838",
   "metadata": {},
   "outputs": [],
   "source": [
    "from sklearn.model_selection import train_test_split\n",
    "\n",
    "enc_train, enc_val, dec_train, dec_val = train_test_split(src_input,\n",
    "                                                          tgt_input,\n",
    "                                                          train_size = 0.7) # 30%를 평가 데이터셋으로 사용하므로 0.7"
   ]
  },
  {
   "cell_type": "code",
   "execution_count": 14,
   "id": "f5408543",
   "metadata": {},
   "outputs": [
    {
     "name": "stdout",
     "output_type": "stream",
     "text": [
      "Source Train: (123013, 14)\n",
      "Target Train: (123013, 14)\n"
     ]
    }
   ],
   "source": [
    "print(\"Source Train:\", enc_train.shape)\n",
    "print(\"Target Train:\", dec_train.shape)"
   ]
  },
  {
   "cell_type": "markdown",
   "id": "c75e78c1",
   "metadata": {},
   "source": [
    "12만여개의 데이터를 기준으로 학습을 진행한다. enc_train과 dec_train이 x_train, y_train에 대응한다."
   ]
  },
  {
   "cell_type": "markdown",
   "id": "606364a8",
   "metadata": {},
   "source": [
    "# Step 5. 인공지능 만들기"
   ]
  },
  {
   "cell_type": "code",
   "execution_count": 15,
   "id": "326b5091",
   "metadata": {},
   "outputs": [],
   "source": [
    "class TextGenerator(tf.keras.Model):\n",
    "    def __init__(self, vocab_size, embedding_size, hidden_size):\n",
    "        super().__init__()\n",
    "        \n",
    "        self.embedding = tf.keras.layers.Embedding(vocab_size, embedding_size)\n",
    "        self.rnn_1 = tf.keras.layers.LSTM(hidden_size, return_sequences=True)\n",
    "        self.rnn_2 = tf.keras.layers.LSTM(hidden_size, return_sequences=True)\n",
    "        self.linear = tf.keras.layers.Dense(vocab_size)\n",
    "        \n",
    "    def call(self, x):\n",
    "        out = self.embedding(x)\n",
    "        out = self.rnn_1(out)\n",
    "        out = self.rnn_2(out)\n",
    "        out = self.linear(out)\n",
    "        \n",
    "        return out\n",
    "    \n",
    "embedding_size = 256\n",
    "hidden_size = 1024\n",
    "model = TextGenerator(tokenizer.num_words + 1, embedding_size , hidden_size)"
   ]
  },
  {
   "cell_type": "code",
   "execution_count": 16,
   "id": "a549d9be",
   "metadata": {},
   "outputs": [
    {
     "data": {
      "text/plain": [
       "<tf.Tensor: shape=(256, 14, 12001), dtype=float32, numpy=\n",
       "array([[[ 1.10059635e-04,  2.19680238e-04, -2.24615185e-04, ...,\n",
       "          4.84982331e-04,  2.09229242e-04,  2.39737292e-05],\n",
       "        [ 3.30510782e-04,  7.49050523e-05, -1.51822183e-04, ...,\n",
       "          6.49027643e-04,  5.68984142e-05,  3.26758047e-04],\n",
       "        [ 3.66887660e-04, -3.77469860e-07, -2.22012735e-04, ...,\n",
       "          1.23485969e-03,  1.63308607e-04,  3.19270825e-04],\n",
       "        ...,\n",
       "        [ 1.07831275e-03, -1.49067171e-04,  6.65619620e-04, ...,\n",
       "          3.22716805e-04, -3.89952620e-04,  5.16030297e-04],\n",
       "        [ 1.16561935e-03, -1.38049427e-05,  5.88088529e-04, ...,\n",
       "          1.60412805e-04, -3.44618020e-04,  3.24275694e-04],\n",
       "        [ 9.25544184e-04, -8.74194884e-05,  3.76511627e-04, ...,\n",
       "          1.09663168e-04,  1.74696266e-04,  8.03738512e-05]],\n",
       "\n",
       "       [[ 1.10059635e-04,  2.19680238e-04, -2.24615185e-04, ...,\n",
       "          4.84982331e-04,  2.09229242e-04,  2.39737292e-05],\n",
       "        [-3.39822982e-05,  3.89950030e-04, -4.84159129e-04, ...,\n",
       "          7.78860238e-04,  2.81282701e-04,  2.21561248e-04],\n",
       "        [-1.21463141e-04,  2.61578476e-04, -7.16485258e-04, ...,\n",
       "          1.05877419e-03,  3.70037778e-05,  3.72446695e-04],\n",
       "        ...,\n",
       "        [-1.68261176e-04,  1.39399304e-03,  1.95938570e-04, ...,\n",
       "         -8.83766697e-05, -4.22101584e-05, -5.28318167e-04],\n",
       "        [-1.63782053e-04,  1.39947259e-03,  4.00307181e-04, ...,\n",
       "          9.95253940e-05,  9.74451686e-05, -6.83577091e-04],\n",
       "        [-1.29027949e-05,  1.43549801e-03,  4.80302959e-04, ...,\n",
       "          2.13280917e-04,  1.39939235e-04, -6.32109353e-04]],\n",
       "\n",
       "       [[ 1.10059635e-04,  2.19680238e-04, -2.24615185e-04, ...,\n",
       "          4.84982331e-04,  2.09229242e-04,  2.39737292e-05],\n",
       "        [-9.51617112e-05,  5.03898074e-04, -3.57807352e-04, ...,\n",
       "          7.02493009e-04,  4.63910081e-04, -1.15018418e-04],\n",
       "        [-2.42509181e-04,  6.16586127e-04, -3.07081733e-04, ...,\n",
       "          8.12319457e-04,  7.89632380e-04, -1.40074131e-04],\n",
       "        ...,\n",
       "        [-4.06038336e-04, -3.61332204e-04,  6.16272329e-04, ...,\n",
       "          8.47776246e-04, -9.68578795e-04,  1.42832549e-04],\n",
       "        [-6.00378728e-04, -1.53849585e-04,  8.88495357e-04, ...,\n",
       "          1.13250467e-03, -7.34896807e-04,  1.57394868e-04],\n",
       "        [-5.34933992e-04,  1.30932734e-04,  1.04385987e-03, ...,\n",
       "          1.17741106e-03, -5.55582403e-04,  3.31117422e-04]],\n",
       "\n",
       "       ...,\n",
       "\n",
       "       [[ 1.10059635e-04,  2.19680238e-04, -2.24615185e-04, ...,\n",
       "          4.84982331e-04,  2.09229242e-04,  2.39737292e-05],\n",
       "        [ 1.77716647e-04,  2.94511236e-04, -3.29708186e-04, ...,\n",
       "          6.81574398e-04,  4.30520304e-04,  8.02130501e-07],\n",
       "        [-5.29815406e-05,  3.90883797e-04, -2.12427170e-04, ...,\n",
       "          8.21619062e-04,  4.41721058e-04, -3.68161091e-05],\n",
       "        ...,\n",
       "        [ 1.14336828e-04, -5.95314896e-06,  1.77746886e-04, ...,\n",
       "          1.54022913e-04,  4.41494311e-04,  2.02524869e-04],\n",
       "        [ 3.87035194e-04,  1.54148715e-04,  1.94097214e-04, ...,\n",
       "          1.89445782e-04,  3.91560374e-04,  4.93660453e-04],\n",
       "        [ 6.42549363e-04,  3.20064602e-04,  2.08430458e-04, ...,\n",
       "          2.48068391e-04,  2.76443025e-04,  7.84615928e-04]],\n",
       "\n",
       "       [[ 1.10059635e-04,  2.19680238e-04, -2.24615185e-04, ...,\n",
       "          4.84982331e-04,  2.09229242e-04,  2.39737292e-05],\n",
       "        [ 3.98942153e-04,  5.26238873e-04, -3.51003750e-04, ...,\n",
       "          8.60785542e-04,  3.33761331e-04,  1.18960241e-04],\n",
       "        [ 7.35772599e-04,  7.63881253e-04, -2.92401121e-04, ...,\n",
       "          1.04340015e-03,  2.45356583e-04,  7.16414288e-05],\n",
       "        ...,\n",
       "        [ 7.13705667e-04,  1.11739733e-03,  5.78995736e-04, ...,\n",
       "          1.25370466e-03, -3.34884186e-04,  1.46934402e-03],\n",
       "        [ 8.23029084e-04,  1.24662858e-03,  5.65668801e-04, ...,\n",
       "          1.22021651e-03, -4.96645865e-04,  1.64750230e-03],\n",
       "        [ 9.27674002e-04,  1.36758748e-03,  5.34509774e-04, ...,\n",
       "          1.20189402e-03, -6.69233967e-04,  1.81857822e-03]],\n",
       "\n",
       "       [[ 1.10059635e-04,  2.19680238e-04, -2.24615185e-04, ...,\n",
       "          4.84982331e-04,  2.09229242e-04,  2.39737292e-05],\n",
       "        [ 8.86591515e-05,  2.02696174e-04, -2.49769073e-04, ...,\n",
       "          8.37408705e-04,  7.00498524e-04,  1.98907583e-04],\n",
       "        [-1.06546599e-04,  6.94774440e-04, -1.57322240e-04, ...,\n",
       "          5.79488173e-04,  5.79659827e-04,  2.74600519e-04],\n",
       "        ...,\n",
       "        [ 1.98261332e-04,  1.10462215e-03, -2.56629224e-04, ...,\n",
       "          9.37658944e-04, -2.49342411e-04,  5.74541860e-04],\n",
       "        [ 4.49534680e-04,  1.22307020e-03, -2.30762496e-04, ...,\n",
       "          9.38992947e-04, -3.31256655e-04,  8.56326718e-04],\n",
       "        [ 6.93261332e-04,  1.33176742e-03, -2.16420100e-04, ...,\n",
       "          9.53599520e-04, -4.56897134e-04,  1.13286346e-03]]],\n",
       "      dtype=float32)>"
      ]
     },
     "execution_count": 16,
     "metadata": {},
     "output_type": "execute_result"
    }
   ],
   "source": [
    "# 데이터셋에서 데이터 한 배치만 불러오는 방법입니다.\n",
    "# 지금은 동작 원리에 너무 빠져들지 마세요~\n",
    "for src_sample, tgt_sample in dataset.take(1): break\n",
    "\n",
    "# 한 배치만 불러온 데이터를 모델에 넣어봅니\n",
    "model(src_sample)"
   ]
  },
  {
   "cell_type": "code",
   "execution_count": 18,
   "id": "748ad951",
   "metadata": {},
   "outputs": [
    {
     "name": "stdout",
     "output_type": "stream",
     "text": [
      "Model: \"text_generator\"\n",
      "_________________________________________________________________\n",
      "Layer (type)                 Output Shape              Param #   \n",
      "=================================================================\n",
      "embedding (Embedding)        multiple                  3072256   \n",
      "_________________________________________________________________\n",
      "lstm (LSTM)                  multiple                  5246976   \n",
      "_________________________________________________________________\n",
      "lstm_1 (LSTM)                multiple                  8392704   \n",
      "_________________________________________________________________\n",
      "dense (Dense)                multiple                  12301025  \n",
      "=================================================================\n",
      "Total params: 29,012,961\n",
      "Trainable params: 29,012,961\n",
      "Non-trainable params: 0\n",
      "_________________________________________________________________\n"
     ]
    }
   ],
   "source": [
    "model.summary()"
   ]
  },
  {
   "cell_type": "code",
   "execution_count": 19,
   "id": "c2bb9bf0",
   "metadata": {},
   "outputs": [
    {
     "name": "stdout",
     "output_type": "stream",
     "text": [
      "Epoch 1/10\n",
      "686/686 [==============================] - 106s 154ms/step - loss: 3.6478\n",
      "Epoch 2/10\n",
      "686/686 [==============================] - 109s 159ms/step - loss: 3.1675\n",
      "Epoch 3/10\n",
      "686/686 [==============================] - 109s 159ms/step - loss: 2.9629\n",
      "Epoch 4/10\n",
      "686/686 [==============================] - 108s 158ms/step - loss: 2.8031\n",
      "Epoch 5/10\n",
      "686/686 [==============================] - 109s 158ms/step - loss: 2.6628\n",
      "Epoch 6/10\n",
      "686/686 [==============================] - 109s 158ms/step - loss: 2.5357\n",
      "Epoch 7/10\n",
      "686/686 [==============================] - 109s 159ms/step - loss: 2.4169\n",
      "Epoch 8/10\n",
      "686/686 [==============================] - 109s 160ms/step - loss: 2.3062\n",
      "Epoch 9/10\n",
      "686/686 [==============================] - 109s 159ms/step - loss: 2.1989\n",
      "Epoch 10/10\n",
      "686/686 [==============================] - 109s 159ms/step - loss: 2.0967\n"
     ]
    },
    {
     "data": {
      "text/plain": [
       "<tensorflow.python.keras.callbacks.History at 0x11c76654e20>"
      ]
     },
     "execution_count": 19,
     "metadata": {},
     "output_type": "execute_result"
    }
   ],
   "source": [
    "# optimizer와 loss등은 차차 배웁니다\n",
    "# 혹시 미리 알고 싶다면 아래 문서를 참고하세요\n",
    "# https://www.tensorflow.org/api_docs/python/tf/keras/optimizers\n",
    "# https://www.tensorflow.org/api_docs/python/tf/keras/losses\n",
    "# 양이 상당히 많은 편이니 지금 보는 것은 추천하지 않습니다\n",
    "optimizer = tf.keras.optimizers.Adam()\n",
    "loss = tf.keras.losses.SparseCategoricalCrossentropy(\n",
    "    from_logits=True,\n",
    "    reduction='none'\n",
    ")\n",
    "\n",
    "model.compile(loss=loss, optimizer=optimizer)\n",
    "model.fit(dataset, epochs=10) # 노트북으로 짆행시 시간이 오래 결려 PC 환경에서 진행하도록함. "
   ]
  },
  {
   "cell_type": "code",
   "execution_count": null,
   "id": "0f8006d4",
   "metadata": {},
   "outputs": [],
   "source": []
  },
  {
   "cell_type": "code",
   "execution_count": 20,
   "id": "4137782a",
   "metadata": {},
   "outputs": [],
   "source": [
    "def generate_text(model, tokenizer, init_sentence=\"<start>\", max_len=20):\n",
    "    # 테스트를 위해서 입력받은 init_sentence도 텐서로 변환합니다\n",
    "    test_input = tokenizer.texts_to_sequences([init_sentence])\n",
    "    test_tensor = tf.convert_to_tensor(test_input, dtype=tf.int64)\n",
    "    end_token = tokenizer.word_index[\"<end>\"]\n",
    "\n",
    "    # 단어 하나씩 예측해 문장을 만듭니다\n",
    "    #    1. 입력받은 문장의 텐서를 입력합니다\n",
    "    #    2. 예측된 값 중 가장 높은 확률인 word index를 뽑아냅니다\n",
    "    #    3. 2에서 예측된 word index를 문장 뒤에 붙입니다\n",
    "    #    4. 모델이 <end>를 예측했거나, max_len에 도달했다면 문장 생성을 마칩니다\n",
    "    while True:\n",
    "        # 1\n",
    "        predict = model(test_tensor) \n",
    "        # 2\n",
    "        predict_word = tf.argmax(tf.nn.softmax(predict, axis=-1), axis=-1)[:, -1] \n",
    "        # 3 \n",
    "        test_tensor = tf.concat([test_tensor, tf.expand_dims(predict_word, axis=0)], axis=-1)\n",
    "        # 4\n",
    "        if predict_word.numpy()[0] == end_token: break\n",
    "        if test_tensor.shape[1] >= max_len: break\n",
    "\n",
    "    generated = \"\"\n",
    "    # tokenizer를 이용해 word index를 단어로 하나씩 변환합니다 \n",
    "    for word_index in test_tensor[0].numpy():\n",
    "        generated += tokenizer.index_word[word_index] + \" \"\n",
    "\n",
    "    return generated"
   ]
  },
  {
   "cell_type": "code",
   "execution_count": 22,
   "id": "fecbd28e",
   "metadata": {},
   "outputs": [
    {
     "data": {
      "text/plain": [
       "'<start> i love you , liberian girl <end> '"
      ]
     },
     "execution_count": 22,
     "metadata": {},
     "output_type": "execute_result"
    }
   ],
   "source": [
    "generate_text(model, tokenizer, init_sentence=\"<start> i love\")"
   ]
  },
  {
   "cell_type": "markdown",
   "id": "3e4c2ba0",
   "metadata": {},
   "source": [
    "그럴 듯한 문장이 생성되었다."
   ]
  },
  {
   "cell_type": "markdown",
   "id": "8b0600cd",
   "metadata": {},
   "source": [
    "# 마무리\n",
    "\n"
   ]
  },
  {
   "cell_type": "markdown",
   "id": "75d68fbe",
   "metadata": {},
   "source": [
    "이번 프로젝트는 기존 aiffel에서 진행한 "
   ]
  }
 ],
 "metadata": {
  "kernelspec": {
   "display_name": "Python 3",
   "language": "python",
   "name": "python3"
  },
  "language_info": {
   "codemirror_mode": {
    "name": "ipython",
    "version": 3
   },
   "file_extension": ".py",
   "mimetype": "text/x-python",
   "name": "python",
   "nbconvert_exporter": "python",
   "pygments_lexer": "ipython3",
   "version": "3.8.8"
  }
 },
 "nbformat": 4,
 "nbformat_minor": 5
}
