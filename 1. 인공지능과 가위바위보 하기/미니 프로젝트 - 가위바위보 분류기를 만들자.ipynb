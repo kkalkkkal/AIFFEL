{
 "cells": [
  {
   "cell_type": "code",
   "execution_count": null,
   "id": "57d941da",
   "metadata": {},
   "outputs": [],
   "source": [
    "# 디렉토리 만들기\n",
    "#!mkdir -p ~/aiffel/rock_scissor_paper    \n",
    "#!ln -s ~/data/* ~/aiffel/rock_scissor_paper\n",
    "#!cd ~/aiffel/rock_scissor_paper && unzip data.zip"
   ]
  },
  {
   "cell_type": "code",
   "execution_count": 70,
   "id": "96de1f01",
   "metadata": {},
   "outputs": [],
   "source": [
    "import tensorflow as tf\n",
    "from tensorflow import keras\n",
    "\n",
    "import numpy as np\n",
    "import matplotlib.pyplot as plt\n",
    "#import os\n"
   ]
  },
  {
   "cell_type": "code",
   "execution_count": 78,
   "id": "a2e534f6",
   "metadata": {},
   "outputs": [
    {
     "name": "stdout",
     "output_type": "stream",
     "text": [
      "PIL 라이브러리 import 완료!\n"
     ]
    }
   ],
   "source": [
    "from PIL import Image\n",
    "import glob\n",
    "\n",
    "print(\"PIL 라이브러리 import 완료!\")"
   ]
  },
  {
   "cell_type": "code",
   "execution_count": 79,
   "id": "b80bc71e",
   "metadata": {},
   "outputs": [
    {
     "name": "stdout",
     "output_type": "stream",
     "text": [
      "100  images to be resized.\n",
      "100  images resized.\n",
      "가위 이미지 resize 완료!\n"
     ]
    }
   ],
   "source": [
    "def resize_images(img_path):\n",
    "\timages=glob.glob(img_path + \"/*.jpg\")  \n",
    "    \n",
    "\tprint(len(images), \" images to be resized.\")\n",
    "\n",
    "    # 파일마다 모두 28x28 사이즈로 바꾸어 저장합니다.\n",
    "\ttarget_size=(28,28)\n",
    "\tfor img in images:\n",
    "\t\told_img=Image.open(img)\n",
    "\t\tnew_img=old_img.resize(target_size,Image.ANTIALIAS)\n",
    "\t\tnew_img.save(img, \"JPEG\")\n",
    "    \n",
    "\tprint(len(images), \" images resized.\")\n",
    "\t\n",
    "# 가위 이미지가 저장된 디렉토리 아래의 모든 jpg 파일을 읽어들여서\n",
    "image_dir_path = \"./data/scissor\"\n",
    "resize_images(image_dir_path)\n",
    "\n",
    "print(\"가위 이미지 resize 완료!\")"
   ]
  },
  {
   "cell_type": "code",
   "execution_count": 80,
   "id": "b2103161",
   "metadata": {},
   "outputs": [
    {
     "name": "stdout",
     "output_type": "stream",
     "text": [
      "100  images to be resized.\n",
      "100  images resized.\n",
      "바위 이미지 resize 완료!\n"
     ]
    }
   ],
   "source": [
    "# 바위 이미지가 저장된 디렉토리 아래의 모든 jpg 파일을 읽어들여서\n",
    "# [[YOUR CODE]]\n",
    "def resize_images(img_path):\n",
    "\timages=glob.glob(img_path + \"/*.jpg\")  \n",
    "    \n",
    "\tprint(len(images), \" images to be resized.\")\n",
    "\n",
    "    # 파일마다 모두 28x28 사이즈로 바꾸어 저장합니다.\n",
    "\ttarget_size=(28,28)\n",
    "\tfor img in images:\n",
    "\t\told_img=Image.open(img)\n",
    "\t\tnew_img=old_img.resize(target_size,Image.ANTIALIAS)\n",
    "\t\tnew_img.save(img, \"JPEG\")\n",
    "    \n",
    "\tprint(len(images), \" images resized.\")\n",
    "\t\n",
    "# 바위 이미지가 저장된 디렉토리 아래의 모든 jpg 파일을 읽어들여서\n",
    "image_dir_path = \"./data/rock\"\n",
    "resize_images(image_dir_path)\n",
    "\n",
    "print(\"바위 이미지 resize 완료!\")\n"
   ]
  },
  {
   "cell_type": "code",
   "execution_count": 81,
   "id": "4a5c3e0b",
   "metadata": {},
   "outputs": [
    {
     "name": "stdout",
     "output_type": "stream",
     "text": [
      "100  images to be resized.\n",
      "100  images resized.\n",
      "보자기 이미지 resize 완료!\n"
     ]
    }
   ],
   "source": [
    "# 보 이미지가 저장된 디렉토리 아래의 모든 jpg 파일을 읽어들여서\n",
    "# [[YOUR CODE]]\n",
    "def resize_images(img_path):\n",
    "\timages=glob.glob(img_path + \"/*.jpg\")  \n",
    "    \n",
    "\tprint(len(images), \" images to be resized.\")\n",
    "\n",
    "    # 파일마다 모두 28x28 사이즈로 바꾸어 저장합니다.\n",
    "\ttarget_size=(28,28)\n",
    "\tfor img in images:\n",
    "\t\told_img=Image.open(img)\n",
    "\t\tnew_img=old_img.resize(target_size,Image.ANTIALIAS)\n",
    "\t\tnew_img.save(img, \"JPEG\")\n",
    "    \n",
    "\tprint(len(images), \" images resized.\")\n",
    "\t\n",
    "# 보 이미지가 저장된 디렉토리 아래의 모든 jpg 파일을 읽어들여서\n",
    "image_dir_path = \"./data/paper\"\n",
    "resize_images(image_dir_path)\n",
    "\n",
    "print(\"보자기 이미지 resize 완료!\")"
   ]
  },
  {
   "cell_type": "code",
   "execution_count": 82,
   "id": "9cd097f1",
   "metadata": {},
   "outputs": [
    {
     "name": "stdout",
     "output_type": "stream",
     "text": [
      "학습데이터(x_train)의 이미지 개수는 300 입니다.\n",
      "x_train shape: (300, 28, 28, 3)\n",
      "y_train shape: (300,)\n"
     ]
    }
   ],
   "source": [
    "import numpy as np\n",
    "\n",
    "def load_data(img_path, number_of_data=300):  # 가위바위보 이미지 개수 총합에 주의하세요.\n",
    "    # 가위 : 0, 바위 : 1, 보 : 2\n",
    "    img_size=28\n",
    "    color=3\n",
    "    #이미지 데이터와 라벨(가위 : 0, 바위 : 1, 보 : 2) 데이터를 담을 행렬(matrix) 영역을 생성합니다.\n",
    "    imgs=np.zeros(number_of_data*img_size*img_size*color,dtype=np.int32).reshape(number_of_data,img_size,img_size,color)\n",
    "    labels=np.zeros(number_of_data,dtype=np.int32)\n",
    "\n",
    "    idx=0\n",
    "    for file in glob.iglob(img_path+'/scissor/*.jpg'):\n",
    "        img = np.array(Image.open(file),dtype=np.int32)\n",
    "        imgs[idx,:,:,:]=img    # 데이터 영역에 이미지 행렬을 복사\n",
    "        labels[idx]=0   # 가위 : 0\n",
    "        idx=idx+1\n",
    "\n",
    "    for file in glob.iglob(img_path+'/rock/*.jpg'):\n",
    "        img = np.array(Image.open(file),dtype=np.int32)\n",
    "        imgs[idx,:,:,:]=img    # 데이터 영역에 이미지 행렬을 복사\n",
    "        labels[idx]=1   # 바위 : 1\n",
    "        idx=idx+1  \n",
    "    \n",
    "    for file in glob.iglob(img_path+'/paper/*.jpg'):\n",
    "        img = np.array(Image.open(file),dtype=np.int32)\n",
    "        imgs[idx,:,:,:]=img    # 데이터 영역에 이미지 행렬을 복사\n",
    "        labels[idx]=2   # 보 : 2\n",
    "        idx=idx+1\n",
    "        \n",
    "    print(\"학습데이터(x_train)의 이미지 개수는\", idx,\"입니다.\")\n",
    "    return imgs, labels\n",
    "\n",
    "image_dir_path = \"./data/\"\n",
    "(x_train, y_train)=load_data(image_dir_path)\n",
    "x_train_norm = x_train/255.0   # 입력은 0~1 사이의 값으로 정규화\n",
    "\n",
    "print(\"x_train shape: {}\".format(x_train.shape))\n",
    "print(\"y_train shape: {}\".format(y_train.shape))"
   ]
  },
  {
   "cell_type": "code",
   "execution_count": 83,
   "id": "643e5fd9",
   "metadata": {},
   "outputs": [
    {
     "name": "stdout",
     "output_type": "stream",
     "text": [
      "라벨:  0\n"
     ]
    },
    {
     "data": {
      "image/png": "[encoded data removed]",
      "text/plain": [
       "<Figure size 432x288 with 1 Axes>"
      ]
     },
     "metadata": {
      "needs_background": "light"
     },
     "output_type": "display_data"
    }
   ],
   "source": [
    "plt.imshow(x_train[200])\n",
    "print('라벨: ', y_train[0])"
   ]
  },
  {
   "cell_type": "code",
   "execution_count": 94,
   "id": "d2e08d46",
   "metadata": {},
   "outputs": [
    {
     "name": "stdout",
     "output_type": "stream",
     "text": [
      "Model: \"sequential_13\"\n",
      "_________________________________________________________________\n",
      "Layer (type)                 Output Shape              Param #   \n",
      "=================================================================\n",
      "conv2d_37 (Conv2D)           (None, 26, 26, 16)        448       \n",
      "_________________________________________________________________\n",
      "max_pooling2d_37 (MaxPooling (None, 13, 13, 16)        0         \n",
      "_________________________________________________________________\n",
      "conv2d_38 (Conv2D)           (None, 11, 11, 32)        4640      \n",
      "_________________________________________________________________\n",
      "max_pooling2d_38 (MaxPooling (None, 5, 5, 32)          0         \n",
      "_________________________________________________________________\n",
      "conv2d_39 (Conv2D)           (None, 3, 3, 64)          18496     \n",
      "_________________________________________________________________\n",
      "max_pooling2d_39 (MaxPooling (None, 1, 1, 64)          0         \n",
      "_________________________________________________________________\n",
      "flatten_13 (Flatten)         (None, 64)                0         \n",
      "_________________________________________________________________\n",
      "dense_28 (Dense)             (None, 64)                4160      \n",
      "_________________________________________________________________\n",
      "dense_29 (Dense)             (None, 3)                 195       \n",
      "=================================================================\n",
      "Total params: 27,939\n",
      "Trainable params: 27,939\n",
      "Non-trainable params: 0\n",
      "_________________________________________________________________\n"
     ]
    }
   ],
   "source": [
    "import tensorflow as tf\n",
    "from tensorflow import keras\n",
    "import numpy as np\n",
    "\n",
    "# model을 직접 만들어 보세요.\n",
    "# Hint! model의 입력/출력부에 특히 유의해 주세요. 가위바위보 데이터셋은 MNIST 데이터셋과 어떤 점이 달라졌나요?\n",
    "# [[YOUR CODE]]\n",
    "n_channel_1=16\n",
    "n_channel_2=32\n",
    "n_channel_3=64\n",
    "n_dense=64\n",
    "n_dense2=256\n",
    "n_train_epoch=100\n",
    "\n",
    "model=keras.models.Sequential()\n",
    "model.add(keras.layers.Conv2D(n_channel_1, (3,3), activation='relu', input_shape=(28,28,3)))\n",
    "model.add(keras.layers.MaxPool2D(2,2))\n",
    "model.add(keras.layers.Conv2D(n_channel_2, (3,3), activation='relu'))\n",
    "model.add(keras.layers.MaxPooling2D((2,2)))\n",
    "model.add(keras.layers.Conv2D(n_channel_3, (3,3), activation='relu'))\n",
    "model.add(keras.layers.MaxPooling2D((2,2)))\n",
    "model.add(keras.layers.Flatten())\n",
    "model.add(keras.layers.Dense(n_dense, activation='relu'))\n",
    "#model.add(keras.layers.Dropout(0.5))\n",
    "#model.add(keras.layers.Dense(n_dense2, activation='relu'))\n",
    "#model.add(keras.layers.Dropout(0.5))\n",
    "model.add(keras.layers.Dense(3, activation='softmax'))\n",
    "\n",
    "model.summary()"
   ]
  },
  {
   "cell_type": "code",
   "execution_count": 95,
   "id": "0f9e0d16",
   "metadata": {},
   "outputs": [],
   "source": [
    "#Model: \"sequential_3\"\n",
    "#_________________________________________________________________\n",
    "#Layer (type)                 Output Shape              Param #   \n",
    "#=================================================================\n",
    "#conv2d_7 (Conv2D)            (None, 26, 26, 256)       7168      \n",
    "#_________________________________________________________________\n",
    "#max_pooling2d_7 (MaxPooling2 (None, 13, 13, 256)       0         \n",
    "#_________________________________________________________________\n",
    "#conv2d_8 (Conv2D)            (None, 11, 11, 512)       1180160   \n",
    "#_________________________________________________________________\n",
    "#max_pooling2d_8 (MaxPooling2 (None, 5, 5, 512)         0         \n",
    "#_________________________________________________________________\n",
    "#conv2d_9 (Conv2D)            (None, 3, 3, 512)         2359808   \n",
    "#_________________________________________________________________\n",
    "#max_pooling2d_9 (MaxPooling2 (None, 1, 1, 512)         0         \n",
    "#_________________________________________________________________\n",
    "#flatten_3 (Flatten)          (None, 512)               0         \n",
    "#_________________________________________________________________\n",
    "#dense_6 (Dense)              (None, 512)               262656    \n",
    "#_________________________________________________________________\n",
    "#dense_7 (Dense)              (None, 3)                 1539      \n",
    "#=================================================================\n",
    "#Total params: 3,811,331\n",
    "#Trainable params: 3,811,331\n",
    "#Non-trainable params: 0"
   ]
  },
  {
   "cell_type": "code",
   "execution_count": 96,
   "id": "8a44d7c0",
   "metadata": {},
   "outputs": [
    {
     "name": "stdout",
     "output_type": "stream",
     "text": [
      "Epoch 1/100\n",
      "10/10 [==============================] - 1s 13ms/step - loss: 1.1120 - accuracy: 0.3167\n",
      "Epoch 2/100\n",
      "10/10 [==============================] - 0s 12ms/step - loss: 1.0954 - accuracy: 0.3233\n",
      "Epoch 3/100\n",
      "10/10 [==============================] - 0s 11ms/step - loss: 1.0931 - accuracy: 0.4267\n",
      "Epoch 4/100\n",
      "10/10 [==============================] - 0s 12ms/step - loss: 1.0876 - accuracy: 0.3933\n",
      "Epoch 5/100\n",
      "10/10 [==============================] - 0s 13ms/step - loss: 1.0819 - accuracy: 0.4067\n",
      "Epoch 6/100\n",
      "10/10 [==============================] - 0s 12ms/step - loss: 1.0838 - accuracy: 0.3600\n",
      "Epoch 7/100\n",
      "10/10 [==============================] - 0s 12ms/step - loss: 1.0554 - accuracy: 0.5000\n",
      "Epoch 8/100\n",
      "10/10 [==============================] - 0s 11ms/step - loss: 1.0679 - accuracy: 0.4000\n",
      "Epoch 9/100\n",
      "10/10 [==============================] - 0s 11ms/step - loss: 1.0256 - accuracy: 0.5567\n",
      "Epoch 10/100\n",
      "10/10 [==============================] - 0s 12ms/step - loss: 1.0354 - accuracy: 0.4500\n",
      "Epoch 11/100\n",
      "10/10 [==============================] - 0s 13ms/step - loss: 1.0006 - accuracy: 0.5767\n",
      "Epoch 12/100\n",
      "10/10 [==============================] - 0s 11ms/step - loss: 0.9820 - accuracy: 0.5067\n",
      "Epoch 13/100\n",
      "10/10 [==============================] - 0s 12ms/step - loss: 0.9592 - accuracy: 0.4733\n",
      "Epoch 14/100\n",
      "10/10 [==============================] - 0s 12ms/step - loss: 0.8957 - accuracy: 0.6500\n",
      "Epoch 15/100\n",
      "10/10 [==============================] - 0s 11ms/step - loss: 0.8501 - accuracy: 0.5967\n",
      "Epoch 16/100\n",
      "10/10 [==============================] - 0s 11ms/step - loss: 0.8027 - accuracy: 0.7533\n",
      "Epoch 17/100\n",
      "10/10 [==============================] - 0s 11ms/step - loss: 0.7876 - accuracy: 0.7367\n",
      "Epoch 18/100\n",
      "10/10 [==============================] - 0s 11ms/step - loss: 0.6972 - accuracy: 0.7833\n",
      "Epoch 19/100\n",
      "10/10 [==============================] - 0s 11ms/step - loss: 0.6841 - accuracy: 0.7700\n",
      "Epoch 20/100\n",
      "10/10 [==============================] - 0s 12ms/step - loss: 0.5790 - accuracy: 0.8567\n",
      "Epoch 21/100\n",
      "10/10 [==============================] - 0s 11ms/step - loss: 0.5153 - accuracy: 0.8500\n",
      "Epoch 22/100\n",
      "10/10 [==============================] - 0s 13ms/step - loss: 0.4359 - accuracy: 0.9033\n",
      "Epoch 23/100\n",
      "10/10 [==============================] - 0s 13ms/step - loss: 0.3770 - accuracy: 0.9067\n",
      "Epoch 24/100\n",
      "10/10 [==============================] - 0s 13ms/step - loss: 0.3841 - accuracy: 0.8500\n",
      "Epoch 25/100\n",
      "10/10 [==============================] - 0s 11ms/step - loss: 0.3406 - accuracy: 0.8767\n",
      "Epoch 26/100\n",
      "10/10 [==============================] - 0s 11ms/step - loss: 0.3416 - accuracy: 0.8833\n",
      "Epoch 27/100\n",
      "10/10 [==============================] - 0s 12ms/step - loss: 0.3145 - accuracy: 0.8900\n",
      "Epoch 28/100\n",
      "10/10 [==============================] - 0s 13ms/step - loss: 0.2284 - accuracy: 0.9433\n",
      "Epoch 29/100\n",
      "10/10 [==============================] - 0s 12ms/step - loss: 0.1998 - accuracy: 0.9600\n",
      "Epoch 30/100\n",
      "10/10 [==============================] - 0s 12ms/step - loss: 0.2013 - accuracy: 0.9500\n",
      "Epoch 31/100\n",
      "10/10 [==============================] - 0s 12ms/step - loss: 0.1631 - accuracy: 0.9767\n",
      "Epoch 32/100\n",
      "10/10 [==============================] - 0s 13ms/step - loss: 0.1379 - accuracy: 0.9800\n",
      "Epoch 33/100\n",
      "10/10 [==============================] - 0s 13ms/step - loss: 0.1276 - accuracy: 0.9767\n",
      "Epoch 34/100\n",
      "10/10 [==============================] - 0s 13ms/step - loss: 0.1094 - accuracy: 0.9867\n",
      "Epoch 35/100\n",
      "10/10 [==============================] - 0s 13ms/step - loss: 0.0974 - accuracy: 0.9867\n",
      "Epoch 36/100\n",
      "10/10 [==============================] - 0s 13ms/step - loss: 0.0896 - accuracy: 0.9900\n",
      "Epoch 37/100\n",
      "10/10 [==============================] - 0s 13ms/step - loss: 0.0750 - accuracy: 0.9900\n",
      "Epoch 38/100\n",
      "10/10 [==============================] - 0s 13ms/step - loss: 0.0615 - accuracy: 0.9933\n",
      "Epoch 39/100\n",
      "10/10 [==============================] - 0s 12ms/step - loss: 0.0579 - accuracy: 0.9933\n",
      "Epoch 40/100\n",
      "10/10 [==============================] - 0s 15ms/step - loss: 0.0556 - accuracy: 0.9933\n",
      "Epoch 41/100\n",
      "10/10 [==============================] - 0s 14ms/step - loss: 0.0486 - accuracy: 0.9933\n",
      "Epoch 42/100\n",
      "10/10 [==============================] - 0s 15ms/step - loss: 0.0342 - accuracy: 1.0000\n",
      "Epoch 43/100\n",
      "10/10 [==============================] - 0s 13ms/step - loss: 0.0301 - accuracy: 1.0000\n",
      "Epoch 44/100\n",
      "10/10 [==============================] - 0s 12ms/step - loss: 0.0265 - accuracy: 1.0000\n",
      "Epoch 45/100\n",
      "10/10 [==============================] - 0s 13ms/step - loss: 0.0239 - accuracy: 1.0000\n",
      "Epoch 46/100\n",
      "10/10 [==============================] - 0s 12ms/step - loss: 0.0216 - accuracy: 1.0000\n",
      "Epoch 47/100\n",
      "10/10 [==============================] - 0s 15ms/step - loss: 0.0221 - accuracy: 0.9967\n",
      "Epoch 48/100\n",
      "10/10 [==============================] - 0s 14ms/step - loss: 0.0193 - accuracy: 1.0000\n",
      "Epoch 49/100\n",
      "10/10 [==============================] - 0s 13ms/step - loss: 0.0191 - accuracy: 1.0000\n",
      "Epoch 50/100\n",
      "10/10 [==============================] - 0s 15ms/step - loss: 0.0184 - accuracy: 1.0000\n",
      "Epoch 51/100\n",
      "10/10 [==============================] - 0s 13ms/step - loss: 0.0139 - accuracy: 1.0000\n",
      "Epoch 52/100\n",
      "10/10 [==============================] - 0s 14ms/step - loss: 0.0148 - accuracy: 1.0000\n",
      "Epoch 53/100\n",
      "10/10 [==============================] - 0s 13ms/step - loss: 0.0134 - accuracy: 1.0000\n",
      "Epoch 54/100\n",
      "10/10 [==============================] - 0s 13ms/step - loss: 0.0107 - accuracy: 1.0000\n",
      "Epoch 55/100\n",
      "10/10 [==============================] - 0s 13ms/step - loss: 0.0096 - accuracy: 1.0000\n",
      "Epoch 56/100\n",
      "10/10 [==============================] - 0s 12ms/step - loss: 0.0082 - accuracy: 1.0000\n",
      "Epoch 57/100\n",
      "10/10 [==============================] - 0s 14ms/step - loss: 0.0083 - accuracy: 1.0000\n",
      "Epoch 58/100\n",
      "10/10 [==============================] - 0s 13ms/step - loss: 0.0074 - accuracy: 1.0000\n",
      "Epoch 59/100\n",
      "10/10 [==============================] - 0s 13ms/step - loss: 0.0075 - accuracy: 1.0000\n",
      "Epoch 60/100\n",
      "10/10 [==============================] - 0s 13ms/step - loss: 0.0069 - accuracy: 1.0000\n",
      "Epoch 61/100\n",
      "10/10 [==============================] - 0s 13ms/step - loss: 0.0060 - accuracy: 1.0000\n",
      "Epoch 62/100\n",
      "10/10 [==============================] - 0s 13ms/step - loss: 0.0064 - accuracy: 1.0000\n",
      "Epoch 63/100\n",
      "10/10 [==============================] - 0s 14ms/step - loss: 0.0054 - accuracy: 1.0000\n",
      "Epoch 64/100\n",
      "10/10 [==============================] - 0s 12ms/step - loss: 0.0048 - accuracy: 1.0000\n",
      "Epoch 65/100\n",
      "10/10 [==============================] - 0s 13ms/step - loss: 0.0048 - accuracy: 1.0000\n",
      "Epoch 66/100\n",
      "10/10 [==============================] - 0s 13ms/step - loss: 0.0044 - accuracy: 1.0000\n",
      "Epoch 67/100\n",
      "10/10 [==============================] - 0s 13ms/step - loss: 0.0044 - accuracy: 1.0000\n",
      "Epoch 68/100\n",
      "10/10 [==============================] - 0s 13ms/step - loss: 0.0041 - accuracy: 1.0000\n",
      "Epoch 69/100\n",
      "10/10 [==============================] - 0s 13ms/step - loss: 0.0038 - accuracy: 1.0000\n",
      "Epoch 70/100\n",
      "10/10 [==============================] - 0s 15ms/step - loss: 0.0037 - accuracy: 1.0000\n",
      "Epoch 71/100\n",
      "10/10 [==============================] - 0s 13ms/step - loss: 0.0036 - accuracy: 1.0000\n",
      "Epoch 72/100\n",
      "10/10 [==============================] - 0s 13ms/step - loss: 0.0032 - accuracy: 1.0000\n",
      "Epoch 73/100\n",
      "10/10 [==============================] - 0s 15ms/step - loss: 0.0032 - accuracy: 1.0000\n",
      "Epoch 74/100\n",
      "10/10 [==============================] - 0s 14ms/step - loss: 0.0030 - accuracy: 1.0000\n",
      "Epoch 75/100\n",
      "10/10 [==============================] - 0s 14ms/step - loss: 0.0028 - accuracy: 1.0000\n",
      "Epoch 76/100\n",
      "10/10 [==============================] - 0s 14ms/step - loss: 0.0030 - accuracy: 1.0000\n",
      "Epoch 77/100\n",
      "10/10 [==============================] - 0s 13ms/step - loss: 0.0030 - accuracy: 1.0000\n",
      "Epoch 78/100\n",
      "10/10 [==============================] - 0s 14ms/step - loss: 0.0028 - accuracy: 1.0000\n",
      "Epoch 79/100\n",
      "10/10 [==============================] - 0s 13ms/step - loss: 0.0024 - accuracy: 1.0000\n",
      "Epoch 80/100\n",
      "10/10 [==============================] - 0s 14ms/step - loss: 0.0023 - accuracy: 1.0000\n",
      "Epoch 81/100\n",
      "10/10 [==============================] - 0s 14ms/step - loss: 0.0022 - accuracy: 1.0000\n",
      "Epoch 82/100\n"
     ]
    },
    {
     "name": "stdout",
     "output_type": "stream",
     "text": [
      "10/10 [==============================] - 0s 15ms/step - loss: 0.0021 - accuracy: 1.0000\n",
      "Epoch 83/100\n",
      "10/10 [==============================] - 0s 14ms/step - loss: 0.0020 - accuracy: 1.0000\n",
      "Epoch 84/100\n",
      "10/10 [==============================] - 0s 14ms/step - loss: 0.0021 - accuracy: 1.0000\n",
      "Epoch 85/100\n",
      "10/10 [==============================] - 0s 13ms/step - loss: 0.0020 - accuracy: 1.0000\n",
      "Epoch 86/100\n",
      "10/10 [==============================] - 0s 14ms/step - loss: 0.0019 - accuracy: 1.0000\n",
      "Epoch 87/100\n",
      "10/10 [==============================] - 0s 13ms/step - loss: 0.0019 - accuracy: 1.0000\n",
      "Epoch 88/100\n",
      "10/10 [==============================] - 0s 16ms/step - loss: 0.0018 - accuracy: 1.0000\n",
      "Epoch 89/100\n",
      "10/10 [==============================] - 0s 15ms/step - loss: 0.0019 - accuracy: 1.0000\n",
      "Epoch 90/100\n",
      "10/10 [==============================] - 0s 14ms/step - loss: 0.0018 - accuracy: 1.0000\n",
      "Epoch 91/100\n",
      "10/10 [==============================] - 0s 14ms/step - loss: 0.0018 - accuracy: 1.0000\n",
      "Epoch 92/100\n",
      "10/10 [==============================] - 0s 15ms/step - loss: 0.0018 - accuracy: 1.0000\n",
      "Epoch 93/100\n",
      "10/10 [==============================] - 0s 15ms/step - loss: 0.0015 - accuracy: 1.0000\n",
      "Epoch 94/100\n",
      "10/10 [==============================] - 0s 14ms/step - loss: 0.0014 - accuracy: 1.0000\n",
      "Epoch 95/100\n",
      "10/10 [==============================] - 0s 15ms/step - loss: 0.0014 - accuracy: 1.0000\n",
      "Epoch 96/100\n",
      "10/10 [==============================] - 0s 14ms/step - loss: 0.0013 - accuracy: 1.0000\n",
      "Epoch 97/100\n",
      "10/10 [==============================] - 0s 15ms/step - loss: 0.0013 - accuracy: 1.0000\n",
      "Epoch 98/100\n",
      "10/10 [==============================] - 0s 13ms/step - loss: 0.0012 - accuracy: 1.0000\n",
      "Epoch 99/100\n",
      "10/10 [==============================] - 0s 13ms/step - loss: 0.0012 - accuracy: 1.0000\n",
      "Epoch 100/100\n",
      "10/10 [==============================] - 0s 15ms/step - loss: 0.0011 - accuracy: 1.0000\n"
     ]
    },
    {
     "data": {
      "text/plain": [
       "<tensorflow.python.keras.callbacks.History at 0x13bb32ab970>"
      ]
     },
     "execution_count": 96,
     "metadata": {},
     "output_type": "execute_result"
    }
   ],
   "source": [
    "# model을 학습시키는 코드를 직접 작성해 보세요.\n",
    "# Hint! model.compile()과 model.fit()을 사용해 봅시다.\n",
    "# [[YOUR CODE]]\n",
    "model.compile(optimizer='adam',\n",
    "             loss='sparse_categorical_crossentropy',\n",
    "             metrics=['accuracy'])\n",
    "\n",
    "# 모델 훈련\n",
    "model.fit(x_train_norm, y_train, epochs=n_train_epoch)"
   ]
  },
  {
   "cell_type": "code",
   "execution_count": 91,
   "id": "9a11e6d4",
   "metadata": {},
   "outputs": [
    {
     "name": "stdout",
     "output_type": "stream",
     "text": [
      "100  images to be resized.\n",
      "100  images resized.\n",
      "100  images to be resized.\n",
      "100  images resized.\n",
      "100  images to be resized.\n",
      "100  images resized.\n",
      "test 이미지 resize 완료!\n"
     ]
    }
   ],
   "source": [
    "# test data resize\n",
    "\n",
    "def resize_images(img_path):\n",
    "\timages=glob.glob(img_path + \"/*.jpg\")  \n",
    "    \n",
    "\tprint(len(images), \" images to be resized.\")\n",
    "\n",
    "    # 파일마다 모두 28x28 사이즈로 바꾸어 저장합니다.\n",
    "\ttarget_size=(28,28)\n",
    "\tfor img in images:\n",
    "\t\told_img=Image.open(img)\n",
    "\t\tnew_img=old_img.resize(target_size,Image.ANTIALIAS)\n",
    "\t\tnew_img.save(img, \"JPEG\")\n",
    "    \n",
    "\tprint(len(images), \" images resized.\")\n",
    "\t\n",
    "# 가위 이미지가 저장된 디렉토리 아래의 모든 jpg 파일을 읽어들여서\n",
    "image_dir_path = \"./data/test/scissor\"\n",
    "resize_images(image_dir_path)\n",
    "\n",
    "# 바위 이미지가 저장된 디렉토리 아래의 모든 jpg 파일을 읽어들여서\n",
    "image_dir_path = \"./data/test/rock\"\n",
    "resize_images(image_dir_path)\n",
    "\n",
    "# 보 이미지가 저장된 디렉토리 아래의 모든 jpg 파일을 읽어들여서\n",
    "image_dir_path = \"./data/test/paper\"\n",
    "resize_images(image_dir_path)\n",
    "\n",
    "\n",
    "\n",
    "print(\"test 이미지 resize 완료!\")"
   ]
  },
  {
   "cell_type": "code",
   "execution_count": 92,
   "id": "e69ad9e6",
   "metadata": {},
   "outputs": [
    {
     "name": "stdout",
     "output_type": "stream",
     "text": [
      "학습데이터(x_test)의 이미지 개수는 300 입니다.\n",
      "x_test shape: (300, 28, 28, 3)\n",
      "y_test shape: (300,)\n"
     ]
    }
   ],
   "source": [
    "# x_test, y_test를 만드는 방법은 x_train, y_train을 만드는 방법과 아주 유사합니다.\n",
    "# [[YOUR CODE]]\n",
    "import numpy as np\n",
    "\n",
    "def load_data(img_path, number_of_data=300):  # 가위바위보 이미지 개수 총합에 주의하세요.\n",
    "    # 가위 : 0, 바위 : 1, 보 : 2\n",
    "    img_size=28\n",
    "    color=3\n",
    "    #이미지 데이터와 라벨(가위 : 0, 바위 : 1, 보 : 2) 데이터를 담을 행렬(matrix) 영역을 생성합니다.\n",
    "    imgs=np.zeros(number_of_data*img_size*img_size*color,dtype=np.int32).reshape(number_of_data,img_size,img_size,color)\n",
    "    labels=np.zeros(number_of_data,dtype=np.int32)\n",
    "\n",
    "    idx=0\n",
    "    for file in glob.iglob(img_path+'/scissor/*.jpg'):\n",
    "        img = np.array(Image.open(file),dtype=np.int32)\n",
    "        imgs[idx,:,:,:]=img    # 데이터 영역에 이미지 행렬을 복사\n",
    "        labels[idx]=0   # 가위 : 0\n",
    "        idx=idx+1\n",
    "\n",
    "    for file in glob.iglob(img_path+'/rock/*.jpg'):\n",
    "        img = np.array(Image.open(file),dtype=np.int32)\n",
    "        imgs[idx,:,:,:]=img    # 데이터 영역에 이미지 행렬을 복사\n",
    "        labels[idx]=1   # 바위 : 1\n",
    "        idx=idx+1  \n",
    "    \n",
    "    for file in glob.iglob(img_path+'/paper/*.jpg'):\n",
    "        img = np.array(Image.open(file),dtype=np.int32)\n",
    "        imgs[idx,:,:,:]=img    # 데이터 영역에 이미지 행렬을 복사\n",
    "        labels[idx]=2   # 보 : 2\n",
    "        idx=idx+1\n",
    "        \n",
    "    print(\"학습데이터(x_test)의 이미지 개수는\", idx,\"입니다.\")\n",
    "    return imgs, labels\n",
    "\n",
    "image_dir_path = \"./data/test/\"\n",
    "(x_test, y_test)=load_data(image_dir_path)\n",
    "x_test_norm = x_test/255.0   # 입력은 0~1 사이의 값으로 정규화\n",
    "\n",
    "print(\"x_test shape: {}\".format(x_test.shape))\n",
    "print(\"y_test shape: {}\".format(y_test.shape))"
   ]
  },
  {
   "cell_type": "code",
   "execution_count": 97,
   "id": "98cae51c",
   "metadata": {},
   "outputs": [
    {
     "name": "stdout",
     "output_type": "stream",
     "text": [
      "10/10 - 0s - loss: 491.9779 - accuracy: 0.6133\n",
      "test_loss: 491.9778747558594 \n",
      "test_accuracy: 0.6133333444595337\n"
     ]
    }
   ],
   "source": [
    "# model을 학습시키는 코드를 직접 작성해 보세요.\n",
    "# Hint! model.evaluate()을 사용해 봅시다.\n",
    "# [[YOUR CODE]]\n",
    "\n",
    "# 모델 시험\n",
    "test_loss, test_accuracy = model.evaluate(x_test, y_test, verbose=2)\n",
    "print(\"test_loss: {} \".format(test_loss))\n",
    "print(\"test_accuracy: {}\".format(test_accuracy))\n",
    "\n",
    "# 결과\n",
    "\n",
    "#10/10 - 1s - loss: 4152.1699 - accuracy: 0.4800\n",
    "#test_loss: 4152.169921875 \n",
    "#test_accuracy: 0.47999998927116394"
   ]
  },
  {
   "cell_type": "code",
   "execution_count": null,
   "id": "6e5bcd36",
   "metadata": {},
   "outputs": [],
   "source": [
    "#10/10 - 0s - loss: 491.9779 - accuracy: 0.6133\n",
    "#test_loss: 491.9778747558594 \n",
    "#test_accuracy: 0.6133333444595337"
   ]
  },
  {
   "cell_type": "code",
   "execution_count": null,
   "id": "96b968ab",
   "metadata": {},
   "outputs": [],
   "source": []
  }
 ],
 "metadata": {
  "kernelspec": {
   "display_name": "Python 3",
   "language": "python",
   "name": "python3"
  },
  "language_info": {
   "codemirror_mode": {
    "name": "ipython",
    "version": 3
   },
   "file_extension": ".py",
   "mimetype": "text/x-python",
   "name": "python",
   "nbconvert_exporter": "python",
   "pygments_lexer": "ipython3",
   "version": "3.8.8"
  }
 },
 "nbformat": 4,
 "nbformat_minor": 5
}
