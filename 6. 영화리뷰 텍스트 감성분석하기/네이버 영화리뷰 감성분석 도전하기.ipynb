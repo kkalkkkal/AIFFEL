{
 "cells": [
  {
   "cell_type": "markdown",
   "id": "77705c24",
   "metadata": {},
   "source": [
    "# 환경 설정"
   ]
  },
  {
   "cell_type": "code",
   "execution_count": 7,
   "id": "0d74cb2c",
   "metadata": {},
   "outputs": [
    {
     "name": "stdout",
     "output_type": "stream",
     "text": [
      "Requirement already satisfied: konlpy in c:\\users\\user\\.conda\\envs\\python39\\lib\\site-packages (0.6.0)\n",
      "Requirement already satisfied: JPype1>=0.7.0 in c:\\users\\user\\.conda\\envs\\python39\\lib\\site-packages (from konlpy) (1.3.0)\n",
      "Requirement already satisfied: numpy>=1.6 in c:\\users\\user\\.conda\\envs\\python39\\lib\\site-packages (from konlpy) (1.22.1)\n",
      "Requirement already satisfied: lxml>=4.1.0 in c:\\users\\user\\.conda\\envs\\python39\\lib\\site-packages (from konlpy) (4.7.1)\n"
     ]
    }
   ],
   "source": [
    "!pip install konlpy "
   ]
  },
  {
   "cell_type": "code",
   "execution_count": 9,
   "id": "9496f312",
   "metadata": {},
   "outputs": [
    {
     "name": "stdout",
     "output_type": "stream",
     "text": [
      "Requirement already satisfied: pip in c:\\users\\user\\.conda\\envs\\python39\\lib\\site-packages (21.3.1)\n"
     ]
    },
    {
     "name": "stderr",
     "output_type": "stream",
     "text": [
      "WARNING: Requirement 'JPype1-0.5.7-cp27-none-win_amd64.whl' looks like a filename, but the file does not exist\n",
      "ERROR: JPype1-0.5.7-cp27-none-win_amd64.whl is not a supported wheel on this platform.\n"
     ]
    }
   ],
   "source": [
    "!pip install --upgrade pip\n"
   ]
  },
  {
   "cell_type": "code",
   "execution_count": 13,
   "id": "1dc40325",
   "metadata": {},
   "outputs": [
    {
     "name": "stdout",
     "output_type": "stream",
     "text": [
      "Requirement already satisfied: JPype1 in c:\\users\\user\\.conda\\envs\\python39\\lib\\site-packages (1.3.0)\n"
     ]
    }
   ],
   "source": [
    "!pip install --user JPype1"
   ]
  },
  {
   "cell_type": "code",
   "execution_count": 5,
   "id": "19aeb15c",
   "metadata": {},
   "outputs": [
    {
     "name": "stdout",
     "output_type": "stream",
     "text": [
      "Collecting MeCab\n",
      "  Downloading mecab-0.996.3-cp39-cp39-win_amd64.whl (500 kB)\n",
      "Installing collected packages: MeCab\n",
      "Successfully installed MeCab-0.996.3\n"
     ]
    }
   ],
   "source": [
    "!pip install MeCab "
   ]
  },
  {
   "cell_type": "code",
   "execution_count": 15,
   "id": "57dfbb05",
   "metadata": {},
   "outputs": [
    {
     "name": "stderr",
     "output_type": "stream",
     "text": [
      "x mecab-0.996-ko-0.9.2/\n",
      "x mecab-0.996-ko-0.9.2/example/\n",
      "x mecab-0.996-ko-0.9.2/example/example.cpp\n",
      "x mecab-0.996-ko-0.9.2/example/example_lattice.cpp\n",
      "x mecab-0.996-ko-0.9.2/example/example_lattice.c\n",
      "x mecab-0.996-ko-0.9.2/example/example.c\n",
      "x mecab-0.996-ko-0.9.2/example/thread_test.cpp\n",
      "x mecab-0.996-ko-0.9.2/mecab-config.in\n",
      "x mecab-0.996-ko-0.9.2/man/\n",
      "x mecab-0.996-ko-0.9.2/man/Makefile.am\n",
      "x mecab-0.996-ko-0.9.2/man/mecab.1\n",
      "x mecab-0.996-ko-0.9.2/man/Makefile.in\n",
      "x mecab-0.996-ko-0.9.2/mecab.iss.in\n",
      "x mecab-0.996-ko-0.9.2/config.guess\n",
      "x mecab-0.996-ko-0.9.2/README\n",
      "x mecab-0.996-ko-0.9.2/COPYING\n",
      "x mecab-0.996-ko-0.9.2/CHANGES.md\n",
      "x mecab-0.996-ko-0.9.2/README.md\n",
      "x mecab-0.996-ko-0.9.2/INSTALL\n",
      "x mecab-0.996-ko-0.9.2/config.sub\n",
      "x mecab-0.996-ko-0.9.2/configure.in\n",
      "x mecab-0.996-ko-0.9.2/swig/\n",
      "x mecab-0.996-ko-0.9.2/swig/Makefile\n",
      "x mecab-0.996-ko-0.9.2/swig/version.h.in\n",
      "x mecab-0.996-ko-0.9.2/swig/version.h\n",
      "x mecab-0.996-ko-0.9.2/swig/MeCab.i\n",
      "x mecab-0.996-ko-0.9.2/aclocal.m4\n",
      "x mecab-0.996-ko-0.9.2/LGPL\n",
      "x mecab-0.996-ko-0.9.2/Makefile.am\n",
      "x mecab-0.996-ko-0.9.2/configure\n",
      "x mecab-0.996-ko-0.9.2/tests/\n",
      "x mecab-0.996-ko-0.9.2/tests/autolink/\n",
      "x mecab-0.996-ko-0.9.2/tests/autolink/unk.def\n",
      "x mecab-0.996-ko-0.9.2/tests/autolink/dicrc\n",
      "x mecab-0.996-ko-0.9.2/tests/autolink/dic.csv\n",
      "x mecab-0.996-ko-0.9.2/tests/autolink/test\n",
      "x mecab-0.996-ko-0.9.2/tests/autolink/char.def\n",
      "x mecab-0.996-ko-0.9.2/tests/autolink/matrix.def\n",
      "x mecab-0.996-ko-0.9.2/tests/autolink/test.gld\n",
      "x mecab-0.996-ko-0.9.2/tests/t9/\n",
      "x mecab-0.996-ko-0.9.2/tests/t9/unk.def\n",
      "x mecab-0.996-ko-0.9.2/tests/t9/ipadic.pl\n",
      "x mecab-0.996-ko-0.9.2/tests/t9/dicrc\n",
      "x mecab-0.996-ko-0.9.2/tests/t9/dic.csv\n",
      "x mecab-0.996-ko-0.9.2/tests/t9/test\n",
      "x mecab-0.996-ko-0.9.2/tests/t9/char.def\n",
      "x mecab-0.996-ko-0.9.2/tests/t9/matrix.def\n",
      "x mecab-0.996-ko-0.9.2/tests/t9/mkdic.pl\n",
      "x mecab-0.996-ko-0.9.2/tests/t9/test.gld\n",
      "x mecab-0.996-ko-0.9.2/tests/cost-train/\n",
      "x mecab-0.996-ko-0.9.2/tests/cost-train/ipa.train\n",
      "x mecab-0.996-ko-0.9.2/tests/cost-train/ipa.test\n",
      "x mecab-0.996-ko-0.9.2/tests/cost-train/seed/\n",
      "x mecab-0.996-ko-0.9.2/tests/cost-train/seed/rewrite.def\n",
      "x mecab-0.996-ko-0.9.2/tests/cost-train/seed/feature.def\n",
      "x mecab-0.996-ko-0.9.2/tests/cost-train/seed/unk.def\n",
      "x mecab-0.996-ko-0.9.2/tests/cost-train/seed/dicrc\n",
      "x mecab-0.996-ko-0.9.2/tests/cost-train/seed/dic.csv\n",
      "x mecab-0.996-ko-0.9.2/tests/cost-train/seed/char.def\n",
      "x mecab-0.996-ko-0.9.2/tests/cost-train/seed/matrix.def\n",
      "x mecab-0.996-ko-0.9.2/tests/run-eval.sh\n",
      "x mecab-0.996-ko-0.9.2/tests/run-cost-train.sh\n",
      "x mecab-0.996-ko-0.9.2/tests/Makefile.am\n",
      "x mecab-0.996-ko-0.9.2/tests/katakana/\n",
      "x mecab-0.996-ko-0.9.2/tests/katakana/unk.def\n",
      "x mecab-0.996-ko-0.9.2/tests/katakana/dicrc\n",
      "x mecab-0.996-ko-0.9.2/tests/katakana/dic.csv\n",
      "x mecab-0.996-ko-0.9.2/tests/katakana/test\n",
      "x mecab-0.996-ko-0.9.2/tests/katakana/char.def\n",
      "x mecab-0.996-ko-0.9.2/tests/katakana/matrix.def\n",
      "x mecab-0.996-ko-0.9.2/tests/katakana/test.gld\n",
      "x mecab-0.996-ko-0.9.2/tests/eval/\n",
      "x mecab-0.996-ko-0.9.2/tests/eval/answer\n",
      "x mecab-0.996-ko-0.9.2/tests/eval/system\n",
      "x mecab-0.996-ko-0.9.2/tests/eval/test.gld\n",
      "x mecab-0.996-ko-0.9.2/tests/shiin/\n",
      "x mecab-0.996-ko-0.9.2/tests/shiin/unk.def\n",
      "x mecab-0.996-ko-0.9.2/tests/shiin/dicrc\n",
      "x mecab-0.996-ko-0.9.2/tests/shiin/dic.csv\n",
      "x mecab-0.996-ko-0.9.2/tests/shiin/test\n",
      "x mecab-0.996-ko-0.9.2/tests/shiin/char.def\n",
      "x mecab-0.996-ko-0.9.2/tests/shiin/matrix.def\n",
      "x mecab-0.996-ko-0.9.2/tests/shiin/mkdic.pl\n",
      "x mecab-0.996-ko-0.9.2/tests/shiin/test.gld\n",
      "x mecab-0.996-ko-0.9.2/tests/latin/\n",
      "x mecab-0.996-ko-0.9.2/tests/latin/unk.def\n",
      "x mecab-0.996-ko-0.9.2/tests/latin/dicrc\n",
      "x mecab-0.996-ko-0.9.2/tests/latin/dic.csv\n",
      "x mecab-0.996-ko-0.9.2/tests/latin/test\n",
      "x mecab-0.996-ko-0.9.2/tests/latin/char.def\n",
      "x mecab-0.996-ko-0.9.2/tests/latin/matrix.def\n",
      "x mecab-0.996-ko-0.9.2/tests/latin/test.gld\n",
      "x mecab-0.996-ko-0.9.2/tests/chartype/\n",
      "x mecab-0.996-ko-0.9.2/tests/chartype/unk.def\n",
      "x mecab-0.996-ko-0.9.2/tests/chartype/dicrc\n",
      "x mecab-0.996-ko-0.9.2/tests/chartype/dic.csv\n",
      "x mecab-0.996-ko-0.9.2/tests/chartype/test\n",
      "x mecab-0.996-ko-0.9.2/tests/chartype/char.def\n",
      "x mecab-0.996-ko-0.9.2/tests/chartype/matrix.def\n",
      "x mecab-0.996-ko-0.9.2/tests/chartype/test.gld\n",
      "x mecab-0.996-ko-0.9.2/tests/run-dics.sh\n",
      "x mecab-0.996-ko-0.9.2/tests/ngram/\n",
      "x mecab-0.996-ko-0.9.2/tests/ngram/unk.def\n",
      "x mecab-0.996-ko-0.9.2/tests/ngram/dicrc\n",
      "x mecab-0.996-ko-0.9.2/tests/ngram/dic.csv\n",
      "x mecab-0.996-ko-0.9.2/tests/ngram/test\n",
      "x mecab-0.996-ko-0.9.2/tests/ngram/char.def\n",
      "x mecab-0.996-ko-0.9.2/tests/ngram/matrix.def\n",
      "x mecab-0.996-ko-0.9.2/tests/ngram/test.gld\n",
      "x mecab-0.996-ko-0.9.2/tests/Makefile.in\n",
      "x mecab-0.996-ko-0.9.2/ltmain.sh\n",
      "x mecab-0.996-ko-0.9.2/config.rpath\n",
      "x mecab-0.996-ko-0.9.2/config.h.in\n",
      "x mecab-0.996-ko-0.9.2/mecabrc.in\n",
      "x mecab-0.996-ko-0.9.2/GPL\n",
      "x mecab-0.996-ko-0.9.2/Makefile.train\n",
      "x mecab-0.996-ko-0.9.2/ChangeLog\n",
      "x mecab-0.996-ko-0.9.2/install-sh\n",
      "x mecab-0.996-ko-0.9.2/AUTHORS\n",
      "x mecab-0.996-ko-0.9.2/doc/\n",
      "x mecab-0.996-ko-0.9.2/doc/bindings.html\n",
      "x mecab-0.996-ko-0.9.2/doc/posid.html\n",
      "x mecab-0.996-ko-0.9.2/doc/unk.html\n",
      "x mecab-0.996-ko-0.9.2/doc/learn.html\n",
      "x mecab-0.996-ko-0.9.2/doc/format.html\n",
      "x mecab-0.996-ko-0.9.2/doc/libmecab.html\n",
      "x mecab-0.996-ko-0.9.2/doc/mecab.css\n",
      "x mecab-0.996-ko-0.9.2/doc/feature.html\n",
      "x mecab-0.996-ko-0.9.2/doc/Makefile.am\n",
      "x mecab-0.996-ko-0.9.2/doc/soft.html\n",
      "x mecab-0.996-ko-0.9.2/doc/en/\n",
      "x mecab-0.996-ko-0.9.2/doc/en/bindings.html\n",
      "x mecab-0.996-ko-0.9.2/doc/dic-detail.html\n",
      "x mecab-0.996-ko-0.9.2/doc/flow.png\n",
      "x mecab-0.996-ko-0.9.2/doc/mecab.html\n",
      "x mecab-0.996-ko-0.9.2/doc/index.html\n",
      "x mecab-0.996-ko-0.9.2/doc/result.png\n",
      "x mecab-0.996-ko-0.9.2/doc/doxygen/\n",
      "x mecab-0.996-ko-0.9.2/doc/doxygen/tab_a.png\n",
      "x mecab-0.996-ko-0.9.2/doc/doxygen/globals_eval.html\n",
      "x mecab-0.996-ko-0.9.2/doc/doxygen/classMeCab_1_1Tagger-members.html\n",
      "x mecab-0.996-ko-0.9.2/doc/doxygen/functions_vars.html\n",
      "x mecab-0.996-ko-0.9.2/doc/doxygen/doxygen.css\n",
      "x mecab-0.996-ko-0.9.2/doc/doxygen/tab_r.gif\n",
      "x mecab-0.996-ko-0.9.2/doc/doxygen/classMeCab_1_1Lattice.html\n",
      "x mecab-0.996-ko-0.9.2/doc/doxygen/functions.html\n",
      "x mecab-0.996-ko-0.9.2/doc/doxygen/classMeCab_1_1Tagger.html\n",
      "x mecab-0.996-ko-0.9.2/doc/doxygen/mecab_8h_source.html\n",
      "x mecab-0.996-ko-0.9.2/doc/doxygen/tabs.css\n",
      "x mecab-0.996-ko-0.9.2/doc/doxygen/nav_f.png\n",
      "x mecab-0.996-ko-0.9.2/doc/doxygen/tab_b.png\n",
      "x mecab-0.996-ko-0.9.2/doc/doxygen/globals.html\n",
      "x mecab-0.996-ko-0.9.2/doc/doxygen/nav_h.png\n",
      "x mecab-0.996-ko-0.9.2/doc/doxygen/tab_h.png\n",
      "x mecab-0.996-ko-0.9.2/doc/doxygen/classMeCab_1_1Model.html\n",
      "x mecab-0.996-ko-0.9.2/doc/doxygen/globals_func.html\n",
      "x mecab-0.996-ko-0.9.2/doc/doxygen/closed.png\n",
      "x mecab-0.996-ko-0.9.2/doc/doxygen/tab_l.gif\n",
      "x mecab-0.996-ko-0.9.2/doc/doxygen/structmecab__path__t-members.html\n",
      "x mecab-0.996-ko-0.9.2/doc/doxygen/functions_func.html\n",
      "x mecab-0.996-ko-0.9.2/doc/doxygen/globals_type.html\n",
      "x mecab-0.996-ko-0.9.2/doc/doxygen/classMeCab_1_1Lattice-members.html\n",
      "x mecab-0.996-ko-0.9.2/doc/doxygen/structmecab__node__t.html\n",
      "x mecab-0.996-ko-0.9.2/doc/doxygen/namespacemembers_func.html\n",
      "x mecab-0.996-ko-0.9.2/doc/doxygen/tab_s.png\n",
      "x mecab-0.996-ko-0.9.2/doc/doxygen/structmecab__dictionary__info__t-members.html\n",
      "x mecab-0.996-ko-0.9.2/doc/doxygen/namespacemembers_type.html\n",
      "x mecab-0.996-ko-0.9.2/doc/doxygen/classMeCab_1_1Model-members.html\n",
      "x mecab-0.996-ko-0.9.2/doc/doxygen/structmecab__dictionary__info__t.html\n",
      "x mecab-0.996-ko-0.9.2/doc/doxygen/namespaces.html\n",
      "x mecab-0.996-ko-0.9.2/doc/doxygen/namespacemembers.html\n",
      "x mecab-0.996-ko-0.9.2/doc/doxygen/namespaceMeCab.html\n",
      "x mecab-0.996-ko-0.9.2/doc/doxygen/structmecab__path__t.html\n",
      "x mecab-0.996-ko-0.9.2/doc/doxygen/files.html\n",
      "x mecab-0.996-ko-0.9.2/doc/doxygen/structmecab__node__t-members.html\n",
      "x mecab-0.996-ko-0.9.2/doc/doxygen/index.html\n",
      "x mecab-0.996-ko-0.9.2/doc/doxygen/annotated.html\n",
      "x mecab-0.996-ko-0.9.2/doc/doxygen/globals_defs.html\n",
      "x mecab-0.996-ko-0.9.2/doc/doxygen/classes.html\n",
      "x mecab-0.996-ko-0.9.2/doc/doxygen/mecab_8h-source.html\n",
      "x mecab-0.996-ko-0.9.2/doc/doxygen/doxygen.png\n",
      "x mecab-0.996-ko-0.9.2/doc/doxygen/tab_b.gif\n",
      "x mecab-0.996-ko-0.9.2/doc/doxygen/bc_s.png\n",
      "x mecab-0.996-ko-0.9.2/doc/doxygen/open.png\n",
      "x mecab-0.996-ko-0.9.2/doc/doxygen/mecab_8h.html\n",
      "x mecab-0.996-ko-0.9.2/doc/dic.html\n",
      "x mecab-0.996-ko-0.9.2/doc/partial.html\n",
      "x mecab-0.996-ko-0.9.2/doc/feature.png\n",
      "x mecab-0.996-ko-0.9.2/doc/Makefile.in\n",
      "x mecab-0.996-ko-0.9.2/missing\n",
      "x mecab-0.996-ko-0.9.2/BSD\n",
      "x mecab-0.996-ko-0.9.2/NEWS\n",
      "x mecab-0.996-ko-0.9.2/mkinstalldirs\n",
      "x mecab-0.996-ko-0.9.2/src/\n",
      "x mecab-0.996-ko-0.9.2/src/dictionary.h\n",
      "x mecab-0.996-ko-0.9.2/src/writer.h\n",
      "x mecab-0.996-ko-0.9.2/src/utils.h\n",
      "x mecab-0.996-ko-0.9.2/src/string_buffer.cpp\n",
      "x mecab-0.996-ko-0.9.2/src/tokenizer.cpp\n",
      "x mecab-0.996-ko-0.9.2/src/make.bat\n",
      "x mecab-0.996-ko-0.9.2/src/mecab.h\n",
      "x mecab-0.996-ko-0.9.2/src/freelist.h\n",
      "x mecab-0.996-ko-0.9.2/src/string_buffer.h\n",
      "x mecab-0.996-ko-0.9.2/src/learner_tagger.h\n",
      "x mecab-0.996-ko-0.9.2/src/dictionary_compiler.cpp\n",
      "x mecab-0.996-ko-0.9.2/src/eval.cpp\n",
      "x mecab-0.996-ko-0.9.2/src/mecab-system-eval.cpp\n",
      "x mecab-0.996-ko-0.9.2/src/darts.h\n",
      "x mecab-0.996-ko-0.9.2/src/param.h\n",
      "x mecab-0.996-ko-0.9.2/src/char_property.h\n",
      "x mecab-0.996-ko-0.9.2/src/learner_node.h\n",
      "x mecab-0.996-ko-0.9.2/src/mecab-dict-gen.cpp\n",
      "x mecab-0.996-ko-0.9.2/src/mecab-dict-index.cpp\n",
      "x mecab-0.996-ko-0.9.2/src/winmain.h\n",
      "x mecab-0.996-ko-0.9.2/src/thread.h\n",
      "x mecab-0.996-ko-0.9.2/src/context_id.cpp\n",
      "x mecab-0.996-ko-0.9.2/src/Makefile.am\n",
      "x mecab-0.996-ko-0.9.2/src/connector.h\n",
      "x mecab-0.996-ko-0.9.2/src/common.h\n",
      "x mecab-0.996-ko-0.9.2/src/dictionary_rewriter.cpp\n",
      "x mecab-0.996-ko-0.9.2/src/Makefile.msvc.in\n",
      "x mecab-0.996-ko-0.9.2/src/dictionary_rewriter.h\n",
      "x mecab-0.996-ko-0.9.2/src/feature_index.h\n",
      "x mecab-0.996-ko-0.9.2/src/iconv_utils.cpp\n",
      "x mecab-0.996-ko-0.9.2/src/char_property.cpp\n",
      "x mecab-0.996-ko-0.9.2/src/mecab-test-gen.cpp\n",
      "x mecab-0.996-ko-0.9.2/src/tagger.cpp\n",
      "x mecab-0.996-ko-0.9.2/src/mecab-cost-train.cpp\n",
      "x mecab-0.996-ko-0.9.2/src/learner.cpp\n",
      "x mecab-0.996-ko-0.9.2/src/dictionary.cpp\n",
      "x mecab-0.996-ko-0.9.2/src/lbfgs.cpp\n",
      "x mecab-0.996-ko-0.9.2/src/ucs.h\n",
      "x mecab-0.996-ko-0.9.2/src/writer.cpp\n",
      "x mecab-0.996-ko-0.9.2/src/learner_tagger.cpp\n",
      "x mecab-0.996-ko-0.9.2/src/lbfgs.h\n",
      "x mecab-0.996-ko-0.9.2/src/libmecab.cpp\n",
      "x mecab-0.996-ko-0.9.2/src/tokenizer.h\n",
      "x mecab-0.996-ko-0.9.2/src/mecab.cpp\n",
      "x mecab-0.996-ko-0.9.2/src/utils.cpp\n",
      "x mecab-0.996-ko-0.9.2/src/dictionary_generator.cpp\n",
      "x mecab-0.996-ko-0.9.2/src/param.cpp\n",
      "x mecab-0.996-ko-0.9.2/src/context_id.h\n",
      "x mecab-0.996-ko-0.9.2/src/mmap.h\n",
      "x mecab-0.996-ko-0.9.2/src/viterbi.h\n",
      "x mecab-0.996-ko-0.9.2/src/viterbi.cpp\n",
      "x mecab-0.996-ko-0.9.2/src/stream_wrapper.h\n",
      "x mecab-0.996-ko-0.9.2/src/feature_index.cpp\n",
      "x mecab-0.996-ko-0.9.2/src/nbest_generator.h\n",
      "x mecab-0.996-ko-0.9.2/src/ucstable.h\n",
      "x mecab-0.996-ko-0.9.2/src/nbest_generator.cpp\n",
      "x mecab-0.996-ko-0.9.2/src/iconv_utils.h\n",
      "x mecab-0.996-ko-0.9.2/src/connector.cpp\n",
      "x mecab-0.996-ko-0.9.2/src/Makefile.in\n",
      "x mecab-0.996-ko-0.9.2/src/scoped_ptr.h\n",
      "x mecab-0.996-ko-0.9.2/Makefile.in\n"
     ]
    }
   ],
   "source": [
    "!tar xvf mecab-0.996-ko-0.9.2.tar.gz"
   ]
  },
  {
   "cell_type": "code",
   "execution_count": 17,
   "id": "d8f74c72",
   "metadata": {},
   "outputs": [],
   "source": [
    "!cd ./mecab-0.996-ko-0.9.2/"
   ]
  },
  {
   "cell_type": "code",
   "execution_count": 18,
   "id": "bec9ca60",
   "metadata": {},
   "outputs": [
    {
     "name": "stdout",
     "output_type": "stream",
     "text": [
      " C 드라이브의 볼륨에는 이름이 없습니다.\n",
      " 볼륨 일련 번호: DECF-628E\n",
      "\n",
      " C:\\Users\\USER\\Documents\\GitHub\\AIFFEL\\6. 영화리뷰 텍스트 감성분석하기 디렉터리\n",
      "\n",
      "2022-01-27  오후 06:30    <DIR>          .\n",
      "2022-01-27  오후 06:30    <DIR>          ..\n",
      "2022-01-27  오후 05:37    <DIR>          .ipynb_checkpoints\n",
      "2022-01-27  오후 05:45    <DIR>          data\n",
      "2015-02-27  오전 12:40    <DIR>          mecab-0.996-ko-0.9.2\n",
      "2022-01-27  오후 06:05         1,414,979 mecab-0.996-ko-0.9.2.tar.gz\n",
      "2022-01-27  오후 06:30            49,144 네이버 영화리뷰 감성분석 도전하기.ipynb\n",
      "               2개 파일           1,464,123 바이트\n",
      "               5개 디렉터리  196,702,040,064 바이트 남음\n"
     ]
    }
   ],
   "source": [
    "%ls"
   ]
  },
  {
   "cell_type": "code",
   "execution_count": 25,
   "id": "e9b64934",
   "metadata": {},
   "outputs": [
    {
     "name": "stdout",
     "output_type": "stream",
     "text": [
      "Collecting mecab-ko\n",
      "  Downloading mecab_ko-0.0.1a1-cp39-cp39-win_amd64.whl (499 kB)\n",
      "Installing collected packages: mecab-ko\n",
      "Successfully installed mecab-ko-0.0.1a1\n"
     ]
    }
   ],
   "source": [
    "!pip install mecab-ko"
   ]
  },
  {
   "cell_type": "code",
   "execution_count": 27,
   "id": "90d7ecd5",
   "metadata": {},
   "outputs": [
    {
     "name": "stdout",
     "output_type": "stream",
     "text": [
      "Collecting mecab-ko-dic\n",
      "  Downloading mecab-ko-dic-1.0.0.tar.gz (33.2 MB)\n",
      "  Preparing metadata (setup.py): started\n",
      "  Preparing metadata (setup.py): finished with status 'done'\n",
      "Building wheels for collected packages: mecab-ko-dic\n",
      "  Building wheel for mecab-ko-dic (setup.py): started\n",
      "  Building wheel for mecab-ko-dic (setup.py): finished with status 'done'\n",
      "  Created wheel for mecab-ko-dic: filename=mecab_ko_dic-1.0.0-py3-none-any.whl size=33424414 sha256=c44427d0284e9a7273b03bde593f6cd87658c2fb92fbb5e499b9ee471a5fc198\n",
      "  Stored in directory: c:\\users\\user\\appdata\\local\\pip\\cache\\wheels\\1e\\26\\c0\\ed4c061096b1480abefe1e2a0356543bf7a38f61c037b69ab6\n",
      "Successfully built mecab-ko-dic\n",
      "Installing collected packages: mecab-ko-dic\n",
      "Successfully installed mecab-ko-dic-1.0.0\n"
     ]
    }
   ],
   "source": [
    "!pip install mecab-ko-dic"
   ]
  },
  {
   "cell_type": "code",
   "execution_count": 31,
   "id": "a638cad7",
   "metadata": {},
   "outputs": [
    {
     "name": "stdout",
     "output_type": "stream",
     "text": [
      "Requirement already satisfied: mecab-python3 in c:\\users\\user\\.conda\\envs\\python39\\lib\\site-packages (1.0.4)\n"
     ]
    }
   ],
   "source": [
    "!pip install mecab-python"
   ]
  },
  {
   "cell_type": "code",
   "execution_count": null,
   "id": "f137dfb6",
   "metadata": {},
   "outputs": [],
   "source": [
    "!curl -s https://raw.githubusercontent.com/konlpy/konlpy/master/scripts/mecab.sh"
   ]
  },
  {
   "cell_type": "markdown",
   "id": "c49d5991",
   "metadata": {},
   "source": [
    "# 1) 데이터 준비와 확인"
   ]
  },
  {
   "cell_type": "code",
   "execution_count": 32,
   "id": "277cb2b8",
   "metadata": {},
   "outputs": [
    {
     "data": {
      "text/html": [
       "<div>\n",
       "<style scoped>\n",
       "    .dataframe tbody tr th:only-of-type {\n",
       "        vertical-align: middle;\n",
       "    }\n",
       "\n",
       "    .dataframe tbody tr th {\n",
       "        vertical-align: top;\n",
       "    }\n",
       "\n",
       "    .dataframe thead th {\n",
       "        text-align: right;\n",
       "    }\n",
       "</style>\n",
       "<table border=\"1\" class=\"dataframe\">\n",
       "  <thead>\n",
       "    <tr style=\"text-align: right;\">\n",
       "      <th></th>\n",
       "      <th>id</th>\n",
       "      <th>document</th>\n",
       "      <th>label</th>\n",
       "    </tr>\n",
       "  </thead>\n",
       "  <tbody>\n",
       "    <tr>\n",
       "      <th>0</th>\n",
       "      <td>9976970</td>\n",
       "      <td>아 더빙.. 진짜 짜증나네요 목소리</td>\n",
       "      <td>0</td>\n",
       "    </tr>\n",
       "    <tr>\n",
       "      <th>1</th>\n",
       "      <td>3819312</td>\n",
       "      <td>흠...포스터보고 초딩영화줄....오버연기조차 가볍지 않구나</td>\n",
       "      <td>1</td>\n",
       "    </tr>\n",
       "    <tr>\n",
       "      <th>2</th>\n",
       "      <td>10265843</td>\n",
       "      <td>너무재밓었다그래서보는것을추천한다</td>\n",
       "      <td>0</td>\n",
       "    </tr>\n",
       "    <tr>\n",
       "      <th>3</th>\n",
       "      <td>9045019</td>\n",
       "      <td>교도소 이야기구먼 ..솔직히 재미는 없다..평점 조정</td>\n",
       "      <td>0</td>\n",
       "    </tr>\n",
       "    <tr>\n",
       "      <th>4</th>\n",
       "      <td>6483659</td>\n",
       "      <td>사이몬페그의 익살스런 연기가 돋보였던 영화!스파이더맨에서 늙어보이기만 했던 커스틴 ...</td>\n",
       "      <td>1</td>\n",
       "    </tr>\n",
       "  </tbody>\n",
       "</table>\n",
       "</div>"
      ],
      "text/plain": [
       "         id                                           document  label\n",
       "0   9976970                                아 더빙.. 진짜 짜증나네요 목소리      0\n",
       "1   3819312                  흠...포스터보고 초딩영화줄....오버연기조차 가볍지 않구나      1\n",
       "2  10265843                                  너무재밓었다그래서보는것을추천한다      0\n",
       "3   9045019                      교도소 이야기구먼 ..솔직히 재미는 없다..평점 조정      0\n",
       "4   6483659  사이몬페그의 익살스런 연기가 돋보였던 영화!스파이더맨에서 늙어보이기만 했던 커스틴 ...      1"
      ]
     },
     "execution_count": 32,
     "metadata": {},
     "output_type": "execute_result"
    }
   ],
   "source": [
    "import pandas as pd\n",
    "import urllib.request\n",
    "%matplotlib inline\n",
    "import matplotlib.pyplot as plt\n",
    "import re\n",
    "from konlpy.tag import Okt\n",
    "from tensorflow import keras\n",
    "from tensorflow.keras.preprocessing.text import Tokenizer\n",
    "import numpy as np\n",
    "from tensorflow.keras.preprocessing.sequence import pad_sequences\n",
    "from collections import Counter\n",
    "import os\n",
    "\n",
    "# 데이터를 읽어봅시다. \n",
    "train_data = pd.read_table('./data/ratings_train.txt')\n",
    "test_data = pd.read_table('./data/ratings_test.txt')\n",
    "\n",
    "train_data.head()"
   ]
  },
  {
   "cell_type": "markdown",
   "id": "6318ddf1",
   "metadata": {},
   "source": [
    "# 2) 데이터로더 구성"
   ]
  },
  {
   "cell_type": "code",
   "execution_count": 33,
   "id": "62f6920b",
   "metadata": {},
   "outputs": [
    {
     "ename": "Exception",
     "evalue": "The MeCab dictionary does not exist at \"/usr/local/lib/mecab/dic/mecab-ko-dic\". Is the dictionary correctly installed?\nYou can also try entering the dictionary path when initializing the Mecab class: \"Mecab('/some/dic/path')\"",
     "output_type": "error",
     "traceback": [
      "\u001b[1;31m---------------------------------------------------------------------------\u001b[0m",
      "\u001b[1;31mRuntimeError\u001b[0m                              Traceback (most recent call last)",
      "\u001b[1;32m~\\.conda\\envs\\python39\\lib\\site-packages\\konlpy\\tag\\_mecab.py\u001b[0m in \u001b[0;36m__init__\u001b[1;34m(self, dicpath)\u001b[0m\n\u001b[0;32m     76\u001b[0m         \u001b[1;32mtry\u001b[0m\u001b[1;33m:\u001b[0m\u001b[1;33m\u001b[0m\u001b[1;33m\u001b[0m\u001b[0m\n\u001b[1;32m---> 77\u001b[1;33m             \u001b[0mself\u001b[0m\u001b[1;33m.\u001b[0m\u001b[0mtagger\u001b[0m \u001b[1;33m=\u001b[0m \u001b[0mTagger\u001b[0m\u001b[1;33m(\u001b[0m\u001b[1;34m'-d %s'\u001b[0m \u001b[1;33m%\u001b[0m \u001b[0mdicpath\u001b[0m\u001b[1;33m)\u001b[0m\u001b[1;33m\u001b[0m\u001b[1;33m\u001b[0m\u001b[0m\n\u001b[0m\u001b[0;32m     78\u001b[0m             \u001b[0mself\u001b[0m\u001b[1;33m.\u001b[0m\u001b[0mtagset\u001b[0m \u001b[1;33m=\u001b[0m \u001b[0mutils\u001b[0m\u001b[1;33m.\u001b[0m\u001b[0mread_json\u001b[0m\u001b[1;33m(\u001b[0m\u001b[1;34m'%s/data/tagset/mecab.json'\u001b[0m \u001b[1;33m%\u001b[0m \u001b[0mutils\u001b[0m\u001b[1;33m.\u001b[0m\u001b[0minstallpath\u001b[0m\u001b[1;33m)\u001b[0m\u001b[1;33m\u001b[0m\u001b[1;33m\u001b[0m\u001b[0m\n",
      "\u001b[1;32m~\\.conda\\envs\\python39\\lib\\site-packages\\MeCab.py\u001b[0m in \u001b[0;36m__init__\u001b[1;34m(self, *args)\u001b[0m\n\u001b[0;32m    354\u001b[0m     \u001b[1;32mdef\u001b[0m \u001b[0m__init__\u001b[0m\u001b[1;33m(\u001b[0m\u001b[0mself\u001b[0m\u001b[1;33m,\u001b[0m \u001b[1;33m*\u001b[0m\u001b[0margs\u001b[0m\u001b[1;33m)\u001b[0m\u001b[1;33m:\u001b[0m\u001b[1;33m\u001b[0m\u001b[1;33m\u001b[0m\u001b[0m\n\u001b[1;32m--> 355\u001b[1;33m         \u001b[0m_MeCab\u001b[0m\u001b[1;33m.\u001b[0m\u001b[0mTagger_swiginit\u001b[0m\u001b[1;33m(\u001b[0m\u001b[0mself\u001b[0m\u001b[1;33m,\u001b[0m \u001b[0m_MeCab\u001b[0m\u001b[1;33m.\u001b[0m\u001b[0mnew_Tagger\u001b[0m\u001b[1;33m(\u001b[0m\u001b[1;33m*\u001b[0m\u001b[0margs\u001b[0m\u001b[1;33m)\u001b[0m\u001b[1;33m)\u001b[0m\u001b[1;33m\u001b[0m\u001b[1;33m\u001b[0m\u001b[0m\n\u001b[0m\u001b[0;32m    356\u001b[0m \u001b[1;33m\u001b[0m\u001b[0m\n",
      "\u001b[1;31mRuntimeError\u001b[0m: ",
      "\nDuring handling of the above exception, another exception occurred:\n",
      "\u001b[1;31mException\u001b[0m                                 Traceback (most recent call last)",
      "\u001b[1;32m~\\AppData\\Local\\Temp/ipykernel_25048/3463405885.py\u001b[0m in \u001b[0;36m<module>\u001b[1;34m\u001b[0m\n\u001b[0;32m      1\u001b[0m \u001b[1;32mfrom\u001b[0m \u001b[0mkonlpy\u001b[0m\u001b[1;33m.\u001b[0m\u001b[0mtag\u001b[0m \u001b[1;32mimport\u001b[0m \u001b[0mMecab\u001b[0m\u001b[1;33m\u001b[0m\u001b[1;33m\u001b[0m\u001b[0m\n\u001b[0;32m      2\u001b[0m \u001b[1;33m\u001b[0m\u001b[0m\n\u001b[1;32m----> 3\u001b[1;33m \u001b[0mtokenizer\u001b[0m \u001b[1;33m=\u001b[0m \u001b[0mMecab\u001b[0m\u001b[1;33m(\u001b[0m\u001b[1;33m)\u001b[0m\u001b[1;33m\u001b[0m\u001b[1;33m\u001b[0m\u001b[0m\n\u001b[0m\u001b[0;32m      4\u001b[0m \u001b[0mstopwords\u001b[0m \u001b[1;33m=\u001b[0m \u001b[1;33m[\u001b[0m\u001b[1;34m'의'\u001b[0m\u001b[1;33m,\u001b[0m\u001b[1;34m'가'\u001b[0m\u001b[1;33m,\u001b[0m\u001b[1;34m'이'\u001b[0m\u001b[1;33m,\u001b[0m\u001b[1;34m'은'\u001b[0m\u001b[1;33m,\u001b[0m\u001b[1;34m'들'\u001b[0m\u001b[1;33m,\u001b[0m\u001b[1;34m'는'\u001b[0m\u001b[1;33m,\u001b[0m\u001b[1;34m'좀'\u001b[0m\u001b[1;33m,\u001b[0m\u001b[1;34m'잘'\u001b[0m\u001b[1;33m,\u001b[0m\u001b[1;34m'걍'\u001b[0m\u001b[1;33m,\u001b[0m\u001b[1;34m'과'\u001b[0m\u001b[1;33m,\u001b[0m\u001b[1;34m'도'\u001b[0m\u001b[1;33m,\u001b[0m\u001b[1;34m'를'\u001b[0m\u001b[1;33m,\u001b[0m\u001b[1;34m'으로'\u001b[0m\u001b[1;33m,\u001b[0m\u001b[1;34m'자'\u001b[0m\u001b[1;33m,\u001b[0m\u001b[1;34m'에'\u001b[0m\u001b[1;33m,\u001b[0m\u001b[1;34m'와'\u001b[0m\u001b[1;33m,\u001b[0m\u001b[1;34m'한'\u001b[0m\u001b[1;33m,\u001b[0m\u001b[1;34m'하다'\u001b[0m\u001b[1;33m]\u001b[0m\u001b[1;33m\u001b[0m\u001b[1;33m\u001b[0m\u001b[0m\n\u001b[0;32m      5\u001b[0m \u001b[1;33m\u001b[0m\u001b[0m\n",
      "\u001b[1;32m~\\.conda\\envs\\python39\\lib\\site-packages\\konlpy\\tag\\_mecab.py\u001b[0m in \u001b[0;36m__init__\u001b[1;34m(self, dicpath)\u001b[0m\n\u001b[0;32m     78\u001b[0m             \u001b[0mself\u001b[0m\u001b[1;33m.\u001b[0m\u001b[0mtagset\u001b[0m \u001b[1;33m=\u001b[0m \u001b[0mutils\u001b[0m\u001b[1;33m.\u001b[0m\u001b[0mread_json\u001b[0m\u001b[1;33m(\u001b[0m\u001b[1;34m'%s/data/tagset/mecab.json'\u001b[0m \u001b[1;33m%\u001b[0m \u001b[0mutils\u001b[0m\u001b[1;33m.\u001b[0m\u001b[0minstallpath\u001b[0m\u001b[1;33m)\u001b[0m\u001b[1;33m\u001b[0m\u001b[1;33m\u001b[0m\u001b[0m\n\u001b[0;32m     79\u001b[0m         \u001b[1;32mexcept\u001b[0m \u001b[0mRuntimeError\u001b[0m\u001b[1;33m:\u001b[0m\u001b[1;33m\u001b[0m\u001b[1;33m\u001b[0m\u001b[0m\n\u001b[1;32m---> 80\u001b[1;33m             \u001b[1;32mraise\u001b[0m \u001b[0mException\u001b[0m\u001b[1;33m(\u001b[0m\u001b[1;34m'The MeCab dictionary does not exist at \"%s\". Is the dictionary correctly installed?\\nYou can also try entering the dictionary path when initializing the Mecab class: \"Mecab(\\'/some/dic/path\\')\"'\u001b[0m \u001b[1;33m%\u001b[0m \u001b[0mdicpath\u001b[0m\u001b[1;33m)\u001b[0m\u001b[1;33m\u001b[0m\u001b[1;33m\u001b[0m\u001b[0m\n\u001b[0m\u001b[0;32m     81\u001b[0m         \u001b[1;32mexcept\u001b[0m \u001b[0mNameError\u001b[0m\u001b[1;33m:\u001b[0m\u001b[1;33m\u001b[0m\u001b[1;33m\u001b[0m\u001b[0m\n\u001b[0;32m     82\u001b[0m             \u001b[1;32mraise\u001b[0m \u001b[0mException\u001b[0m\u001b[1;33m(\u001b[0m\u001b[1;34m'Install MeCab in order to use it: http://konlpy.org/en/latest/install/'\u001b[0m\u001b[1;33m)\u001b[0m\u001b[1;33m\u001b[0m\u001b[1;33m\u001b[0m\u001b[0m\n",
      "\u001b[1;31mException\u001b[0m: The MeCab dictionary does not exist at \"/usr/local/lib/mecab/dic/mecab-ko-dic\". Is the dictionary correctly installed?\nYou can also try entering the dictionary path when initializing the Mecab class: \"Mecab('/some/dic/path')\""
     ]
    }
   ],
   "source": [
    "from konlpy.tag import Mecab\n",
    "\n",
    "tokenizer = Mecab()\n",
    "stopwords = ['의','가','이','은','들','는','좀','잘','걍','과','도','를','으로','자','에','와','한','하다']\n",
    "\n",
    "def load_data(train_data, test_data, num_words=10000):\n",
    "    # [[YOUR CODE]]\n",
    "    train_data.drop_duplicates(subset=['document'], inplace=True)\n",
    "    train_data = train_data.dropna(how = 'any') \n",
    "    test_data.drop_duplicates(subset=['document'], inplace=True)\n",
    "    test_data = test_data.dropna(how = 'any') \n",
    "    \n",
    "    X_train = []\n",
    "    for sentence in train_data['document']:\n",
    "        temp_X = tokenizer.morphs(sentence) # 토큰화\n",
    "        temp_X = [word for word in temp_X if not word in stopwords] # 불용어 제거\n",
    "        X_train.append(temp_X)\n",
    "\n",
    "    X_test = []\n",
    "    for sentence in test_data['document']:\n",
    "        temp_X = tokenizer.morphs(sentence) # 토큰화\n",
    "        temp_X = [word for word in temp_X if not word in stopwords] # 불용어 제거\n",
    "        X_test.append(temp_X)\n",
    "    \n",
    "    words = np.concatenate(X_train).tolist()\n",
    "    counter = Counter(words)\n",
    "    counter = counter.most_common(10000-4)\n",
    "    vocab = ['', '', '', ''] + [key for key, _ in counter]\n",
    "    word_to_index = {word:index for index, word in enumerate(vocab)}\n",
    "        \n",
    "    def wordlist_to_indexlist(wordlist):\n",
    "        return [word_to_index[word] if word in word_to_index else word_to_index[''] for word in wordlist]\n",
    "        \n",
    "    X_train = list(map(wordlist_to_indexlist, X_train))\n",
    "    X_test = list(map(wordlist_to_indexlist, X_test))\n",
    "        \n",
    "    return X_train, np.array(list(train_data['label'])), X_test, np.array(list(test_data['label'])), word_to_index\n",
    "    \n",
    "X_train, y_train, X_test, y_test, word_to_index = load_data(train_data, test_data)"
   ]
  },
  {
   "cell_type": "markdown",
   "id": "23b2bf6c",
   "metadata": {},
   "source": [
    "# 3) 모델 구성을 위한 데이터 분석 및 가공"
   ]
  },
  {
   "cell_type": "code",
   "execution_count": null,
   "id": "0a052fda",
   "metadata": {},
   "outputs": [],
   "source": []
  },
  {
   "cell_type": "markdown",
   "id": "38a882f4",
   "metadata": {},
   "source": [
    "# 4) 모델 구성 및 validation set 구성"
   ]
  },
  {
   "cell_type": "code",
   "execution_count": null,
   "id": "9b767f86",
   "metadata": {},
   "outputs": [],
   "source": []
  },
  {
   "cell_type": "markdown",
   "id": "10b7f973",
   "metadata": {},
   "source": [
    "# 5) 모델 훈련 개시"
   ]
  },
  {
   "cell_type": "code",
   "execution_count": null,
   "id": "fd6a84fd",
   "metadata": {},
   "outputs": [],
   "source": []
  },
  {
   "cell_type": "markdown",
   "id": "b0e00720",
   "metadata": {},
   "source": [
    "# 6) Loss, Accuracy 그래프 시각화"
   ]
  },
  {
   "cell_type": "code",
   "execution_count": null,
   "id": "388a1fbf",
   "metadata": {},
   "outputs": [],
   "source": []
  },
  {
   "cell_type": "markdown",
   "id": "82413e02",
   "metadata": {},
   "source": [
    "# 7) 학습된 Embedding 레이어 분석"
   ]
  },
  {
   "cell_type": "code",
   "execution_count": null,
   "id": "cf928b34",
   "metadata": {},
   "outputs": [],
   "source": []
  },
  {
   "cell_type": "markdown",
   "id": "b3c7d181",
   "metadata": {},
   "source": [
    "# 8) 한국어 Word2Vec 임베딩 활용하여 성능 개선"
   ]
  },
  {
   "cell_type": "code",
   "execution_count": null,
   "id": "2d15e5f0",
   "metadata": {},
   "outputs": [],
   "source": []
  }
 ],
 "metadata": {
  "kernelspec": {
   "display_name": "Python 3 (ipykernel)",
   "language": "python",
   "name": "python3"
  },
  "language_info": {
   "codemirror_mode": {
    "name": "ipython",
    "version": 3
   },
   "file_extension": ".py",
   "mimetype": "text/x-python",
   "name": "python",
   "nbconvert_exporter": "python",
   "pygments_lexer": "ipython3",
   "version": "3.9.7"
  }
 },
 "nbformat": 4,
 "nbformat_minor": 5
}
