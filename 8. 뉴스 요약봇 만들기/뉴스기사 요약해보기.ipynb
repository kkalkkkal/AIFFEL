{
 "cells": [
  {
   "cell_type": "markdown",
   "id": "df01b5f4",
   "metadata": {},
   "source": [
    "# 환경설정"
   ]
  },
  {
   "cell_type": "code",
   "execution_count": 1,
   "id": "ac83fcce",
   "metadata": {},
   "outputs": [
    {
     "name": "stderr",
     "output_type": "stream",
     "text": [
      "[nltk_data] Downloading package stopwords to\n",
      "[nltk_data]     C:\\Users\\s_kmh0207\\AppData\\Roaming\\nltk_data...\n",
      "[nltk_data]   Unzipping corpora\\stopwords.zip.\n"
     ]
    }
   ],
   "source": [
    "import nltk\n",
    "nltk.download('stopwords')\n",
    "\n",
    "import numpy as np\n",
    "import pandas as pd\n",
    "import os\n",
    "import re\n",
    "import matplotlib.pyplot as plt\n",
    "from nltk.corpus import stopwords\n",
    "from bs4 import BeautifulSoup \n",
    "from tensorflow.keras.preprocessing.text import Tokenizer \n",
    "from tensorflow.keras.preprocessing.sequence import pad_sequences\n",
    "import urllib.request\n",
    "import warnings\n",
    "warnings.filterwarnings(\"ignore\", category=UserWarning, module='bs4')"
   ]
  },
  {
   "cell_type": "code",
   "execution_count": null,
   "id": "0fe75caa",
   "metadata": {},
   "outputs": [],
   "source": []
  },
  {
   "cell_type": "markdown",
   "id": "11d42daa",
   "metadata": {},
   "source": [
    "# Step 1. 데이터 수집하기"
   ]
  },
  {
   "cell_type": "code",
   "execution_count": 2,
   "id": "028eb91e",
   "metadata": {},
   "outputs": [],
   "source": [
    "import urllib.request\n",
    "urllib.request.urlretrieve(\"https://raw.githubusercontent.com/sunnysai12345/News_Summary/master/news_summary_more.csv\", filename=\"news_summary_more.csv\")\n",
    "data = pd.read_csv('news_summary_more.csv', encoding='iso-8859-1')"
   ]
  },
  {
   "cell_type": "code",
   "execution_count": 3,
   "id": "a579fd30",
   "metadata": {},
   "outputs": [
    {
     "data": {
      "text/html": [
       "<div>\n",
       "<style scoped>\n",
       "    .dataframe tbody tr th:only-of-type {\n",
       "        vertical-align: middle;\n",
       "    }\n",
       "\n",
       "    .dataframe tbody tr th {\n",
       "        vertical-align: top;\n",
       "    }\n",
       "\n",
       "    .dataframe thead th {\n",
       "        text-align: right;\n",
       "    }\n",
       "</style>\n",
       "<table border=\"1\" class=\"dataframe\">\n",
       "  <thead>\n",
       "    <tr style=\"text-align: right;\">\n",
       "      <th></th>\n",
       "      <th>headlines</th>\n",
       "      <th>text</th>\n",
       "    </tr>\n",
       "  </thead>\n",
       "  <tbody>\n",
       "    <tr>\n",
       "      <th>46709</th>\n",
       "      <td>Man moved my turban, said 'Muslim go back': Si...</td>\n",
       "      <td>An Indian Sikh man has claimed that his turban...</td>\n",
       "    </tr>\n",
       "    <tr>\n",
       "      <th>62507</th>\n",
       "      <td>New Jersey Sikh mayor candidate branded terror...</td>\n",
       "      <td>A Sikh mayoral candidate in the US state of Ne...</td>\n",
       "    </tr>\n",
       "    <tr>\n",
       "      <th>16923</th>\n",
       "      <td>8-year-old girl abducted from home, raped in UP</td>\n",
       "      <td>An eight-year-old girl was allegedly abducted ...</td>\n",
       "    </tr>\n",
       "    <tr>\n",
       "      <th>43492</th>\n",
       "      <td>Director told me to remove shirt, show breasts...</td>\n",
       "      <td>American singer Jennifer Lopez has revealed a ...</td>\n",
       "    </tr>\n",
       "    <tr>\n",
       "      <th>93937</th>\n",
       "      <td>What powers can Turkish President get after re...</td>\n",
       "      <td>If Turkey votes in favour of a constitutional ...</td>\n",
       "    </tr>\n",
       "    <tr>\n",
       "      <th>1481</th>\n",
       "      <td>Defeat for football: Napoli on losing appeal a...</td>\n",
       "      <td>Italian club Napoli called an Italian court's ...</td>\n",
       "    </tr>\n",
       "    <tr>\n",
       "      <th>67498</th>\n",
       "      <td>Ram Rahim's dress, shoes stolen from Jhajjar Dera</td>\n",
       "      <td>Dera Sacha Sauda Chief Gurmeet Ram Rahim's sho...</td>\n",
       "    </tr>\n",
       "    <tr>\n",
       "      <th>40158</th>\n",
       "      <td>Kareena, Akshay to star in Johar's production:...</td>\n",
       "      <td>Kareena Kapoor and Akshay Kumar will be paired...</td>\n",
       "    </tr>\n",
       "    <tr>\n",
       "      <th>46855</th>\n",
       "      <td>Couple win Ã¢ÂÂ¹160 crore, become UK's oldest...</td>\n",
       "      <td>A couple from Bristol has become the oldest wi...</td>\n",
       "    </tr>\n",
       "    <tr>\n",
       "      <th>1326</th>\n",
       "      <td>I am way smarter, cooler than what I was at ag...</td>\n",
       "      <td>Kajol has said that she is \"way smarter\" and \"...</td>\n",
       "    </tr>\n",
       "  </tbody>\n",
       "</table>\n",
       "</div>"
      ],
      "text/plain": [
       "                                               headlines  \\\n",
       "46709  Man moved my turban, said 'Muslim go back': Si...   \n",
       "62507  New Jersey Sikh mayor candidate branded terror...   \n",
       "16923    8-year-old girl abducted from home, raped in UP   \n",
       "43492  Director told me to remove shirt, show breasts...   \n",
       "93937  What powers can Turkish President get after re...   \n",
       "1481   Defeat for football: Napoli on losing appeal a...   \n",
       "67498  Ram Rahim's dress, shoes stolen from Jhajjar Dera   \n",
       "40158  Kareena, Akshay to star in Johar's production:...   \n",
       "46855  Couple win Ã¢ÂÂ¹160 crore, become UK's oldest...   \n",
       "1326   I am way smarter, cooler than what I was at ag...   \n",
       "\n",
       "                                                    text  \n",
       "46709  An Indian Sikh man has claimed that his turban...  \n",
       "62507  A Sikh mayoral candidate in the US state of Ne...  \n",
       "16923  An eight-year-old girl was allegedly abducted ...  \n",
       "43492  American singer Jennifer Lopez has revealed a ...  \n",
       "93937  If Turkey votes in favour of a constitutional ...  \n",
       "1481   Italian club Napoli called an Italian court's ...  \n",
       "67498  Dera Sacha Sauda Chief Gurmeet Ram Rahim's sho...  \n",
       "40158  Kareena Kapoor and Akshay Kumar will be paired...  \n",
       "46855  A couple from Bristol has become the oldest wi...  \n",
       "1326   Kajol has said that she is \"way smarter\" and \"...  "
      ]
     },
     "execution_count": 3,
     "metadata": {},
     "output_type": "execute_result"
    }
   ],
   "source": [
    "data.sample(10)"
   ]
  },
  {
   "cell_type": "markdown",
   "id": "35d07cb3",
   "metadata": {},
   "source": [
    "# Step 2. 데이터 전처리하기 (추상적 요약)"
   ]
  },
  {
   "cell_type": "markdown",
   "id": "db09a105",
   "metadata": {},
   "source": [
    "실습에서 사용된 전처리를 참고하여 각자 필요하다고 생각하는 전처리를 추가 사용하여 텍스트를 정규화 또는 정제해 보세요. 만약, 불용어 제거를 선택한다면 상대적으로 길이가 짧은 요약 데이터에 대해서도 불용어를 제거하는 것이 좋을지 고민해 보세요."
   ]
  },
  {
   "cell_type": "markdown",
   "id": "8f50ce37",
   "metadata": {},
   "source": [
    "### 중복 샘플과 NULL 값이 존재하는 샘플 제거"
   ]
  },
  {
   "cell_type": "code",
   "execution_count": 4,
   "id": "722dcfd2",
   "metadata": {},
   "outputs": [
    {
     "name": "stdout",
     "output_type": "stream",
     "text": [
      "headlines 열에서 중복을 배제한 유일한 샘플의 수 : 98280\n",
      "text 열에서 중복을 배제한 유일한 샘플의 수 : 98360\n"
     ]
    }
   ],
   "source": [
    "print('headlines 열에서 중복을 배제한 유일한 샘플의 수 :', data['headlines'].nunique())\n",
    "print('text 열에서 중복을 배제한 유일한 샘플의 수 :', data['text'].nunique())"
   ]
  },
  {
   "cell_type": "code",
   "execution_count": 5,
   "id": "15a588fa",
   "metadata": {},
   "outputs": [
    {
     "name": "stdout",
     "output_type": "stream",
     "text": [
      "전체 샘플수 : 98280\n"
     ]
    }
   ],
   "source": [
    "data.drop_duplicates(subset = ['headlines'], inplace=True)\n",
    "print('전체 샘플수 :', (len(data)))"
   ]
  },
  {
   "cell_type": "code",
   "execution_count": 6,
   "id": "ff17458b",
   "metadata": {},
   "outputs": [
    {
     "name": "stdout",
     "output_type": "stream",
     "text": [
      "headlines    0\n",
      "text         0\n",
      "dtype: int64\n"
     ]
    }
   ],
   "source": [
    "# null 값 확인 \n",
    "print(data.isnull().sum())"
   ]
  },
  {
   "cell_type": "markdown",
   "id": "ec1c46a1",
   "metadata": {},
   "source": [
    "null값이 없으므로 굳이 dropna() 함수를 사용하지 않는다."
   ]
  },
  {
   "cell_type": "markdown",
   "id": "12075c13",
   "metadata": {},
   "source": [
    "### 텍스트 정규화와 불용어 제거"
   ]
  },
  {
   "cell_type": "code",
   "execution_count": 7,
   "id": "bf21645b",
   "metadata": {},
   "outputs": [
    {
     "name": "stdout",
     "output_type": "stream",
     "text": [
      "정규화 사전의 수:  120\n"
     ]
    }
   ],
   "source": [
    "contractions = {\"ain't\": \"is not\", \"aren't\": \"are not\",\"can't\": \"cannot\", \"'cause\": \"because\", \"could've\": \"could have\", \"couldn't\": \"could not\",\n",
    "                           \"didn't\": \"did not\",  \"doesn't\": \"does not\", \"don't\": \"do not\", \"hadn't\": \"had not\", \"hasn't\": \"has not\", \"haven't\": \"have not\",\n",
    "                           \"he'd\": \"he would\",\"he'll\": \"he will\", \"he's\": \"he is\", \"how'd\": \"how did\", \"how'd'y\": \"how do you\", \"how'll\": \"how will\", \"how's\": \"how is\",\n",
    "                           \"I'd\": \"I would\", \"I'd've\": \"I would have\", \"I'll\": \"I will\", \"I'll've\": \"I will have\",\"I'm\": \"I am\", \"I've\": \"I have\", \"i'd\": \"i would\",\n",
    "                           \"i'd've\": \"i would have\", \"i'll\": \"i will\",  \"i'll've\": \"i will have\",\"i'm\": \"i am\", \"i've\": \"i have\", \"isn't\": \"is not\", \"it'd\": \"it would\",\n",
    "                           \"it'd've\": \"it would have\", \"it'll\": \"it will\", \"it'll've\": \"it will have\",\"it's\": \"it is\", \"let's\": \"let us\", \"ma'am\": \"madam\",\n",
    "                           \"mayn't\": \"may not\", \"might've\": \"might have\",\"mightn't\": \"might not\",\"mightn't've\": \"might not have\", \"must've\": \"must have\",\n",
    "                           \"mustn't\": \"must not\", \"mustn't've\": \"must not have\", \"needn't\": \"need not\", \"needn't've\": \"need not have\",\"o'clock\": \"of the clock\",\n",
    "                           \"oughtn't\": \"ought not\", \"oughtn't've\": \"ought not have\", \"shan't\": \"shall not\", \"sha'n't\": \"shall not\", \"shan't've\": \"shall not have\",\n",
    "                           \"she'd\": \"she would\", \"she'd've\": \"she would have\", \"she'll\": \"she will\", \"she'll've\": \"she will have\", \"she's\": \"she is\",\n",
    "                           \"should've\": \"should have\", \"shouldn't\": \"should not\", \"shouldn't've\": \"should not have\", \"so've\": \"so have\",\"so's\": \"so as\",\n",
    "                           \"this's\": \"this is\",\"that'd\": \"that would\", \"that'd've\": \"that would have\", \"that's\": \"that is\", \"there'd\": \"there would\",\n",
    "                           \"there'd've\": \"there would have\", \"there's\": \"there is\", \"here's\": \"here is\",\"they'd\": \"they would\", \"they'd've\": \"they would have\",\n",
    "                           \"they'll\": \"they will\", \"they'll've\": \"they will have\", \"they're\": \"they are\", \"they've\": \"they have\", \"to've\": \"to have\",\n",
    "                           \"wasn't\": \"was not\", \"we'd\": \"we would\", \"we'd've\": \"we would have\", \"we'll\": \"we will\", \"we'll've\": \"we will have\", \"we're\": \"we are\",\n",
    "                           \"we've\": \"we have\", \"weren't\": \"were not\", \"what'll\": \"what will\", \"what'll've\": \"what will have\", \"what're\": \"what are\",\n",
    "                           \"what's\": \"what is\", \"what've\": \"what have\", \"when's\": \"when is\", \"when've\": \"when have\", \"where'd\": \"where did\", \"where's\": \"where is\",\n",
    "                           \"where've\": \"where have\", \"who'll\": \"who will\", \"who'll've\": \"who will have\", \"who's\": \"who is\", \"who've\": \"who have\",\n",
    "                           \"why's\": \"why is\", \"why've\": \"why have\", \"will've\": \"will have\", \"won't\": \"will not\", \"won't've\": \"will not have\",\n",
    "                           \"would've\": \"would have\", \"wouldn't\": \"would not\", \"wouldn't've\": \"would not have\", \"y'all\": \"you all\",\n",
    "                           \"y'all'd\": \"you all would\",\"y'all'd've\": \"you all would have\",\"y'all're\": \"you all are\",\"y'all've\": \"you all have\",\n",
    "                           \"you'd\": \"you would\", \"you'd've\": \"you would have\", \"you'll\": \"you will\", \"you'll've\": \"you will have\",\n",
    "                           \"you're\": \"you are\", \"you've\": \"you have\"}\n",
    "\n",
    "print(\"정규화 사전의 수: \", len(contractions))"
   ]
  },
  {
   "cell_type": "code",
   "execution_count": 8,
   "id": "1dc04990",
   "metadata": {},
   "outputs": [
    {
     "name": "stdout",
     "output_type": "stream",
     "text": [
      "불용어 개수 : 179\n",
      "['i', 'me', 'my', 'myself', 'we', 'our', 'ours', 'ourselves', 'you', \"you're\", \"you've\", \"you'll\", \"you'd\", 'your', 'yours', 'yourself', 'yourselves', 'he', 'him', 'his', 'himself', 'she', \"she's\", 'her', 'hers', 'herself', 'it', \"it's\", 'its', 'itself', 'they', 'them', 'their', 'theirs', 'themselves', 'what', 'which', 'who', 'whom', 'this', 'that', \"that'll\", 'these', 'those', 'am', 'is', 'are', 'was', 'were', 'be', 'been', 'being', 'have', 'has', 'had', 'having', 'do', 'does', 'did', 'doing', 'a', 'an', 'the', 'and', 'but', 'if', 'or', 'because', 'as', 'until', 'while', 'of', 'at', 'by', 'for', 'with', 'about', 'against', 'between', 'into', 'through', 'during', 'before', 'after', 'above', 'below', 'to', 'from', 'up', 'down', 'in', 'out', 'on', 'off', 'over', 'under', 'again', 'further', 'then', 'once', 'here', 'there', 'when', 'where', 'why', 'how', 'all', 'any', 'both', 'each', 'few', 'more', 'most', 'other', 'some', 'such', 'no', 'nor', 'not', 'only', 'own', 'same', 'so', 'than', 'too', 'very', 's', 't', 'can', 'will', 'just', 'don', \"don't\", 'should', \"should've\", 'now', 'd', 'll', 'm', 'o', 're', 've', 'y', 'ain', 'aren', \"aren't\", 'couldn', \"couldn't\", 'didn', \"didn't\", 'doesn', \"doesn't\", 'hadn', \"hadn't\", 'hasn', \"hasn't\", 'haven', \"haven't\", 'isn', \"isn't\", 'ma', 'mightn', \"mightn't\", 'mustn', \"mustn't\", 'needn', \"needn't\", 'shan', \"shan't\", 'shouldn', \"shouldn't\", 'wasn', \"wasn't\", 'weren', \"weren't\", 'won', \"won't\", 'wouldn', \"wouldn't\"]\n"
     ]
    }
   ],
   "source": [
    "print('불용어 개수 :', len(stopwords.words('english') ))\n",
    "print(stopwords.words('english'))"
   ]
  },
  {
   "cell_type": "code",
   "execution_count": 9,
   "id": "1bac20c0",
   "metadata": {},
   "outputs": [],
   "source": [
    "# 데이터 전처리 함수\n",
    "def preprocess_sentence(sentence, remove_stopwords=True):\n",
    "    sentence = sentence.lower() # 텍스트 소문자화\n",
    "    sentence = BeautifulSoup(sentence, \"lxml\").text # <br />, <a href = ...> 등의 html 태그 제거\n",
    "    sentence = re.sub(r'\\([^)]*\\)', '', sentence) # 괄호로 닫힌 문자열 (...) 제거 Ex) my husband (and myself!) for => my husband for\n",
    "    sentence = re.sub('\"','', sentence) # 쌍따옴표 \" 제거\n",
    "    sentence = ' '.join([contractions[t] if t in contractions else t for t in sentence.split(\" \")]) # 약어 정규화\n",
    "    sentence = re.sub(r\"'s\\b\",\"\", sentence) # 소유격 제거. Ex) roland's -> roland\n",
    "    sentence = re.sub(\"[^a-zA-Z]\", \" \", sentence) # 영어 외 문자(숫자, 특수문자 등) 공백으로 변환\n",
    "    sentence = re.sub('[m]{2,}', 'mm', sentence) # m이 3개 이상이면 2개로 변경. Ex) ummmmmmm yeah -> umm yeah\n",
    "    \n",
    "    # 불용어 제거 (Text)\n",
    "    if remove_stopwords:\n",
    "        tokens = ' '.join(word for word in sentence.split() if not word in stopwords.words('english') if len(word) > 1)\n",
    "    # 불용어 미제거 (Summary)\n",
    "    else:\n",
    "        tokens = ' '.join(word for word in sentence.split() if len(word) > 1)\n",
    "    return tokens"
   ]
  },
  {
   "cell_type": "markdown",
   "id": "b5d0015b",
   "metadata": {},
   "source": [
    "짧은 헤드라인은 불용어를 굳이 삭제하지 않고, 길이가 긴 text는 불용어를 삭제하도록 한다. "
   ]
  },
  {
   "cell_type": "code",
   "execution_count": 10,
   "id": "a73da797",
   "metadata": {},
   "outputs": [
    {
     "name": "stdout",
     "output_type": "stream",
     "text": [
      "text 전처리 후 결과:  ['saurav kant alumnus upgrad iiit pg program machine learning artificial intelligence sr systems engineer infosys almost years work experience program upgrad degree career support helped transition data scientist tech mahindra salary hike upgrad online power learning powered lakh careers', 'kunal shah credit card bill payment platform cred gave users chance win free food swiggy one year pranav kaushik delhi techie bagged reward spending cred coins users get one cred coin per rupee bill paid used avail rewards brands like ixigo bookmyshow ubereats cult fit', 'new zealand defeated india wickets fourth odi hamilton thursday win first match five match odi series india lost international match rohit sharma captaincy consecutive victories dating back march match witnessed india getting seventh lowest total odi cricket history', 'aegon life iterm insurance plan customers enjoy tax benefits premiums paid save taxes plan provides life cover age years also customers options insure critical illnesses disability accidental death benefit rider life cover age years', 'speaking sexual harassment allegations rajkumar hirani sonam kapoor said known hirani many years true metoo movement get derailed metoo movement always believe woman case need reserve judgment added hirani accused assistant worked sanju']\n"
     ]
    }
   ],
   "source": [
    "# 'text' 불용어 삭제 \n",
    "clean_text = []\n",
    "# 전체 Text 데이터에 대한 전처리 : 50분 이상 시간이 걸릴 수 있습니다. \n",
    "\n",
    "i = 0 \n",
    "l = len(data['text'])\n",
    "\n",
    "for s in data['text']:\n",
    "    clean_text.append(preprocess_sentence(s))\n",
    "    print( str(i) +'/' + str(l) +' processed..',end='\\r', flush=True)\n",
    "    i += 1\n",
    "\n",
    "# 전처리 후 출력\n",
    "print(\"text 전처리 후 결과: \", clean_text[:5])"
   ]
  },
  {
   "cell_type": "code",
   "execution_count": 11,
   "id": "23d11cbb",
   "metadata": {},
   "outputs": [
    {
     "name": "stdout",
     "output_type": "stream",
     "text": [
      "3212/98280 processed..\r"
     ]
    },
    {
     "name": "stderr",
     "output_type": "stream",
     "text": [
      "IOPub message rate exceeded.\n",
      "The notebook server will temporarily stop sending output\n",
      "to the client in order to avoid crashing it.\n",
      "To change this limit, set the config variable\n",
      "`--NotebookApp.iopub_msg_rate_limit`.\n",
      "\n",
      "Current values:\n",
      "NotebookApp.iopub_msg_rate_limit=1000.0 (msgs/sec)\n",
      "NotebookApp.rate_limit_window=3.0 (secs)\n",
      "\n"
     ]
    },
    {
     "name": "stdout",
     "output_type": "stream",
     "text": [
      "7059/98280 processed..\r"
     ]
    },
    {
     "name": "stderr",
     "output_type": "stream",
     "text": [
      "IOPub message rate exceeded.\n",
      "The notebook server will temporarily stop sending output\n",
      "to the client in order to avoid crashing it.\n",
      "To change this limit, set the config variable\n",
      "`--NotebookApp.iopub_msg_rate_limit`.\n",
      "\n",
      "Current values:\n",
      "NotebookApp.iopub_msg_rate_limit=1000.0 (msgs/sec)\n",
      "NotebookApp.rate_limit_window=3.0 (secs)\n",
      "\n"
     ]
    },
    {
     "name": "stdout",
     "output_type": "stream",
     "text": [
      "10761/98280 processed..\r"
     ]
    },
    {
     "name": "stderr",
     "output_type": "stream",
     "text": [
      "IOPub message rate exceeded.\n",
      "The notebook server will temporarily stop sending output\n",
      "to the client in order to avoid crashing it.\n",
      "To change this limit, set the config variable\n",
      "`--NotebookApp.iopub_msg_rate_limit`.\n",
      "\n",
      "Current values:\n",
      "NotebookApp.iopub_msg_rate_limit=1000.0 (msgs/sec)\n",
      "NotebookApp.rate_limit_window=3.0 (secs)\n",
      "\n"
     ]
    },
    {
     "name": "stdout",
     "output_type": "stream",
     "text": [
      "14545/98280 processed..\r"
     ]
    },
    {
     "name": "stderr",
     "output_type": "stream",
     "text": [
      "IOPub message rate exceeded.\n",
      "The notebook server will temporarily stop sending output\n",
      "to the client in order to avoid crashing it.\n",
      "To change this limit, set the config variable\n",
      "`--NotebookApp.iopub_msg_rate_limit`.\n",
      "\n",
      "Current values:\n",
      "NotebookApp.iopub_msg_rate_limit=1000.0 (msgs/sec)\n",
      "NotebookApp.rate_limit_window=3.0 (secs)\n",
      "\n"
     ]
    },
    {
     "name": "stdout",
     "output_type": "stream",
     "text": [
      "18247/98280 processed..\r"
     ]
    },
    {
     "name": "stderr",
     "output_type": "stream",
     "text": [
      "IOPub message rate exceeded.\n",
      "The notebook server will temporarily stop sending output\n",
      "to the client in order to avoid crashing it.\n",
      "To change this limit, set the config variable\n",
      "`--NotebookApp.iopub_msg_rate_limit`.\n",
      "\n",
      "Current values:\n",
      "NotebookApp.iopub_msg_rate_limit=1000.0 (msgs/sec)\n",
      "NotebookApp.rate_limit_window=3.0 (secs)\n",
      "\n"
     ]
    },
    {
     "name": "stdout",
     "output_type": "stream",
     "text": [
      "22133/98280 processed..\r"
     ]
    },
    {
     "name": "stderr",
     "output_type": "stream",
     "text": [
      "IOPub message rate exceeded.\n",
      "The notebook server will temporarily stop sending output\n",
      "to the client in order to avoid crashing it.\n",
      "To change this limit, set the config variable\n",
      "`--NotebookApp.iopub_msg_rate_limit`.\n",
      "\n",
      "Current values:\n",
      "NotebookApp.iopub_msg_rate_limit=1000.0 (msgs/sec)\n",
      "NotebookApp.rate_limit_window=3.0 (secs)\n",
      "\n"
     ]
    },
    {
     "name": "stdout",
     "output_type": "stream",
     "text": [
      "28173/98280 processed..\r"
     ]
    },
    {
     "name": "stderr",
     "output_type": "stream",
     "text": [
      "IOPub message rate exceeded.\n",
      "The notebook server will temporarily stop sending output\n",
      "to the client in order to avoid crashing it.\n",
      "To change this limit, set the config variable\n",
      "`--NotebookApp.iopub_msg_rate_limit`.\n",
      "\n",
      "Current values:\n",
      "NotebookApp.iopub_msg_rate_limit=1000.0 (msgs/sec)\n",
      "NotebookApp.rate_limit_window=3.0 (secs)\n",
      "\n"
     ]
    },
    {
     "name": "stdout",
     "output_type": "stream",
     "text": [
      "31876/98280 processed..\r"
     ]
    },
    {
     "name": "stderr",
     "output_type": "stream",
     "text": [
      "IOPub message rate exceeded.\n",
      "The notebook server will temporarily stop sending output\n",
      "to the client in order to avoid crashing it.\n",
      "To change this limit, set the config variable\n",
      "`--NotebookApp.iopub_msg_rate_limit`.\n",
      "\n",
      "Current values:\n",
      "NotebookApp.iopub_msg_rate_limit=1000.0 (msgs/sec)\n",
      "NotebookApp.rate_limit_window=3.0 (secs)\n",
      "\n"
     ]
    },
    {
     "name": "stdout",
     "output_type": "stream",
     "text": [
      "35802/98280 processed..\r"
     ]
    },
    {
     "name": "stderr",
     "output_type": "stream",
     "text": [
      "IOPub message rate exceeded.\n",
      "The notebook server will temporarily stop sending output\n",
      "to the client in order to avoid crashing it.\n",
      "To change this limit, set the config variable\n",
      "`--NotebookApp.iopub_msg_rate_limit`.\n",
      "\n",
      "Current values:\n",
      "NotebookApp.iopub_msg_rate_limit=1000.0 (msgs/sec)\n",
      "NotebookApp.rate_limit_window=3.0 (secs)\n",
      "\n"
     ]
    },
    {
     "name": "stdout",
     "output_type": "stream",
     "text": [
      "39537/98280 processed..\r"
     ]
    },
    {
     "name": "stderr",
     "output_type": "stream",
     "text": [
      "IOPub message rate exceeded.\n",
      "The notebook server will temporarily stop sending output\n",
      "to the client in order to avoid crashing it.\n",
      "To change this limit, set the config variable\n",
      "`--NotebookApp.iopub_msg_rate_limit`.\n",
      "\n",
      "Current values:\n",
      "NotebookApp.iopub_msg_rate_limit=1000.0 (msgs/sec)\n",
      "NotebookApp.rate_limit_window=3.0 (secs)\n",
      "\n"
     ]
    },
    {
     "name": "stdout",
     "output_type": "stream",
     "text": [
      "43389/98280 processed..\r"
     ]
    },
    {
     "name": "stderr",
     "output_type": "stream",
     "text": [
      "IOPub message rate exceeded.\n",
      "The notebook server will temporarily stop sending output\n",
      "to the client in order to avoid crashing it.\n",
      "To change this limit, set the config variable\n",
      "`--NotebookApp.iopub_msg_rate_limit`.\n",
      "\n",
      "Current values:\n",
      "NotebookApp.iopub_msg_rate_limit=1000.0 (msgs/sec)\n",
      "NotebookApp.rate_limit_window=3.0 (secs)\n",
      "\n"
     ]
    },
    {
     "name": "stdout",
     "output_type": "stream",
     "text": [
      "47136/98280 processed..\r"
     ]
    },
    {
     "name": "stderr",
     "output_type": "stream",
     "text": [
      "IOPub message rate exceeded.\n",
      "The notebook server will temporarily stop sending output\n",
      "to the client in order to avoid crashing it.\n",
      "To change this limit, set the config variable\n",
      "`--NotebookApp.iopub_msg_rate_limit`.\n",
      "\n",
      "Current values:\n",
      "NotebookApp.iopub_msg_rate_limit=1000.0 (msgs/sec)\n",
      "NotebookApp.rate_limit_window=3.0 (secs)\n",
      "\n"
     ]
    },
    {
     "name": "stdout",
     "output_type": "stream",
     "text": [
      "50939/98280 processed..\r"
     ]
    },
    {
     "name": "stderr",
     "output_type": "stream",
     "text": [
      "IOPub message rate exceeded.\n",
      "The notebook server will temporarily stop sending output\n",
      "to the client in order to avoid crashing it.\n",
      "To change this limit, set the config variable\n",
      "`--NotebookApp.iopub_msg_rate_limit`.\n",
      "\n",
      "Current values:\n",
      "NotebookApp.iopub_msg_rate_limit=1000.0 (msgs/sec)\n",
      "NotebookApp.rate_limit_window=3.0 (secs)\n",
      "\n"
     ]
    },
    {
     "name": "stdout",
     "output_type": "stream",
     "text": [
      "54945/98280 processed..\r"
     ]
    },
    {
     "name": "stderr",
     "output_type": "stream",
     "text": [
      "IOPub message rate exceeded.\n",
      "The notebook server will temporarily stop sending output\n",
      "to the client in order to avoid crashing it.\n",
      "To change this limit, set the config variable\n",
      "`--NotebookApp.iopub_msg_rate_limit`.\n",
      "\n",
      "Current values:\n",
      "NotebookApp.iopub_msg_rate_limit=1000.0 (msgs/sec)\n",
      "NotebookApp.rate_limit_window=3.0 (secs)\n",
      "\n"
     ]
    },
    {
     "name": "stdout",
     "output_type": "stream",
     "text": [
      "58835/98280 processed..\r"
     ]
    },
    {
     "name": "stderr",
     "output_type": "stream",
     "text": [
      "IOPub message rate exceeded.\n",
      "The notebook server will temporarily stop sending output\n",
      "to the client in order to avoid crashing it.\n",
      "To change this limit, set the config variable\n",
      "`--NotebookApp.iopub_msg_rate_limit`.\n",
      "\n",
      "Current values:\n",
      "NotebookApp.iopub_msg_rate_limit=1000.0 (msgs/sec)\n",
      "NotebookApp.rate_limit_window=3.0 (secs)\n",
      "\n"
     ]
    },
    {
     "name": "stdout",
     "output_type": "stream",
     "text": [
      "62754/98280 processed..\r"
     ]
    },
    {
     "name": "stderr",
     "output_type": "stream",
     "text": [
      "IOPub message rate exceeded.\n",
      "The notebook server will temporarily stop sending output\n",
      "to the client in order to avoid crashing it.\n",
      "To change this limit, set the config variable\n",
      "`--NotebookApp.iopub_msg_rate_limit`.\n",
      "\n",
      "Current values:\n",
      "NotebookApp.iopub_msg_rate_limit=1000.0 (msgs/sec)\n",
      "NotebookApp.rate_limit_window=3.0 (secs)\n",
      "\n"
     ]
    },
    {
     "name": "stdout",
     "output_type": "stream",
     "text": [
      "66586/98280 processed..\r"
     ]
    },
    {
     "name": "stderr",
     "output_type": "stream",
     "text": [
      "IOPub message rate exceeded.\n",
      "The notebook server will temporarily stop sending output\n",
      "to the client in order to avoid crashing it.\n",
      "To change this limit, set the config variable\n",
      "`--NotebookApp.iopub_msg_rate_limit`.\n",
      "\n",
      "Current values:\n",
      "NotebookApp.iopub_msg_rate_limit=1000.0 (msgs/sec)\n",
      "NotebookApp.rate_limit_window=3.0 (secs)\n",
      "\n"
     ]
    },
    {
     "name": "stdout",
     "output_type": "stream",
     "text": [
      "70364/98280 processed..\r"
     ]
    },
    {
     "name": "stderr",
     "output_type": "stream",
     "text": [
      "IOPub message rate exceeded.\n",
      "The notebook server will temporarily stop sending output\n",
      "to the client in order to avoid crashing it.\n",
      "To change this limit, set the config variable\n",
      "`--NotebookApp.iopub_msg_rate_limit`.\n",
      "\n",
      "Current values:\n",
      "NotebookApp.iopub_msg_rate_limit=1000.0 (msgs/sec)\n",
      "NotebookApp.rate_limit_window=3.0 (secs)\n",
      "\n"
     ]
    },
    {
     "name": "stdout",
     "output_type": "stream",
     "text": [
      "74340/98280 processed..\r"
     ]
    },
    {
     "name": "stderr",
     "output_type": "stream",
     "text": [
      "IOPub message rate exceeded.\n",
      "The notebook server will temporarily stop sending output\n",
      "to the client in order to avoid crashing it.\n",
      "To change this limit, set the config variable\n",
      "`--NotebookApp.iopub_msg_rate_limit`.\n",
      "\n",
      "Current values:\n",
      "NotebookApp.iopub_msg_rate_limit=1000.0 (msgs/sec)\n",
      "NotebookApp.rate_limit_window=3.0 (secs)\n",
      "\n"
     ]
    },
    {
     "name": "stdout",
     "output_type": "stream",
     "text": [
      "78234/98280 processed..\r"
     ]
    },
    {
     "name": "stderr",
     "output_type": "stream",
     "text": [
      "IOPub message rate exceeded.\n",
      "The notebook server will temporarily stop sending output\n",
      "to the client in order to avoid crashing it.\n",
      "To change this limit, set the config variable\n",
      "`--NotebookApp.iopub_msg_rate_limit`.\n",
      "\n",
      "Current values:\n",
      "NotebookApp.iopub_msg_rate_limit=1000.0 (msgs/sec)\n",
      "NotebookApp.rate_limit_window=3.0 (secs)\n",
      "\n"
     ]
    },
    {
     "name": "stdout",
     "output_type": "stream",
     "text": [
      "82037/98280 processed..\r"
     ]
    },
    {
     "name": "stderr",
     "output_type": "stream",
     "text": [
      "IOPub message rate exceeded.\n",
      "The notebook server will temporarily stop sending output\n",
      "to the client in order to avoid crashing it.\n",
      "To change this limit, set the config variable\n",
      "`--NotebookApp.iopub_msg_rate_limit`.\n",
      "\n",
      "Current values:\n",
      "NotebookApp.iopub_msg_rate_limit=1000.0 (msgs/sec)\n",
      "NotebookApp.rate_limit_window=3.0 (secs)\n",
      "\n"
     ]
    },
    {
     "name": "stdout",
     "output_type": "stream",
     "text": [
      "85782/98280 processed..\r"
     ]
    },
    {
     "name": "stderr",
     "output_type": "stream",
     "text": [
      "IOPub message rate exceeded.\n",
      "The notebook server will temporarily stop sending output\n",
      "to the client in order to avoid crashing it.\n",
      "To change this limit, set the config variable\n",
      "`--NotebookApp.iopub_msg_rate_limit`.\n",
      "\n",
      "Current values:\n",
      "NotebookApp.iopub_msg_rate_limit=1000.0 (msgs/sec)\n",
      "NotebookApp.rate_limit_window=3.0 (secs)\n",
      "\n"
     ]
    },
    {
     "name": "stdout",
     "output_type": "stream",
     "text": [
      "89692/98280 processed..\r"
     ]
    },
    {
     "name": "stderr",
     "output_type": "stream",
     "text": [
      "IOPub message rate exceeded.\n",
      "The notebook server will temporarily stop sending output\n",
      "to the client in order to avoid crashing it.\n",
      "To change this limit, set the config variable\n",
      "`--NotebookApp.iopub_msg_rate_limit`.\n",
      "\n",
      "Current values:\n",
      "NotebookApp.iopub_msg_rate_limit=1000.0 (msgs/sec)\n",
      "NotebookApp.rate_limit_window=3.0 (secs)\n",
      "\n"
     ]
    },
    {
     "name": "stdout",
     "output_type": "stream",
     "text": [
      "93705/98280 processed..\r"
     ]
    },
    {
     "name": "stderr",
     "output_type": "stream",
     "text": [
      "IOPub message rate exceeded.\n",
      "The notebook server will temporarily stop sending output\n",
      "to the client in order to avoid crashing it.\n",
      "To change this limit, set the config variable\n",
      "`--NotebookApp.iopub_msg_rate_limit`.\n",
      "\n",
      "Current values:\n",
      "NotebookApp.iopub_msg_rate_limit=1000.0 (msgs/sec)\n",
      "NotebookApp.rate_limit_window=3.0 (secs)\n",
      "\n"
     ]
    },
    {
     "name": "stdout",
     "output_type": "stream",
     "text": [
      "97626/98280 processed..\r"
     ]
    },
    {
     "name": "stderr",
     "output_type": "stream",
     "text": [
      "IOPub message rate exceeded.\n",
      "The notebook server will temporarily stop sending output\n",
      "to the client in order to avoid crashing it.\n",
      "To change this limit, set the config variable\n",
      "`--NotebookApp.iopub_msg_rate_limit`.\n",
      "\n",
      "Current values:\n",
      "NotebookApp.iopub_msg_rate_limit=1000.0 (msgs/sec)\n",
      "NotebookApp.rate_limit_window=3.0 (secs)\n",
      "\n"
     ]
    }
   ],
   "source": [
    "# headline은 불용어 삭제하지 않음. \n",
    "clean_summary = []\n",
    "# 전체 Headline 데이터에 대한 전처리 : 50분 이상 시간이 걸릴 수 있습니다. \n",
    "i = 0 \n",
    "l = len(data['headlines'])\n",
    "\n",
    "for s in data['headlines']:\n",
    "    clean_summary.append(preprocess_sentence(s, False))\n",
    "    print( str(i) +'/' + str(l) +' processed..',end='\\r', flush=True)\n",
    "    i += 1\n",
    "\n",
    "print(\"headlines 전처리 후 결과: \", clean_summary[:5])"
   ]
  },
  {
   "cell_type": "code",
   "execution_count": 12,
   "id": "27d1fb53",
   "metadata": {},
   "outputs": [],
   "source": [
    "# 결과값 확인\n",
    "data['text'] = clean_text\n",
    "data['headline'] = clean_summary\n",
    "\n",
    "# 빈 값을 Null 값으로 변환\n",
    "data.replace('', np.nan, inplace=True)"
   ]
  },
  {
   "cell_type": "code",
   "execution_count": 13,
   "id": "f60bfdcc",
   "metadata": {},
   "outputs": [
    {
     "data": {
      "text/plain": [
       "headlines    0\n",
       "text         0\n",
       "headline     0\n",
       "dtype: int64"
      ]
     },
     "execution_count": 13,
     "metadata": {},
     "output_type": "execute_result"
    }
   ],
   "source": [
    "#null 값 생겼는지 확인\n",
    "data.isnull().sum()"
   ]
  },
  {
   "cell_type": "code",
   "execution_count": null,
   "id": "410437e8",
   "metadata": {},
   "outputs": [],
   "source": [
    "# null 값 삭제\n",
    "data.dropna(axis=0, inplace=True)\n",
    "print('전체 샘플수 :', (len(data)))"
   ]
  },
  {
   "cell_type": "markdown",
   "id": "835b90ab",
   "metadata": {},
   "source": [
    "null 값이 없으므로 dropna() 함수는 굳이 실행하지 않는다.\n",
    "\n",
    "이것으로 데이터 준비가 모두 마쳐졌다."
   ]
  },
  {
   "cell_type": "markdown",
   "id": "dfa3e149",
   "metadata": {},
   "source": [
    "### 샘플의 최대 길이 정하기"
   ]
  },
  {
   "cell_type": "code",
   "execution_count": 14,
   "id": "3c11e817",
   "metadata": {},
   "outputs": [
    {
     "name": "stdout",
     "output_type": "stream",
     "text": [
      "텍스트의 최소 길이 : 1\n",
      "텍스트의 최대 길이 : 60\n",
      "텍스트의 평균 길이 : 35.10031542531542\n",
      "헤드라인의 최소 길이 : 1\n",
      "헤드라인의 최대 길이 : 18\n",
      "헤드라인의 평균 길이 : 9.553388278388278\n"
     ]
    },
    {
     "data": {
      "image/png": "[encoded data removed]",
      "text/plain": [
       "<Figure size 432x288 with 2 Axes>"
      ]
     },
     "metadata": {
      "needs_background": "light"
     },
     "output_type": "display_data"
    },
    {
     "data": {
      "image/png": "[encoded data removed]",
      "text/plain": [
       "<Figure size 432x288 with 1 Axes>"
      ]
     },
     "metadata": {
      "needs_background": "light"
     },
     "output_type": "display_data"
    },
    {
     "data": {
      "image/png": "[encoded data removed]",
      "text/plain": [
       "<Figure size 432x288 with 1 Axes>"
      ]
     },
     "metadata": {
      "needs_background": "light"
     },
     "output_type": "display_data"
    }
   ],
   "source": [
    "# 길이 분포 출력\n",
    "import matplotlib.pyplot as plt\n",
    "\n",
    "text_len = [len(s.split()) for s in data['text']]\n",
    "summary_len = [len(s.split()) for s in data['headlines']]\n",
    "\n",
    "print('텍스트의 최소 길이 : {}'.format(np.min(text_len)))\n",
    "print('텍스트의 최대 길이 : {}'.format(np.max(text_len)))\n",
    "print('텍스트의 평균 길이 : {}'.format(np.mean(text_len)))\n",
    "print('헤드라인의 최소 길이 : {}'.format(np.min(summary_len)))\n",
    "print('헤드라인의 최대 길이 : {}'.format(np.max(summary_len)))\n",
    "print('헤드라인의 평균 길이 : {}'.format(np.mean(summary_len)))\n",
    "\n",
    "plt.subplot(1,2,1)\n",
    "plt.boxplot(text_len)\n",
    "plt.title('text')\n",
    "plt.subplot(1,2,2)\n",
    "plt.boxplot(summary_len)\n",
    "plt.title('headlines')\n",
    "plt.tight_layout()\n",
    "plt.show()\n",
    "\n",
    "plt.title('text')\n",
    "plt.hist(text_len, bins = 40)\n",
    "plt.xlabel('length of samples')\n",
    "plt.ylabel('number of samples')\n",
    "plt.show()\n",
    "\n",
    "plt.title('headlines')\n",
    "plt.hist(summary_len, bins = 40)\n",
    "plt.xlabel('length of samples')\n",
    "plt.ylabel('number of samples')\n",
    "plt.show()"
   ]
  },
  {
   "cell_type": "markdown",
   "id": "34a06899",
   "metadata": {},
   "source": [
    "통계를 보니 텍스트의 평균길이는 약 35이며, 분포를 보니 32~38 사이에 많이 분포되어있다. 최대 길이는 60이다. \n",
    "\n",
    "헤드라인의 길이는 9~10에 집중되어있으며, 평균길이는 9.5이다. "
   ]
  },
  {
   "cell_type": "code",
   "execution_count": 15,
   "id": "ecca424f",
   "metadata": {},
   "outputs": [],
   "source": [
    "text_max_len = 40\n",
    "summary_max_len = 11"
   ]
  },
  {
   "cell_type": "code",
   "execution_count": 16,
   "id": "932e9715",
   "metadata": {},
   "outputs": [],
   "source": [
    "def below_threshold_len(max_len, nested_list):\n",
    "    cnt = 0\n",
    "    for s in nested_list:\n",
    "        if(len(s.split()) <= max_len):\n",
    "            cnt = cnt + 1\n",
    "    print('전체 샘플 중 길이가 %s 이하인 샘플의 비율: %s'%(max_len, (cnt / len(nested_list))))"
   ]
  },
  {
   "cell_type": "code",
   "execution_count": 17,
   "id": "f364ac13",
   "metadata": {},
   "outputs": [
    {
     "name": "stdout",
     "output_type": "stream",
     "text": [
      "전체 샘플 중 길이가 40 이하인 샘플의 비율: 0.9238196988196988\n",
      "전체 샘플 중 길이가 11 이하인 샘플의 비율: 0.9122303622303622\n"
     ]
    }
   ],
   "source": [
    "below_threshold_len(text_max_len, data['text'])\n",
    "below_threshold_len(summary_max_len,  data['headlines'])"
   ]
  },
  {
   "cell_type": "code",
   "execution_count": 18,
   "id": "5a1397a5",
   "metadata": {},
   "outputs": [
    {
     "name": "stdout",
     "output_type": "stream",
     "text": [
      "전체 샘플수 : 82681\n"
     ]
    }
   ],
   "source": [
    "data = data[data['text'].apply(lambda x: len(x.split()) <= text_max_len)]\n",
    "data = data[data['headlines'].apply(lambda x: len(x.split()) <= summary_max_len)]\n",
    "print('전체 샘플수 :', (len(data)))"
   ]
  },
  {
   "cell_type": "markdown",
   "id": "5b6322bd",
   "metadata": {},
   "source": [
    "### 시작 토큰과 종료 토큰 추가하기"
   ]
  },
  {
   "cell_type": "code",
   "execution_count": 19,
   "id": "deaadf31",
   "metadata": {},
   "outputs": [
    {
     "data": {
      "text/html": [
       "<div>\n",
       "<style scoped>\n",
       "    .dataframe tbody tr th:only-of-type {\n",
       "        vertical-align: middle;\n",
       "    }\n",
       "\n",
       "    .dataframe tbody tr th {\n",
       "        vertical-align: top;\n",
       "    }\n",
       "\n",
       "    .dataframe thead th {\n",
       "        text-align: right;\n",
       "    }\n",
       "</style>\n",
       "<table border=\"1\" class=\"dataframe\">\n",
       "  <thead>\n",
       "    <tr style=\"text-align: right;\">\n",
       "      <th></th>\n",
       "      <th>headlines</th>\n",
       "      <th>text</th>\n",
       "      <th>headline</th>\n",
       "      <th>decoder_input</th>\n",
       "      <th>decoder_target</th>\n",
       "    </tr>\n",
       "  </thead>\n",
       "  <tbody>\n",
       "    <tr>\n",
       "      <th>2</th>\n",
       "      <td>New Zealand end Rohit Sharma-led India's 12-ma...</td>\n",
       "      <td>new zealand defeated india wickets fourth odi ...</td>\n",
       "      <td>new zealand end rohit sharma led india match w...</td>\n",
       "      <td>sostoken New Zealand end Rohit Sharma-led Indi...</td>\n",
       "      <td>New Zealand end Rohit Sharma-led India's 12-ma...</td>\n",
       "    </tr>\n",
       "    <tr>\n",
       "      <th>3</th>\n",
       "      <td>Aegon life iTerm insurance plan helps customer...</td>\n",
       "      <td>aegon life iterm insurance plan customers enjo...</td>\n",
       "      <td>aegon life iterm insurance plan helps customer...</td>\n",
       "      <td>sostoken Aegon life iTerm insurance plan helps...</td>\n",
       "      <td>Aegon life iTerm insurance plan helps customer...</td>\n",
       "    </tr>\n",
       "    <tr>\n",
       "      <th>5</th>\n",
       "      <td>Rahat Fateh Ali Khan denies getting notice for...</td>\n",
       "      <td>pakistani singer rahat fateh ali khan denied r...</td>\n",
       "      <td>rahat fateh ali khan denies getting notice for...</td>\n",
       "      <td>sostoken Rahat Fateh Ali Khan denies getting n...</td>\n",
       "      <td>Rahat Fateh Ali Khan denies getting notice for...</td>\n",
       "    </tr>\n",
       "    <tr>\n",
       "      <th>9</th>\n",
       "      <td>Cong wins Ramgarh bypoll in Rajasthan, takes t...</td>\n",
       "      <td>congress candidate shafia zubair ramgarh assem...</td>\n",
       "      <td>cong wins ramgarh bypoll in rajasthan takes to...</td>\n",
       "      <td>sostoken Cong wins Ramgarh bypoll in Rajasthan...</td>\n",
       "      <td>Cong wins Ramgarh bypoll in Rajasthan, takes t...</td>\n",
       "    </tr>\n",
       "    <tr>\n",
       "      <th>10</th>\n",
       "      <td>UP cousins fed human excreta for friendship wi...</td>\n",
       "      <td>two minor cousins uttar pradesh gorakhpur alle...</td>\n",
       "      <td>up cousins fed human excreta for friendship wi...</td>\n",
       "      <td>sostoken UP cousins fed human excreta for frie...</td>\n",
       "      <td>UP cousins fed human excreta for friendship wi...</td>\n",
       "    </tr>\n",
       "  </tbody>\n",
       "</table>\n",
       "</div>"
      ],
      "text/plain": [
       "                                            headlines  \\\n",
       "2   New Zealand end Rohit Sharma-led India's 12-ma...   \n",
       "3   Aegon life iTerm insurance plan helps customer...   \n",
       "5   Rahat Fateh Ali Khan denies getting notice for...   \n",
       "9   Cong wins Ramgarh bypoll in Rajasthan, takes t...   \n",
       "10  UP cousins fed human excreta for friendship wi...   \n",
       "\n",
       "                                                 text  \\\n",
       "2   new zealand defeated india wickets fourth odi ...   \n",
       "3   aegon life iterm insurance plan customers enjo...   \n",
       "5   pakistani singer rahat fateh ali khan denied r...   \n",
       "9   congress candidate shafia zubair ramgarh assem...   \n",
       "10  two minor cousins uttar pradesh gorakhpur alle...   \n",
       "\n",
       "                                             headline  \\\n",
       "2   new zealand end rohit sharma led india match w...   \n",
       "3   aegon life iterm insurance plan helps customer...   \n",
       "5   rahat fateh ali khan denies getting notice for...   \n",
       "9   cong wins ramgarh bypoll in rajasthan takes to...   \n",
       "10  up cousins fed human excreta for friendship wi...   \n",
       "\n",
       "                                        decoder_input  \\\n",
       "2   sostoken New Zealand end Rohit Sharma-led Indi...   \n",
       "3   sostoken Aegon life iTerm insurance plan helps...   \n",
       "5   sostoken Rahat Fateh Ali Khan denies getting n...   \n",
       "9   sostoken Cong wins Ramgarh bypoll in Rajasthan...   \n",
       "10  sostoken UP cousins fed human excreta for frie...   \n",
       "\n",
       "                                       decoder_target  \n",
       "2   New Zealand end Rohit Sharma-led India's 12-ma...  \n",
       "3   Aegon life iTerm insurance plan helps customer...  \n",
       "5   Rahat Fateh Ali Khan denies getting notice for...  \n",
       "9   Cong wins Ramgarh bypoll in Rajasthan, takes t...  \n",
       "10  UP cousins fed human excreta for friendship wi...  "
      ]
     },
     "execution_count": 19,
     "metadata": {},
     "output_type": "execute_result"
    }
   ],
   "source": [
    "# 헤드라인 데이터에는 시작 토큰과 종료 토큰을 추가한다.\n",
    "data['decoder_input'] = data['headlines'].apply(lambda x : 'sostoken '+ x)\n",
    "data['decoder_target'] = data['headlines'].apply(lambda x : x + ' eostoken')\n",
    "data.head()"
   ]
  },
  {
   "cell_type": "code",
   "execution_count": 20,
   "id": "e01c8454",
   "metadata": {},
   "outputs": [],
   "source": [
    "encoder_input = np.array(data['text']) # 인코더의 입력\n",
    "decoder_input = np.array(data['decoder_input']) # 디코더의 입력\n",
    "decoder_target = np.array(data['decoder_target']) # 디코더의 레이블"
   ]
  },
  {
   "cell_type": "markdown",
   "id": "8ca8be2b",
   "metadata": {},
   "source": [
    "### 학습데이터와 테스트데이터 구분하기"
   ]
  },
  {
   "cell_type": "code",
   "execution_count": 21,
   "id": "7b7a8461",
   "metadata": {},
   "outputs": [
    {
     "name": "stdout",
     "output_type": "stream",
     "text": [
      "[ 2276 80579 37089 ... 11623 23384 45794]\n"
     ]
    }
   ],
   "source": [
    "indices = np.arange(encoder_input.shape[0])\n",
    "np.random.shuffle(indices)\n",
    "print(indices)"
   ]
  },
  {
   "cell_type": "code",
   "execution_count": 22,
   "id": "116562ca",
   "metadata": {},
   "outputs": [],
   "source": [
    "encoder_input = encoder_input[indices]\n",
    "decoder_input = decoder_input[indices]\n",
    "decoder_target = decoder_target[indices]"
   ]
  },
  {
   "cell_type": "code",
   "execution_count": 23,
   "id": "782e21fd",
   "metadata": {},
   "outputs": [
    {
     "name": "stdout",
     "output_type": "stream",
     "text": [
      "테스트 데이터의 수 : 16536\n"
     ]
    }
   ],
   "source": [
    "n_of_val = int(len(encoder_input)*0.2)\n",
    "print('테스트 데이터의 수 :', n_of_val)"
   ]
  },
  {
   "cell_type": "code",
   "execution_count": 24,
   "id": "a94de4e8",
   "metadata": {},
   "outputs": [
    {
     "name": "stdout",
     "output_type": "stream",
     "text": [
      "훈련 데이터의 개수 : 66145\n",
      "훈련 레이블의 개수 : 66145\n",
      "테스트 데이터의 개수 : 16536\n",
      "테스트 레이블의 개수 : 16536\n"
     ]
    }
   ],
   "source": [
    "encoder_input_train = encoder_input[:-n_of_val]\n",
    "decoder_input_train = decoder_input[:-n_of_val]\n",
    "decoder_target_train = decoder_target[:-n_of_val]\n",
    "\n",
    "encoder_input_test = encoder_input[-n_of_val:]\n",
    "decoder_input_test = decoder_input[-n_of_val:]\n",
    "decoder_target_test = decoder_target[-n_of_val:]\n",
    "\n",
    "print('훈련 데이터의 개수 :', len(encoder_input_train))\n",
    "print('훈련 레이블의 개수 :', len(decoder_input_train))\n",
    "print('테스트 데이터의 개수 :', len(encoder_input_test))\n",
    "print('테스트 레이블의 개수 :', len(decoder_input_test))"
   ]
  },
  {
   "cell_type": "markdown",
   "id": "7f3bcaa0",
   "metadata": {},
   "source": [
    "### 단어 집합(vocabulary) 만들기 및 정수 인코딩"
   ]
  },
  {
   "cell_type": "code",
   "execution_count": 25,
   "id": "133559ad",
   "metadata": {},
   "outputs": [],
   "source": [
    "src_tokenizer = Tokenizer() # 토크나이저 정의\n",
    "src_tokenizer.fit_on_texts(encoder_input_train) # 입력된 데이터로부터 단어 집합 생성"
   ]
  },
  {
   "cell_type": "code",
   "execution_count": 26,
   "id": "b9c30b53",
   "metadata": {},
   "outputs": [
    {
     "name": "stdout",
     "output_type": "stream",
     "text": [
      "단어 집합(vocabulary)의 크기 : 63917\n",
      "등장 빈도가 6번 이하인 희귀 단어의 수: 43649\n",
      "단어 집합에서 희귀 단어를 제외시킬 경우의 단어 집합의 크기 20268\n",
      "단어 집합에서 희귀 단어의 비율: 68.29012625749019\n",
      "전체 등장 빈도에서 희귀 단어 등장 빈도 비율: 3.8865471828270617\n"
     ]
    }
   ],
   "source": [
    "threshold = 7\n",
    "total_cnt = len(src_tokenizer.word_index) # 단어의 수\n",
    "rare_cnt = 0 # 등장 빈도수가 threshold보다 작은 단어의 개수를 카운트\n",
    "total_freq = 0 # 훈련 데이터의 전체 단어 빈도수 총 합\n",
    "rare_freq = 0 # 등장 빈도수가 threshold보다 작은 단어의 등장 빈도수의 총 합\n",
    "\n",
    "# 단어와 빈도수의 쌍(pair)을 key와 value로 받는다.\n",
    "for key, value in src_tokenizer.word_counts.items():\n",
    "    total_freq = total_freq + value\n",
    "\n",
    "    # 단어의 등장 빈도수가 threshold보다 작으면\n",
    "    if(value < threshold):\n",
    "        rare_cnt = rare_cnt + 1\n",
    "        rare_freq = rare_freq + value\n",
    "\n",
    "print('단어 집합(vocabulary)의 크기 :', total_cnt)\n",
    "print('등장 빈도가 %s번 이하인 희귀 단어의 수: %s'%(threshold - 1, rare_cnt))\n",
    "print('단어 집합에서 희귀 단어를 제외시킬 경우의 단어 집합의 크기 %s'%(total_cnt - rare_cnt))\n",
    "print(\"단어 집합에서 희귀 단어의 비율:\", (rare_cnt / total_cnt)*100)\n",
    "print(\"전체 등장 빈도에서 희귀 단어 등장 빈도 비율:\", (rare_freq / total_freq)*100)"
   ]
  },
  {
   "cell_type": "code",
   "execution_count": 27,
   "id": "d16b6048",
   "metadata": {},
   "outputs": [
    {
     "name": "stdout",
     "output_type": "stream",
     "text": [
      "=3\n"
     ]
    }
   ],
   "source": [
    "src_vocab = 8000\n",
    "src_tokenizer = Tokenizer(num_words=src_vocab) # 단어 집합의 크기를 8,000으로 제한\n",
    "src_tokenizer.fit_on_texts(encoder_input_train) # 단어 집합 재생성\n",
    "print('=3')"
   ]
  },
  {
   "cell_type": "code",
   "execution_count": 28,
   "id": "11a658f5",
   "metadata": {},
   "outputs": [
    {
     "name": "stdout",
     "output_type": "stream",
     "text": [
      "[[166, 18, 4817, 177, 262, 1206, 486, 207, 4455, 2677, 5354, 577, 36, 79, 1438, 7228, 66, 62, 2116, 561, 669, 169, 36, 37, 2677, 780, 971, 1968, 2496, 226, 60, 92, 6518, 63, 1317, 5576, 8], [1322, 1685, 1025, 102, 672, 287, 7229, 7497, 1290, 2590, 356, 1592, 4585, 6008, 7230, 1322, 37, 484, 4031, 287, 2017, 31, 2678, 1322, 1641, 7497, 5649, 7497, 2727], [1164, 476, 255, 295, 2836, 165, 443, 1715, 1462, 47, 3528, 255, 5417, 255, 741, 93, 47, 7638, 1210, 3780, 1164, 636, 5355, 1715, 88, 346, 49, 1, 1164, 5850]]\n"
     ]
    }
   ],
   "source": [
    "# 텍스트 시퀀스를 정수 시퀀스로 변환\n",
    "encoder_input_train = src_tokenizer.texts_to_sequences(encoder_input_train) \n",
    "encoder_input_test = src_tokenizer.texts_to_sequences(encoder_input_test)\n",
    "\n",
    "# 잘 진행되었는지 샘플 출력\n",
    "print(encoder_input_train[:3])"
   ]
  },
  {
   "cell_type": "code",
   "execution_count": 29,
   "id": "b71ee34c",
   "metadata": {},
   "outputs": [
    {
     "name": "stdout",
     "output_type": "stream",
     "text": [
      "=3\n"
     ]
    }
   ],
   "source": [
    "tar_tokenizer = Tokenizer()\n",
    "tar_tokenizer.fit_on_texts(decoder_input_train)\n",
    "print('=3')"
   ]
  },
  {
   "cell_type": "code",
   "execution_count": 30,
   "id": "851d0d83",
   "metadata": {},
   "outputs": [
    {
     "name": "stdout",
     "output_type": "stream",
     "text": [
      "단어 집합(vocabulary)의 크기 : 37859\n",
      "등장 빈도가 5번 이하인 희귀 단어의 수: 27509\n",
      "단어 집합에서 희귀 단어를 제외시킬 경우의 단어 집합의 크기 10350\n",
      "단어 집합에서 희귀 단어의 비율: 72.66171848173487\n",
      "전체 등장 빈도에서 희귀 단어 등장 빈도 비율: 6.999775216872766\n"
     ]
    }
   ],
   "source": [
    "threshold = 6\n",
    "total_cnt = len(tar_tokenizer.word_index) # 단어의 수\n",
    "rare_cnt = 0 # 등장 빈도수가 threshold보다 작은 단어의 개수를 카운트\n",
    "total_freq = 0 # 훈련 데이터의 전체 단어 빈도수 총 합\n",
    "rare_freq = 0 # 등장 빈도수가 threshold보다 작은 단어의 등장 빈도수의 총 합\n",
    "\n",
    "# 단어와 빈도수의 쌍(pair)을 key와 value로 받는다.\n",
    "for key, value in tar_tokenizer.word_counts.items():\n",
    "    total_freq = total_freq + value\n",
    "\n",
    "    # 단어의 등장 빈도수가 threshold보다 작으면\n",
    "    if(value < threshold):\n",
    "        rare_cnt = rare_cnt + 1\n",
    "        rare_freq = rare_freq + value\n",
    "\n",
    "print('단어 집합(vocabulary)의 크기 :', total_cnt)\n",
    "print('등장 빈도가 %s번 이하인 희귀 단어의 수: %s'%(threshold - 1, rare_cnt))\n",
    "print('단어 집합에서 희귀 단어를 제외시킬 경우의 단어 집합의 크기 %s'%(total_cnt - rare_cnt))\n",
    "print(\"단어 집합에서 희귀 단어의 비율:\", (rare_cnt / total_cnt)*100)\n",
    "print(\"전체 등장 빈도에서 희귀 단어 등장 빈도 비율:\", (rare_freq / total_freq)*100)"
   ]
  },
  {
   "cell_type": "code",
   "execution_count": 31,
   "id": "39437302",
   "metadata": {},
   "outputs": [
    {
     "name": "stdout",
     "output_type": "stream",
     "text": [
      "input\n",
      "input  [[1, 38, 391, 271, 160, 7], [1, 1731, 812, 348, 3, 313, 5, 1204, 1833], [1, 239, 703, 1020, 17], [1, 3, 1698], [1, 15, 1373, 78, 8]]\n",
      "target\n",
      "decoder  [[38, 391, 271, 160, 7, 2], [1731, 812, 348, 3, 313, 5, 1204, 1833, 2], [239, 703, 1020, 17, 2], [3, 1698, 2], [15, 1373, 78, 8, 2]]\n"
     ]
    }
   ],
   "source": [
    "tar_vocab = 2000\n",
    "tar_tokenizer = Tokenizer(num_words=tar_vocab) \n",
    "tar_tokenizer.fit_on_texts(decoder_input_train)\n",
    "tar_tokenizer.fit_on_texts(decoder_target_train)\n",
    "\n",
    "# 텍스트 시퀀스를 정수 시퀀스로 변환\n",
    "decoder_input_train = tar_tokenizer.texts_to_sequences(decoder_input_train) \n",
    "decoder_target_train = tar_tokenizer.texts_to_sequences(decoder_target_train)\n",
    "decoder_input_test = tar_tokenizer.texts_to_sequences(decoder_input_test)\n",
    "decoder_target_test = tar_tokenizer.texts_to_sequences(decoder_target_test)\n",
    "\n",
    "# 잘 변환되었는지 확인\n",
    "print('input')\n",
    "print('input ',decoder_input_train[:5])\n",
    "print('target')\n",
    "print('decoder ',decoder_target_train[:5])"
   ]
  },
  {
   "cell_type": "code",
   "execution_count": 32,
   "id": "9ab5654b",
   "metadata": {},
   "outputs": [
    {
     "name": "stdout",
     "output_type": "stream",
     "text": [
      "삭제할 훈련 데이터의 개수 : 8\n",
      "삭제할 테스트 데이터의 개수 : 5\n",
      "훈련 데이터의 개수 : 66137\n",
      "훈련 레이블의 개수 : 66137\n",
      "테스트 데이터의 개수 : 16531\n",
      "테스트 레이블의 개수 : 16531\n"
     ]
    }
   ],
   "source": [
    "drop_train = [index for index, sentence in enumerate(decoder_input_train) if len(sentence) == 1]\n",
    "drop_test = [index for index, sentence in enumerate(decoder_input_test) if len(sentence) == 1]\n",
    "\n",
    "print('삭제할 훈련 데이터의 개수 :', len(drop_train))\n",
    "print('삭제할 테스트 데이터의 개수 :', len(drop_test))\n",
    "\n",
    "encoder_input_train = [sentence for index, sentence in enumerate(encoder_input_train) if index not in drop_train]\n",
    "decoder_input_train = [sentence for index, sentence in enumerate(decoder_input_train) if index not in drop_train]\n",
    "decoder_target_train = [sentence for index, sentence in enumerate(decoder_target_train) if index not in drop_train]\n",
    "\n",
    "encoder_input_test = [sentence for index, sentence in enumerate(encoder_input_test) if index not in drop_test]\n",
    "decoder_input_test = [sentence for index, sentence in enumerate(decoder_input_test) if index not in drop_test]\n",
    "decoder_target_test = [sentence for index, sentence in enumerate(decoder_target_test) if index not in drop_test]\n",
    "\n",
    "print('훈련 데이터의 개수 :', len(encoder_input_train))\n",
    "print('훈련 레이블의 개수 :', len(decoder_input_train))\n",
    "print('테스트 데이터의 개수 :', len(encoder_input_test))\n",
    "print('테스트 레이블의 개수 :', len(decoder_input_test))"
   ]
  },
  {
   "cell_type": "markdown",
   "id": "fac6d743",
   "metadata": {},
   "source": [
    "### 패딩하기"
   ]
  },
  {
   "cell_type": "code",
   "execution_count": 33,
   "id": "9b5335e5",
   "metadata": {},
   "outputs": [
    {
     "name": "stdout",
     "output_type": "stream",
     "text": [
      "=3\n"
     ]
    }
   ],
   "source": [
    "encoder_input_train = pad_sequences(encoder_input_train, maxlen=text_max_len, padding='post')\n",
    "encoder_input_test = pad_sequences(encoder_input_test, maxlen=text_max_len, padding='post')\n",
    "decoder_input_train = pad_sequences(decoder_input_train, maxlen=summary_max_len, padding='post')\n",
    "decoder_target_train = pad_sequences(decoder_target_train, maxlen=summary_max_len, padding='post')\n",
    "decoder_input_test = pad_sequences(decoder_input_test, maxlen=summary_max_len, padding='post')\n",
    "decoder_target_test = pad_sequences(decoder_target_test, maxlen=summary_max_len, padding='post')\n",
    "print('=3')"
   ]
  },
  {
   "cell_type": "markdown",
   "id": "4eda4e93",
   "metadata": {},
   "source": [
    "이것으로 데이터 전처리를 모두 마쳤다."
   ]
  },
  {
   "cell_type": "markdown",
   "id": "e9e23c05",
   "metadata": {},
   "source": [
    "# Step 3. 어텐션 메커니즘 사용하기 (추상적 요약)"
   ]
  },
  {
   "cell_type": "markdown",
   "id": "f57bcd15",
   "metadata": {},
   "source": [
    "일반적인 seq2seq보다는 어텐션 메커니즘을 사용한 seq2seq를 사용하는 것이 더 나은 성능을 얻을 수 있어요.<br> "
   ]
  },
  {
   "cell_type": "markdown",
   "id": "2762424a",
   "metadata": {},
   "source": [
    "## 모델 설계하기"
   ]
  },
  {
   "cell_type": "code",
   "execution_count": 34,
   "id": "0f68907d",
   "metadata": {},
   "outputs": [
    {
     "name": "stdout",
     "output_type": "stream",
     "text": [
      "WARNING:tensorflow:Layer lstm will not use cuDNN kernel since it doesn't meet the cuDNN kernel criteria. It will use generic GPU kernel as fallback when running on GPU\n",
      "WARNING:tensorflow:Layer lstm_1 will not use cuDNN kernel since it doesn't meet the cuDNN kernel criteria. It will use generic GPU kernel as fallback when running on GPU\n",
      "WARNING:tensorflow:Layer lstm_2 will not use cuDNN kernel since it doesn't meet the cuDNN kernel criteria. It will use generic GPU kernel as fallback when running on GPU\n"
     ]
    }
   ],
   "source": [
    "from tensorflow.keras.layers import Input, LSTM, Embedding, Dense, Concatenate, TimeDistributed\n",
    "from tensorflow.keras.models import Model\n",
    "from tensorflow.keras.callbacks import EarlyStopping, ModelCheckpoint\n",
    "\n",
    "\n",
    "# 인코더 설계 시작\n",
    "embedding_dim = 128\n",
    "hidden_size = 256\n",
    "\n",
    "# 인코더\n",
    "encoder_inputs = Input(shape=(text_max_len,))\n",
    "\n",
    "# 인코더의 임베딩 층\n",
    "enc_emb = Embedding(src_vocab, embedding_dim)(encoder_inputs)\n",
    "\n",
    "# 인코더의 LSTM 1\n",
    "encoder_lstm1 = LSTM(hidden_size, return_sequences=True, return_state=True ,dropout = 0.4, recurrent_dropout = 0.4)\n",
    "encoder_output1, state_h1, state_c1 = encoder_lstm1(enc_emb)\n",
    "\n",
    "# 인코더의 LSTM 2\n",
    "encoder_lstm2 = LSTM(hidden_size, return_sequences=True, return_state=True, dropout=0.4, recurrent_dropout=0.4)\n",
    "encoder_output2, state_h2, state_c2 = encoder_lstm2(encoder_output1)\n",
    "\n",
    "# 인코더의 LSTM 3\n",
    "encoder_lstm3 = LSTM(hidden_size, return_state=True, return_sequences=True, dropout=0.4, recurrent_dropout=0.4)\n",
    "encoder_outputs, state_h, state_c= encoder_lstm3(encoder_output2)"
   ]
  },
  {
   "cell_type": "code",
   "execution_count": 35,
   "id": "970e97ce",
   "metadata": {},
   "outputs": [
    {
     "name": "stdout",
     "output_type": "stream",
     "text": [
      "WARNING:tensorflow:Layer lstm_3 will not use cuDNN kernel since it doesn't meet the cuDNN kernel criteria. It will use generic GPU kernel as fallback when running on GPU\n"
     ]
    }
   ],
   "source": [
    "# 디코더 설계\n",
    "decoder_inputs = Input(shape=(None,))\n",
    "\n",
    "# 디코더의 임베딩 층\n",
    "dec_emb_layer = Embedding(tar_vocab, embedding_dim)\n",
    "dec_emb = dec_emb_layer(decoder_inputs)\n",
    "\n",
    "# 디코더의 LSTM\n",
    "decoder_lstm = LSTM(hidden_size, return_sequences=True, return_state=True, dropout=0.4, recurrent_dropout=0.2)\n",
    "decoder_outputs, _, _ = decoder_lstm(dec_emb, initial_state=[state_h, state_c])"
   ]
  },
  {
   "cell_type": "code",
   "execution_count": 38,
   "id": "f058371b",
   "metadata": {},
   "outputs": [
    {
     "name": "stdout",
     "output_type": "stream",
     "text": [
      "Model: \"functional_3\"\n",
      "__________________________________________________________________________________________________\n",
      "Layer (type)                    Output Shape         Param #     Connected to                     \n",
      "==================================================================================================\n",
      "input_1 (InputLayer)            [(None, 40)]         0                                            \n",
      "__________________________________________________________________________________________________\n",
      "embedding (Embedding)           (None, 40, 128)      1024000     input_1[0][0]                    \n",
      "__________________________________________________________________________________________________\n",
      "lstm (LSTM)                     [(None, 40, 256), (N 394240      embedding[0][0]                  \n",
      "__________________________________________________________________________________________________\n",
      "input_2 (InputLayer)            [(None, None)]       0                                            \n",
      "__________________________________________________________________________________________________\n",
      "lstm_1 (LSTM)                   [(None, 40, 256), (N 525312      lstm[0][0]                       \n",
      "__________________________________________________________________________________________________\n",
      "embedding_1 (Embedding)         (None, None, 128)    256000      input_2[0][0]                    \n",
      "__________________________________________________________________________________________________\n",
      "lstm_2 (LSTM)                   [(None, 40, 256), (N 525312      lstm_1[0][0]                     \n",
      "__________________________________________________________________________________________________\n",
      "lstm_3 (LSTM)                   [(None, None, 256),  394240      embedding_1[0][0]                \n",
      "                                                                 lstm_2[0][1]                     \n",
      "                                                                 lstm_2[0][2]                     \n",
      "__________________________________________________________________________________________________\n",
      "dense_1 (Dense)                 (None, None, 2000)   514000      lstm_3[0][0]                     \n",
      "==================================================================================================\n",
      "Total params: 3,633,104\n",
      "Trainable params: 3,633,104\n",
      "Non-trainable params: 0\n",
      "__________________________________________________________________________________________________\n"
     ]
    }
   ],
   "source": [
    "# 디코더의 출력층\n",
    "decoder_softmax_layer = Dense(tar_vocab, activation='softmax')\n",
    "decoder_softmax_outputs = decoder_softmax_layer(decoder_outputs) \n",
    "\n",
    "# 모델 정의\n",
    "model = Model([encoder_inputs, decoder_inputs], decoder_softmax_outputs)\n",
    "model.summary()"
   ]
  },
  {
   "cell_type": "code",
   "execution_count": 39,
   "id": "c37720cd",
   "metadata": {},
   "outputs": [
    {
     "name": "stdout",
     "output_type": "stream",
     "text": [
      "Model: \"functional_5\"\n",
      "__________________________________________________________________________________________________\n",
      "Layer (type)                    Output Shape         Param #     Connected to                     \n",
      "==================================================================================================\n",
      "input_1 (InputLayer)            [(None, 40)]         0                                            \n",
      "__________________________________________________________________________________________________\n",
      "embedding (Embedding)           (None, 40, 128)      1024000     input_1[0][0]                    \n",
      "__________________________________________________________________________________________________\n",
      "lstm (LSTM)                     [(None, 40, 256), (N 394240      embedding[0][0]                  \n",
      "__________________________________________________________________________________________________\n",
      "input_2 (InputLayer)            [(None, None)]       0                                            \n",
      "__________________________________________________________________________________________________\n",
      "lstm_1 (LSTM)                   [(None, 40, 256), (N 525312      lstm[0][0]                       \n",
      "__________________________________________________________________________________________________\n",
      "embedding_1 (Embedding)         (None, None, 128)    256000      input_2[0][0]                    \n",
      "__________________________________________________________________________________________________\n",
      "lstm_2 (LSTM)                   [(None, 40, 256), (N 525312      lstm_1[0][0]                     \n",
      "__________________________________________________________________________________________________\n",
      "lstm_3 (LSTM)                   [(None, None, 256),  394240      embedding_1[0][0]                \n",
      "                                                                 lstm_2[0][1]                     \n",
      "                                                                 lstm_2[0][2]                     \n",
      "__________________________________________________________________________________________________\n",
      "attention_layer (AdditiveAttent (None, None, 256)    256         lstm_3[0][0]                     \n",
      "                                                                 lstm_2[0][0]                     \n",
      "__________________________________________________________________________________________________\n",
      "concat_layer (Concatenate)      (None, None, 512)    0           lstm_3[0][0]                     \n",
      "                                                                 attention_layer[0][0]            \n",
      "__________________________________________________________________________________________________\n",
      "dense_2 (Dense)                 (None, None, 2000)   1026000     concat_layer[0][0]               \n",
      "==================================================================================================\n",
      "Total params: 4,145,360\n",
      "Trainable params: 4,145,360\n",
      "Non-trainable params: 0\n",
      "__________________________________________________________________________________________________\n"
     ]
    }
   ],
   "source": [
    "from tensorflow.keras.layers import AdditiveAttention\n",
    "\n",
    "# 어텐션 층(어텐션 함수)\n",
    "attn_layer = AdditiveAttention(name='attention_layer')\n",
    "\n",
    "# 인코더와 디코더의 모든 time step의 hidden state를 어텐션 층에 전달하고 결과를 리턴\n",
    "attn_out = attn_layer([decoder_outputs, encoder_outputs])\n",
    "\n",
    "\n",
    "# 어텐션의 결과와 디코더의 hidden state들을 연결\n",
    "decoder_concat_input = Concatenate(axis=-1, name='concat_layer')([decoder_outputs, attn_out])\n",
    "\n",
    "# 디코더의 출력층\n",
    "decoder_softmax_layer = Dense(tar_vocab, activation='softmax')\n",
    "decoder_softmax_outputs = decoder_softmax_layer(decoder_concat_input)\n",
    "\n",
    "# 모델 정의\n",
    "model = Model([encoder_inputs, decoder_inputs], decoder_softmax_outputs)\n",
    "model.summary()"
   ]
  },
  {
   "cell_type": "markdown",
   "id": "393869f6",
   "metadata": {},
   "source": [
    "## 모델 훈련하기"
   ]
  },
  {
   "cell_type": "code",
   "execution_count": 40,
   "id": "a0f39105",
   "metadata": {},
   "outputs": [
    {
     "name": "stdout",
     "output_type": "stream",
     "text": [
      "Epoch 1/50\n",
      "259/259 [==============================] - 161s 623ms/step - loss: 4.2138 - val_loss: 3.9312\n",
      "Epoch 2/50\n",
      "259/259 [==============================] - 163s 631ms/step - loss: 3.7417 - val_loss: 3.5982\n",
      "Epoch 3/50\n",
      "259/259 [==============================] - 163s 628ms/step - loss: 3.4735 - val_loss: 3.4004\n",
      "Epoch 4/50\n",
      "259/259 [==============================] - 157s 606ms/step - loss: 3.2822 - val_loss: 3.2510\n",
      "Epoch 5/50\n",
      "259/259 [==============================] - 159s 615ms/step - loss: 3.1336 - val_loss: 3.1426\n",
      "Epoch 6/50\n",
      "259/259 [==============================] - 163s 631ms/step - loss: 3.0101 - val_loss: 3.0516\n",
      "Epoch 7/50\n",
      "259/259 [==============================] - 161s 621ms/step - loss: 2.9066 - val_loss: 2.9901\n",
      "Epoch 8/50\n",
      "259/259 [==============================] - 165s 635ms/step - loss: 2.8199 - val_loss: 2.9273\n",
      "Epoch 9/50\n",
      "259/259 [==============================] - 165s 636ms/step - loss: 2.7432 - val_loss: 2.8879\n",
      "Epoch 10/50\n",
      "259/259 [==============================] - 166s 640ms/step - loss: 2.6758 - val_loss: 2.8502\n",
      "Epoch 11/50\n",
      "259/259 [==============================] - 166s 642ms/step - loss: 2.6174 - val_loss: 2.8205\n",
      "Epoch 12/50\n",
      "259/259 [==============================] - 166s 643ms/step - loss: 2.5630 - val_loss: 2.7980\n",
      "Epoch 13/50\n",
      "259/259 [==============================] - 162s 626ms/step - loss: 2.5137 - val_loss: 2.7745\n",
      "Epoch 14/50\n",
      "259/259 [==============================] - 169s 654ms/step - loss: 2.4684 - val_loss: 2.7624\n",
      "Epoch 15/50\n",
      "259/259 [==============================] - 167s 646ms/step - loss: 2.4273 - val_loss: 2.7473\n",
      "Epoch 16/50\n",
      "259/259 [==============================] - 169s 651ms/step - loss: 2.3885 - val_loss: 2.7431\n",
      "Epoch 17/50\n",
      "259/259 [==============================] - 166s 642ms/step - loss: 2.3515 - val_loss: 2.7331\n",
      "Epoch 18/50\n",
      "259/259 [==============================] - 168s 648ms/step - loss: 2.3175 - val_loss: 2.7254\n",
      "Epoch 19/50\n",
      "259/259 [==============================] - 168s 648ms/step - loss: 2.2863 - val_loss: 2.7210\n",
      "Epoch 20/50\n",
      "259/259 [==============================] - 169s 653ms/step - loss: 2.2563 - val_loss: 2.7194\n",
      "Epoch 21/50\n",
      "259/259 [==============================] - 167s 645ms/step - loss: 2.2279 - val_loss: 2.7104\n",
      "Epoch 22/50\n",
      "259/259 [==============================] - 164s 634ms/step - loss: 2.2013 - val_loss: 2.7068\n",
      "Epoch 23/50\n",
      "259/259 [==============================] - 163s 628ms/step - loss: 2.1761 - val_loss: 2.7069\n",
      "Epoch 24/50\n",
      "259/259 [==============================] - 168s 649ms/step - loss: 2.1521 - val_loss: 2.7057\n",
      "Epoch 25/50\n",
      "259/259 [==============================] - 165s 637ms/step - loss: 2.1293 - val_loss: 2.7105\n",
      "Epoch 26/50\n",
      "259/259 [==============================] - 161s 623ms/step - loss: 2.1084 - val_loss: 2.7087\n",
      "Epoch 00026: early stopping\n"
     ]
    }
   ],
   "source": [
    "model.compile(optimizer='rmsprop', loss='sparse_categorical_crossentropy')\n",
    "es = EarlyStopping(monitor='val_loss', patience=2, verbose=1)\n",
    "history = model.fit(x=[encoder_input_train, decoder_input_train], y=decoder_target_train, \\\n",
    "          validation_data=([encoder_input_test, decoder_input_test], decoder_target_test), \\\n",
    "          batch_size=256, callbacks=[es], epochs=50)"
   ]
  },
  {
   "cell_type": "code",
   "execution_count": 41,
   "id": "ab020939",
   "metadata": {},
   "outputs": [
    {
     "data": {
      "image/png": "[encoded data removed]",
      "text/plain": [
       "<Figure size 432x288 with 1 Axes>"
      ]
     },
     "metadata": {
      "needs_background": "light"
     },
     "output_type": "display_data"
    }
   ],
   "source": [
    "plt.plot(history.history['loss'], label='train')\n",
    "plt.plot(history.history['val_loss'], label='test')\n",
    "plt.legend()\n",
    "plt.show()"
   ]
  },
  {
   "cell_type": "markdown",
   "id": "a5418f1b",
   "metadata": {},
   "source": [
    "학습이 완료되었다."
   ]
  },
  {
   "cell_type": "markdown",
   "id": "738c4754",
   "metadata": {},
   "source": [
    "### 인퍼런스 모델 구하기"
   ]
  },
  {
   "cell_type": "code",
   "execution_count": 42,
   "id": "97d7f30b",
   "metadata": {},
   "outputs": [
    {
     "name": "stdout",
     "output_type": "stream",
     "text": [
      "=3\n"
     ]
    }
   ],
   "source": [
    "src_index_to_word = src_tokenizer.index_word # 원문 단어 집합에서 정수 -> 단어를 얻음\n",
    "tar_word_to_index = tar_tokenizer.word_index # 요약 단어 집합에서 단어 -> 정수를 얻음\n",
    "tar_index_to_word = tar_tokenizer.index_word # 요약 단어 집합에서 정수 -> 단어를 얻음\n",
    "\n",
    "print('=3')"
   ]
  },
  {
   "cell_type": "code",
   "execution_count": 43,
   "id": "3178197f",
   "metadata": {},
   "outputs": [
    {
     "name": "stdout",
     "output_type": "stream",
     "text": [
      "=3\n"
     ]
    }
   ],
   "source": [
    "# 인코더 설계\n",
    "encoder_model = Model(inputs=encoder_inputs, outputs=[encoder_outputs, state_h, state_c])\n",
    "\n",
    "# 이전 시점의 상태들을 저장하는 텐서\n",
    "decoder_state_input_h = Input(shape=(hidden_size,))\n",
    "decoder_state_input_c = Input(shape=(hidden_size,))\n",
    "\n",
    "dec_emb2 = dec_emb_layer(decoder_inputs)\n",
    "\n",
    "# 문장의 다음 단어를 예측하기 위해서 초기 상태(initial_state)를 이전 시점의 상태로 사용. 이는 뒤의 함수 decode_sequence()에 구현\n",
    "# 훈련 과정에서와 달리 LSTM의 리턴하는 은닉 상태와 셀 상태인 state_h와 state_c를 버리지 않음.\n",
    "decoder_outputs2, state_h2, state_c2 = decoder_lstm(dec_emb2, initial_state=[decoder_state_input_h, decoder_state_input_c])\n",
    "\n",
    "print('=3')"
   ]
  },
  {
   "cell_type": "code",
   "execution_count": 44,
   "id": "3cde8bf1",
   "metadata": {},
   "outputs": [
    {
     "name": "stdout",
     "output_type": "stream",
     "text": [
      "=3\n"
     ]
    }
   ],
   "source": [
    "# 어텐션 함수\n",
    "decoder_hidden_state_input = Input(shape=(text_max_len, hidden_size))\n",
    "attn_out_inf = attn_layer([decoder_outputs2, decoder_hidden_state_input])\n",
    "decoder_inf_concat = Concatenate(axis=-1, name='concat')([decoder_outputs2, attn_out_inf])\n",
    "\n",
    "# 디코더의 출력층\n",
    "decoder_outputs2 = decoder_softmax_layer(decoder_inf_concat) \n",
    "\n",
    "# 최종 디코더 모델\n",
    "decoder_model = Model(\n",
    "    [decoder_inputs] + [decoder_hidden_state_input,decoder_state_input_h, decoder_state_input_c],\n",
    "    [decoder_outputs2] + [state_h2, state_c2])\n",
    "\n",
    "print('=3')"
   ]
  },
  {
   "cell_type": "code",
   "execution_count": 45,
   "id": "83cc51d3",
   "metadata": {},
   "outputs": [
    {
     "name": "stdout",
     "output_type": "stream",
     "text": [
      "=3\n"
     ]
    }
   ],
   "source": [
    "def decode_sequence(input_seq):\n",
    "    # 입력으로부터 인코더의 상태를 얻음\n",
    "    e_out, e_h, e_c = encoder_model.predict(input_seq)\n",
    "\n",
    "     # <SOS>에 해당하는 토큰 생성\n",
    "    target_seq = np.zeros((1,1))\n",
    "    target_seq[0, 0] = tar_word_to_index['sostoken']\n",
    "\n",
    "    stop_condition = False\n",
    "    decoded_sentence = ''\n",
    "    while not stop_condition: # stop_condition이 True가 될 때까지 루프 반복\n",
    "\n",
    "        output_tokens, h, c = decoder_model.predict([target_seq] + [e_out, e_h, e_c])\n",
    "        sampled_token_index = np.argmax(output_tokens[0, -1, :])\n",
    "        sampled_token = tar_index_to_word[sampled_token_index]\n",
    "\n",
    "        if (sampled_token!='eostoken'):\n",
    "            decoded_sentence += ' '+sampled_token\n",
    "\n",
    "        #  <eos>에 도달하거나 최대 길이를 넘으면 중단.\n",
    "        if (sampled_token == 'eostoken'  or len(decoded_sentence.split()) >= (summary_max_len-1)):\n",
    "            stop_condition = True\n",
    "\n",
    "        # 길이가 1인 타겟 시퀀스를 업데이트\n",
    "        target_seq = np.zeros((1,1))\n",
    "        target_seq[0, 0] = sampled_token_index\n",
    "\n",
    "        # 상태를 업데이트 합니다.\n",
    "        e_h, e_c = h, c\n",
    "\n",
    "    return decoded_sentence\n",
    "print('=3')"
   ]
  },
  {
   "cell_type": "markdown",
   "id": "2072b126",
   "metadata": {},
   "source": [
    "실습 내용을 참고하여 어텐션 메커니즘을 사용한 seq2seq를 설계완료하였다."
   ]
  },
  {
   "cell_type": "code",
   "execution_count": null,
   "id": "6b47320d",
   "metadata": {},
   "outputs": [],
   "source": []
  },
  {
   "cell_type": "markdown",
   "id": "421e625a",
   "metadata": {},
   "source": [
    "# Step 4. 실제 결과와 요약문 비교하기 (추상적 요약)"
   ]
  },
  {
   "cell_type": "code",
   "execution_count": 46,
   "id": "1857becc",
   "metadata": {},
   "outputs": [
    {
     "name": "stdout",
     "output_type": "stream",
     "text": [
      "=3\n"
     ]
    }
   ],
   "source": [
    "# 원문의 정수 시퀀스를 텍스트 시퀀스로 변환\n",
    "def seq2text(input_seq):\n",
    "    temp=''\n",
    "    for i in input_seq:\n",
    "        if (i!=0):\n",
    "            temp = temp + src_index_to_word[i]+' '\n",
    "    return temp\n",
    "\n",
    "# 요약문의 정수 시퀀스를 텍스트 시퀀스로 변환\n",
    "def seq2summary(input_seq):\n",
    "    temp=''\n",
    "    for i in input_seq:\n",
    "        if ((i!=0 and i!=tar_word_to_index['sostoken']) and i!=tar_word_to_index['eostoken']):\n",
    "            temp = temp + tar_index_to_word[i] + ' '\n",
    "    return temp\n",
    "\n",
    "print('=3')"
   ]
  },
  {
   "cell_type": "markdown",
   "id": "fb2b9d3f",
   "metadata": {},
   "source": [
    "## 실제 결과와 요약문 비교"
   ]
  },
  {
   "cell_type": "code",
   "execution_count": 47,
   "id": "7d1cd30e",
   "metadata": {},
   "outputs": [
    {
     "name": "stdout",
     "output_type": "stream",
     "text": [
      "원문 : japanese conglomerate softbank reportedly set invest million acquire stake pune based baby products startup valuation around million comes previous reports claimed may raise least million million valuation softbank founded \n",
      "실제 요약 : softbank to 40 stake in for report \n",
      "예측 요약 :  softbank to invest in 2 billion funding report\n",
      "\n",
      "\n",
      "원문 : hdfc bank monday said rbi approved appointment aditya puri managing director ceo another two years shareholders already approved appointment period years subject rbi approval puri hdfc bank since making longest serving head private bank india \n",
      "실제 요약 : rbi clears re of as bank ceo \n",
      "예측 요약 :  rbi governor appointed new bank ceo\n",
      "\n",
      "\n",
      "원문 : elon musk slammed publishing company article claimed boring company founder public transit misleading article came brief ai conference musk tweeted highlighting musk comment public transport claimed criticised basic public transit \n",
      "실제 요약 : elon musk slams he public \n",
      "예측 요약 :  musk slams tesla for\n",
      "\n",
      "\n",
      "원문 : users claimed apple iphone iphone max models start charging screen would leave phone alone seconds pick charging symbol user said users also claimed ensure screen lightning charging begin \n",
      "실제 요약 : iphone issues claim users \n",
      "예측 요약 :  iphone x issue to be\n",
      "\n",
      "\n",
      "원문 : june year old albert einstein theory special states light constant speed vacuum nearly lakh object mass increases speed increases hence approaching mass becomes large amount force cannot speed light \n",
      "실제 요약 : why can't travel than light \n",
      "예측 요약 :  in pictures\n",
      "\n",
      "\n",
      "원문 : university california researchers built brain tweet interface claim figure song bird going sing second used silicon measure electrical made using machine learning similar approach could fuel human thought text interface said \n",
      "실제 요약 : scientists claim to brain its next song \n",
      "예측 요약 :  brain that can be made\n",
      "\n",
      "\n",
      "원문 : india silver medal first ever mixed history asian games bahrain gold indian team represented silver medalist muhammad started race followed mr das rajiv india th medal edition games \n",
      "실제 요약 : india bag in first ever in asiad history \n",
      "예측 요약 :  india win 1st asian games\n",
      "\n",
      "\n",
      "원문 : prisoners jail southwest bihar fast till death since wednesday clash took place groups following mobile phones prisoners accused several jail officials showing group prisoners protestors admitted hospital six fell unconscious \n",
      "실제 요약 : 50 bihar jail on fast till death after group clash \n",
      "예측 요약 :  two women in jail since\n",
      "\n",
      "\n",
      "원문 : scientists uk demonstrated quantum could provide navigation without gps satellite technology device uses cool atoms extremely low temperatures measures quantum wave properties respond currently ready use ships trains large vehicles \n",
      "실제 요약 : to without using \n",
      "예측 요약 :  scientists develop to\n",
      "\n",
      "\n",
      "원문 : government launched new initiative called law provide free legal assistance people rural areas video training also provided village women act volunteers villagers government appointed lawyers provide advice training issues like women child rights domestic violence land disputes \n",
      "실제 요약 : to get free legal via video \n",
      "예측 요약 :  govt launches free for\n",
      "\n",
      "\n",
      "원문 : real madrid cristiano ronaldo named uefa best player year season becoming first footballer receive honour thrice ronaldo finished ahead barcelona lionel messi juventus awarded back back seasons year old top scorer last season uefa champions league real madrid \n",
      "실제 요약 : ronaldo first to win best player of the year \n",
      "예측 요약 :  ronaldo to ronaldo for 1st time in ipl\n",
      "\n",
      "\n",
      "원문 : students narayana junior residential college hyderabad tuesday night went apparently college authorities rejected repeated requests students allegedly locked staff office set fire furniture college management declared holiday stating students needed break \n",
      "실제 요약 : hyd students college property after denied \n",
      "예측 요약 :  students in hyd university suspended\n",
      "\n",
      "\n",
      "원문 : contestant reality show asked leave female contestants accused sexual harassment reportedly entered female contestant room without consent turned lights repeatedly commented dress female said would fun two inches \n",
      "실제 요약 : asked to leave over harassment reports \n",
      "예측 요약 :  singer slams for sexual harassment\n",
      "\n",
      "\n",
      "원문 : trolled social media picture team india members indian high commission london actress anushka sharma said whatever happened happened within guidelines trolls clarification made whoever make let us make cry added \n",
      "실제 요약 : it within anushka on pic with team india \n",
      "예측 요약 :  trolls india for remark on\n",
      "\n",
      "\n",
      "원문 : chairman sushil chandra said income tax department issued nearly two lakh notices people deposited lakh demonetisation file returns said around prosecution cases filed last three months tax evasion delayed tax filing \n",
      "실제 요약 : i t to those who over during note ban \n",
      "예측 요약 :  i t dept raids of income tax\n",
      "\n",
      "\n",
      "원문 : domestic match lord june umpire declared batsman last batsman come bat umpire admitted player would ended innings \n",
      "실제 요약 : once declared batsman out as had to \n",
      "예측 요약 :  english player once out of\n",
      "\n",
      "\n",
      "원문 : india skipper ms dhoni ended india year long wait world cup trophy six sri lankan pacer long stadium mumbai april skipper decided come ahead yuvraj singh final later revealed planned finishing match six \n",
      "실제 요약 : video ms six that won india the world cup \n",
      "예측 요약 :  dhoni to play football in u 19 wc cricket\n",
      "\n",
      "\n",
      "원문 : four people arrested indonesia allegedly selling babies instagram instagram account promoted platform family welfare offered counsel pregnant women account featured pictures babies faces along details age location religion \n",
      "실제 요약 : 4 arrested in indonesia for selling on instagram \n",
      "예측 요약 :  man arrested for wedding as pics of\n",
      "\n",
      "\n",
      "원문 : footage cctv camera installed opposite house people found dead revealed family daughter law brought two teenagers got pooja family apparently followed script found said food ordered pm performed \n",
      "실제 요약 : daughter in law got kids for suicide \n",
      "예측 요약 :  man finds dead body after she was\n",
      "\n",
      "\n",
      "원문 : microsoft pledged million next five years ai earth program company announced program announced july make ai accessible researchers solve environmental challenges microsoft also provide universities organisations advanced training put ai best use microsoft president brad smith said \n",
      "실제 요약 : microsoft 50 mn to ai for earth \n",
      "예측 요약 :  microsoft raises ai based ai\n",
      "\n",
      "\n",
      "원문 : tata motors fired corporate communications head suresh accused sexual harassment multiple female employees allegedly pushed girl party continued even though whole room uncomfortable automaker sent leave october investigation complete \n",
      "실제 요약 : tata fires top official accused of sexual harassment \n",
      "예측 요약 :  tata tata steel accused of sexual harassment\n",
      "\n",
      "\n",
      "원문 : report revealed human activities caused population decline island politically divided malaysia indonesia saw losses regions forests cleared agriculture declared critically endangered international union conservation nature \n",
      "실제 요약 : drops by 1 50 000 in 16 years \n",
      "예측 요약 :  over 4 000 indians in 2016\n",
      "\n",
      "\n",
      "원문 : computer software company founder larry launched startup called develop plants grown water rather soil according president use roughly amount water used traditional also solar powered partnership tesla \n",
      "실제 요약 : founder launches startup working on less \n",
      "예측 요약 :  startup to build water in\n",
      "\n",
      "\n",
      "원문 : director said way survive film industry content content good get added hindi films always fighting regional cinema filmmakers like us look challenge opportunity grow cinema said \n",
      "실제 요약 : only way to is by on content maker \n",
      "예측 요약 :  i don't need to be\n",
      "\n",
      "\n",
      "원문 : assam decided install cctv cameras inside examination halls keep check cheating board exams government added pass percentage state drop due measure notably assam earlier flagged centre pass percentage national average \n",
      "실제 요약 : assam to board exams under \n",
      "예측 요약 :  punjab students to wear for\n",
      "\n",
      "\n",
      "원문 : ministry external affairs said minister sushma swaraj raise issue opening kartarpur corridor indian pilgrims meeting pakistan foreign minister united nations general assembly new york even official communication pakistan willing consider matter said spokesperson \n",
      "실제 요약 : sushma to with pak \n",
      "예측 요약 :  india doesn't to india to kashmir issue\n",
      "\n",
      "\n",
      "원문 : us president donald trump threatened shut government congress vote favour government spending bill finance controversial wall along border mexico democrats putting america safety risk opposing wall aims keeping illegal immigrants trump added \n",
      "실제 요약 : will shut government if it won't fund mexico wall trump \n"
     ]
    },
    {
     "name": "stdout",
     "output_type": "stream",
     "text": [
      "예측 요약 :  trump threatens to shut down wall in us\n",
      "\n",
      "\n",
      "원문 : official website indian premier league wrongly mentioned royal challengers bangalore skipper virat kohli left handed batsman whereas player actually right realising website later updated player profile mentioned right kohli played first match ipl mumbai indians friday \n",
      "실제 요약 : ipl site kohli as a left batsman \n",
      "예측 요약 :  website uses to\n",
      "\n",
      "\n",
      "원문 : uttar pradesh constable granted leave applied allegedly claiming lord shiva snake appearing dreams offer leave application widely circulated social media wherein constable applied six day leave could join \n",
      "실제 요약 : cop says lord wants from him granted leave \n",
      "예측 요약 :  up cop for to\n",
      "\n",
      "\n",
      "원문 : four year old girl died attacked pack stray dogs outside home district jammu kashmir tuesday said police locals rushed rescue chased away stray dogs later found girl died police added \n",
      "실제 요약 : old girl dies after being attacked by dogs in j k \n",
      "예측 요약 :  girl dies after being by dogs in j k\n",
      "\n",
      "\n",
      "원문 : july published story titled former navy chief passes away aged carried photograph serving rear also son late story error deeply regret apologise indian navy family \n",
      "실제 요약 : apologises to the indian navy the family \n",
      "예측 요약 :  former pak passes away aged\n",
      "\n",
      "\n",
      "원문 : facebook started testing feature requires users upload photos account verification company confirmed said intended help catch suspicious activity various points interaction site including creating accounts sending friend requests facebook yet comment roll feature globally \n",
      "실제 요약 : facebook tests feature to user accounts with photos \n",
      "예측 요약 :  facebook tests feature to let users\n",
      "\n",
      "\n",
      "원문 : former russian economy minister sentenced eight years prison million bribe attempted money state oil firm purchase another oil firm arrested last year following operation denied charges alleged framed \n",
      "실제 요약 : former russia economy minister jailed for 8 yrs for \n",
      "예측 요약 :  ex us man jailed for crore in us\n",
      "\n",
      "\n",
      "원문 : chief justice india dipak misra thursday said conduct senior lawyers babri masjid dispute case hearing supreme court lawyers kapil sibal rajeev sought hearing till general elections threatened leave court directed \n",
      "실제 요약 : in ayodhya case hearing \n",
      "예측 요약 :  sc rejects plea against\n",
      "\n",
      "\n",
      "원문 : bombay high court held person cannot denied right property left behind parents religious court hearing plea man challenging lower court order selling property sister claimed lost right islam \n",
      "실제 요약 : to property of hindu parents hc \n",
      "예측 요약 :  hc refuses to plea to plea\n",
      "\n",
      "\n",
      "원문 : us federal trade commission investigating startup named raised across two campaigns yet ship product product wifi enabled battery packed power provide local friends however reported receiving accessories like batteries \n",
      "실제 요약 : startup after ã¢ââ¹5 cr faces probe \n",
      "예측 요약 :  us firm orders to\n",
      "\n",
      "\n",
      "원문 : manchester united recorded worst start english premier league years succumbed defeat west saturday arsenal hand registered win scoring rd minute league leaders manchester city also registered win \n",
      "실제 요약 : united record their worst league start in 29 years \n",
      "예측 요약 :  man city beat 3 0 win over 1 0 win\n",
      "\n",
      "\n",
      "원문 : national investigation agency sunday arrested two people hyderabad including teenager alleged links isis carry terror attacks instructions two accused touch adnan hassan earlier arrested nia currently facing trial nn \n",
      "실제 요약 : 2 arrested for planning attack on order \n",
      "예측 요약 :  4 arrested for isis terror attack in\n",
      "\n",
      "\n",
      "원문 : chairman us joint staff general joseph tuesday said believed pakistan inter services intelligence ties militant groups past us slammed pakistan acting islamist militant groups including afghan taliban network \n",
      "실제 요약 : has to terrorist top us general \n",
      "예측 요약 :  us envoy to ex us envoy over\n",
      "\n",
      "\n",
      "원문 : italian woman ordered boyfriend murder website paid cryptocurrency bitcoin sentenced six years imprisonment year old woman ordered murder march murder never carried woman transferred bitcoin cryptocurrency wallet \n",
      "실제 요약 : woman jailed for online using bitcoin \n",
      "예측 요약 :  woman jailed for stealing 17 year old for\n",
      "\n",
      "\n",
      "원문 : whatsapp announced research awards lakh per research proposal fake news spreading platform provide funding proposals designed shared whatsapp facebook policy communities comes day indian government warned whatsapp spreading fake news led mob country \n",
      "실제 요약 : whatsapp announces awards to fight fake news \n",
      "예측 요약 :  whatsapp to fake apps from whatsapp\n",
      "\n",
      "\n",
      "원문 : reacting australian commentator offensive melbourne test india bowling coach bharat arun said people make remarks nothing beyond control added hurt towards better field answers questions said \n",
      "실제 요약 : but it's our control bharat arun on remarks \n",
      "예측 요약 :  i am not much on india ganguly\n",
      "\n",
      "\n",
      "원문 : bbc apologised former china editor said put right giving back pay resigned january due corporation illegal pay culture found bbc two male international earned least two female counterparts \n",
      "실제 요약 : apologises to ex china over pay \n",
      "예측 요약 :  china apologises for\n",
      "\n",
      "\n",
      "원문 : commerce ministry investigation arm ended investigation dumping solar cells india companies china taiwan malaysia claiming would file new petition situation dumping indian solar manufacturers association made request ongoing investigation \n",
      "실제 요약 : govt ends solar anti probe new petition to be filed \n",
      "예측 요약 :  j k to solar data\n",
      "\n",
      "\n",
      "원문 : shiv sena monday wrote mouthpiece bjp government consider farmers suicide clarify termed criminal praising political party stand cow slaughter editorial read congratulate consider cow slaughter crime farmers suicide \n",
      "실제 요약 : farmer as shiv sena to bjp \n",
      "예측 요약 :  sena blames for shiv sena\n",
      "\n",
      "\n",
      "원문 : speaking virat kohli former indian cricketer sanjay tweeted problem opposition general lack success england tried ended getting runs series much made virat yes always read rest tweet \n",
      "실제 요약 : success in kohli's sanjay \n",
      "예측 요약 :  i am not kohli on kohli's remark\n",
      "\n",
      "\n",
      "원문 : nearly years tragedy nuclear disaster site ukraine million solar plant nearly solar panels capable generating power around homes installed site notably ukrainian authorities said would take years people safely area \n",
      "실제 요약 : nuclear site into solar plant \n",
      "예측 요약 :  nuclear plant in solar power plant\n",
      "\n",
      "\n",
      "원문 : talking facebook human former president social media giant said god knows children recent event also said creators mark understood \n",
      "실제 요약 : what fb is doing to ex prez fb \n",
      "예측 요약 :  i have a of a facebook\n",
      "\n",
      "\n",
      "원문 : snapchat ceo spent million new year eve party employees los angeles us company secured proper permits host around guests treated foot dj tower reportedly flew employees around world party rapper gave surprise performance \n",
      "실제 요약 : snapchat ceo 4 million party on new \n",
      "예측 요약 :  ceo to pay 000 cr for\n",
      "\n",
      "\n",
      "원문 : french automaker tuesday said carlos ghosn remain company chairman ceo despite arrest japan suspicion financial misconduct automobile manufacturer however appointed coo temporarily head company move appoint interim ceo reportedly backed french government owns stake \n",
      "실제 요약 : to remain ceo despite arrest in japan \n",
      "예측 요약 :  chairman resigns from chairman\n",
      "\n",
      "\n"
     ]
    }
   ],
   "source": [
    "for i in range(50, 100):\n",
    "    print(\"원문 :\", seq2text(encoder_input_test[i]))\n",
    "    print(\"실제 요약 :\", seq2summary(decoder_input_test[i]))\n",
    "    print(\"예측 요약 :\", decode_sequence(encoder_input_test[i].reshape(1, text_max_len)))\n",
    "    print(\"\\n\")"
   ]
  },
  {
   "cell_type": "markdown",
   "id": "845bf402",
   "metadata": {},
   "source": [
    "어느정도 유사한 요약이 보이지만 그렇지 않은 경우도 많은 것으로 보인다."
   ]
  },
  {
   "cell_type": "code",
   "execution_count": null,
   "id": "82263bf0",
   "metadata": {},
   "outputs": [],
   "source": []
  },
  {
   "cell_type": "markdown",
   "id": "8d42c264",
   "metadata": {},
   "source": [
    "# Step 5. Summa을 이용해서 추출적 요약해보기"
   ]
  },
  {
   "cell_type": "code",
   "execution_count": 49,
   "id": "a3017dec",
   "metadata": {},
   "outputs": [
    {
     "name": "stdout",
     "output_type": "stream",
     "text": [
      "Collecting summa\n",
      "  Downloading summa-1.2.0.tar.gz (54 kB)\n",
      "  Preparing metadata (setup.py): started\n",
      "  Preparing metadata (setup.py): finished with status 'done'\n",
      "Requirement already satisfied: scipy>=0.19 in c:\\users\\s_kmh0207\\anaconda3\\lib\\site-packages (from summa) (1.4.1)\n",
      "Requirement already satisfied: numpy>=1.13.3 in c:\\users\\s_kmh0207\\anaconda3\\lib\\site-packages (from scipy>=0.19->summa) (1.18.5)\n",
      "Building wheels for collected packages: summa\n",
      "  Building wheel for summa (setup.py): started\n",
      "  Building wheel for summa (setup.py): finished with status 'done'\n",
      "  Created wheel for summa: filename=summa-1.2.0-py3-none-any.whl size=54411 sha256=04e829ad147e23ab2f75d83f29049e3ebc0d8eeb56809d0cec6913482eb12d42\n",
      "  Stored in directory: c:\\users\\s_kmh0207\\appdata\\local\\pip\\cache\\wheels\\fd\\6a\\dd\\209eb19d5f2266b9cfd06827539bf70435b0ad5fe8244e52d3\n",
      "Successfully built summa\n",
      "Installing collected packages: summa\n",
      "Successfully installed summa-1.2.0\n"
     ]
    },
    {
     "name": "stderr",
     "output_type": "stream",
     "text": [
      "WARNING: You are using pip version 21.3.1; however, version 22.0.3 is available.\n",
      "You should consider upgrading via the 'C:\\users\\s_kmh0207\\anaconda3\\python.exe -m pip install --upgrade pip' command.\n"
     ]
    }
   ],
   "source": [
    "!pip install summa"
   ]
  },
  {
   "cell_type": "code",
   "execution_count": 50,
   "id": "37d769aa",
   "metadata": {},
   "outputs": [],
   "source": [
    "import requests\n",
    "from summa.summarizer import summarize"
   ]
  },
  {
   "cell_type": "code",
   "execution_count": 78,
   "id": "76b9636b",
   "metadata": {},
   "outputs": [
    {
     "data": {
      "text/plain": [
       "2       new zealand defeated india wickets fourth odi ...\n",
       "3       aegon life iterm insurance plan customers enjo...\n",
       "5       pakistani singer rahat fateh ali khan denied r...\n",
       "9       congress candidate shafia zubair ramgarh assem...\n",
       "10      two minor cousins uttar pradesh gorakhpur alle...\n",
       "                              ...                        \n",
       "2045    google doodle tuesday honoured sake dean mahom...\n",
       "2047    prime minister narendra modi tuesday said cent...\n",
       "2048    video surfaced online people seen looting birt...\n",
       "2049    muniyappa congress mla sidlaghatta constituenc...\n",
       "2050    many chickens burnt alive poultry farm uttar p...\n",
       "Name: text, Length: 1500, dtype: object"
      ]
     },
     "execution_count": 78,
     "metadata": {},
     "output_type": "execute_result"
    }
   ],
   "source": [
    "data['text'][:1500]"
   ]
  },
  {
   "cell_type": "code",
   "execution_count": 79,
   "id": "faeebc4f",
   "metadata": {},
   "outputs": [
    {
     "data": {
      "text/plain": [
       "pandas.core.series.Series"
      ]
     },
     "execution_count": 79,
     "metadata": {},
     "output_type": "execute_result"
    }
   ],
   "source": [
    "type(data['text'])"
   ]
  },
  {
   "cell_type": "markdown",
   "id": "a120d01b",
   "metadata": {},
   "source": [
    "현재 data는 pandas의 Series로 구성되어있다. \n",
    "\n",
    "summa의 summarize() 함수는 string type이어야 동작하므로 이를 바꿔준다."
   ]
  },
  {
   "cell_type": "code",
   "execution_count": 67,
   "id": "0902cee3",
   "metadata": {},
   "outputs": [],
   "source": [
    "text = data['text'].to_string()"
   ]
  },
  {
   "cell_type": "code",
   "execution_count": 69,
   "id": "fa155134",
   "metadata": {},
   "outputs": [
    {
     "data": {
      "text/plain": [
       "str"
      ]
     },
     "execution_count": 69,
     "metadata": {},
     "output_type": "execute_result"
    }
   ],
   "source": [
    "type(text)"
   ]
  },
  {
   "cell_type": "code",
   "execution_count": 84,
   "id": "0abbae0a",
   "metadata": {},
   "outputs": [],
   "source": [
    "text = text[:1500]"
   ]
  },
  {
   "cell_type": "markdown",
   "id": "9a19c616",
   "metadata": {},
   "source": [
    "비율은 0.5 정도로 해야 결과가 나오기 때문에 그렇게 설정하였다."
   ]
  },
  {
   "cell_type": "code",
   "execution_count": 88,
   "id": "cf2dcd08",
   "metadata": {},
   "outputs": [
    {
     "name": "stdout",
     "output_type": "stream",
     "text": [
      "Summary:\n",
      "3        aegon life iterm insurance plan customers enjo...\n",
      "9        congress candidate shafia zubair ramgarh assem...\n",
      "18       days threatened step post congress mlas contin...\n",
      "19       union minister dharmendra pradhan wednesday cl...\n",
      "21       indian space research organisation wednesday u...\n",
      "24       indian oil corporation wednesday said looking ...\n",
      "27       stand captain rohit sharma become th indian cr...\n",
      "28       batsman shubman gill become th cricketer repre...\n",
      "35       twenty seven year old mohammed mahuwala arrest...\n",
      "37       afghan president ashraf ghani said keys war pa...\n",
      "38       singapore based insurance agent jailed two yea...\n",
      "39       gabrielle reilly year old us woman created ear...\n",
      "40       ex icici bank ceo chanda kochhar said utterly ...\n"
     ]
    }
   ],
   "source": [
    "print('Summary:')\n",
    "print(summarize(text, ratio=0.5))"
   ]
  },
  {
   "cell_type": "code",
   "execution_count": 89,
   "id": "300e965f",
   "metadata": {},
   "outputs": [
    {
     "name": "stdout",
     "output_type": "stream",
     "text": [
      "Summary:\n",
      "['3        aegon life iterm insurance plan customers enjo...', '9        congress candidate shafia zubair ramgarh assem...', '18       days threatened step post congress mlas contin...', '19       union minister dharmendra pradhan wednesday cl...', '21       indian space research organisation wednesday u...', '24       indian oil corporation wednesday said looking ...', '27       stand captain rohit sharma become th indian cr...', '28       batsman shubman gill become th cricketer repre...', '35       twenty seven year old mohammed mahuwala arrest...', '37       afghan president ashraf ghani said keys war pa...', '38       singapore based insurance agent jailed two yea...', '39       gabrielle reilly year old us woman created ear...', '40       ex icici bank ceo chanda kochhar said utterly ...']\n"
     ]
    }
   ],
   "source": [
    "print('Summary:')\n",
    "print(summarize(text, ratio=0.5, split=True)) # list로 출력"
   ]
  },
  {
   "cell_type": "code",
   "execution_count": 90,
   "id": "d7cad10a",
   "metadata": {},
   "outputs": [
    {
     "name": "stdout",
     "output_type": "stream",
     "text": [
      "Summary:\n",
      "3        aegon life iterm insurance plan customers enjo...\n",
      "9        congress candidate shafia zubair ramgarh assem...\n",
      "18       days threatened step post congress mlas contin...\n",
      "35       twenty seven year old mohammed mahuwala arrest...\n",
      "38       singapore based insurance agent jailed two yea...\n",
      "39       gabrielle reilly year old us woman created ear...\n"
     ]
    }
   ],
   "source": [
    "print('Summary:')\n",
    "print(summarize(text, words=50)) # 단어수 제한"
   ]
  },
  {
   "cell_type": "markdown",
   "id": "ee572517",
   "metadata": {},
   "source": [
    "# 마무리"
   ]
  },
  {
   "cell_type": "markdown",
   "id": "e28b3d55",
   "metadata": {},
   "source": [
    "이번 실습을 통해 텍스트 요약을 진행해보았다. \n",
    "\n",
    "기본적인 텍스트 요약 모델을 만드는 과정을 경험해보았으나, 이를 개선하기 위해서는 다른 방안을 추가적으로 공부해보아야 할 것 같다. \n",
    "\n",
    "데이터 양이 9만개가 넘다보니 전처리 과정이나 학습 비용이 너무 커서 오래 걸렸다. "
   ]
  },
  {
   "cell_type": "markdown",
   "id": "f1f7821b",
   "metadata": {},
   "source": []
  }
 ],
 "metadata": {
  "kernelspec": {
   "display_name": "Python 3",
   "language": "python",
   "name": "python3"
  },
  "language_info": {
   "codemirror_mode": {
    "name": "ipython",
    "version": 3
   },
   "file_extension": ".py",
   "mimetype": "text/x-python",
   "name": "python",
   "nbconvert_exporter": "python",
   "pygments_lexer": "ipython3",
   "version": "3.8.8"
  }
 },
 "nbformat": 4,
 "nbformat_minor": 5
}
