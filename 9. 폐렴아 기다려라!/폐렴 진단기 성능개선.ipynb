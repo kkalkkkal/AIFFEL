{
 "cells": [
  {
   "cell_type": "markdown",
   "id": "73763210",
   "metadata": {},
   "source": [
    "# Step 1. 실험환경 Set-up\n",
    "\n",
    "우선 작업에 필요한 라이브러리를 불러온다"
   ]
  },
  {
   "cell_type": "code",
   "execution_count": 1,
   "id": "4f56f3d0",
   "metadata": {},
   "outputs": [],
   "source": [
    "import os, re\n",
    "import random, math\n",
    "import numpy as np\n",
    "import tensorflow as tf\n",
    "import matplotlib.pyplot as plt\n",
    "import warnings \n",
    "warnings.filterwarnings(action='ignore')"
   ]
  },
  {
   "cell_type": "markdown",
   "id": "be2bd83a",
   "metadata": {},
   "source": [
    "https://www.kaggle.com/paultimothymooney/chest-xray-pneumonia\n",
    "\n",
    "위 링크에서 자료를 다운 받았다. <br>\n",
    "데이터는 chest-xray 폴더 아래에 train, val, test 폴더로 구성되어있으며 <br>\n",
    "각 폴더의 하위 폴더에 정상과 폐렴 사진 폴더가 준비되어있다. "
   ]
  },
  {
   "cell_type": "code",
   "execution_count": 2,
   "id": "3587c8db",
   "metadata": {},
   "outputs": [],
   "source": [
    "# 데이터 로드할 때 빠르게 로드할 수 있도록하는 설정 변수\n",
    "AUTOTUNE = tf.data.experimental.AUTOTUNE\n",
    "# X-RAY 이미지 사이즈 변수\n",
    "IMAGE_SIZE = [180, 180]\n",
    "\n",
    "# 데이터 경로 변수\n",
    "TRAIN_PATH =  './chest_xray/train/*/*' # *은 모든 디렉토리와 파일을 의미합니다.\n",
    "VAL_PATH = './chest_xray/val/*/*'\n",
    "TEST_PATH = './chest_xray/test/*/*'"
   ]
  },
  {
   "cell_type": "markdown",
   "id": "58d3b3c7",
   "metadata": {},
   "source": [
    "# Step 2. 데이터 준비하기"
   ]
  },
  {
   "cell_type": "code",
   "execution_count": 3,
   "id": "611bed4e",
   "metadata": {},
   "outputs": [
    {
     "name": "stdout",
     "output_type": "stream",
     "text": [
      "5216\n",
      "624\n",
      "16\n"
     ]
    }
   ],
   "source": [
    "train_filenames = tf.io.gfile.glob(TRAIN_PATH)\n",
    "test_filenames = tf.io.gfile.glob(TEST_PATH)\n",
    "val_filenames = tf.io.gfile.glob(VAL_PATH)\n",
    "\n",
    "print(len(train_filenames))\n",
    "print(len(test_filenames))\n",
    "print(len(val_filenames))"
   ]
  },
  {
   "cell_type": "markdown",
   "id": "d5b6f3e8",
   "metadata": {},
   "source": [
    "일반적으로 train : val : test의 비율은 7:2:1이 적절하므로 train에서 val로 데이터를 조금 양분한다. "
   ]
  },
  {
   "cell_type": "code",
   "execution_count": 4,
   "id": "a35071bd",
   "metadata": {},
   "outputs": [
    {
     "name": "stdout",
     "output_type": "stream",
     "text": [
      "4185\n",
      "1047\n"
     ]
    }
   ],
   "source": [
    "# train 데이터와 validation 데이터를 모두 filenames에 담습니다\n",
    "filenames = tf.io.gfile.glob(TRAIN_PATH)\n",
    "filenames.extend(tf.io.gfile.glob(VAL_PATH))\n",
    "\n",
    "# 모아진 filenames를 8:2로 나눕니다\n",
    "train_size = math.floor(len(filenames)*0.8)\n",
    "random.seed(8)\n",
    "random.shuffle(filenames)\n",
    "train_filenames = filenames[:train_size]\n",
    "val_filenames = filenames[train_size:]\n",
    "\n",
    "print(len(train_filenames))\n",
    "print(len(val_filenames))"
   ]
  },
  {
   "cell_type": "markdown",
   "id": "8e31f812",
   "metadata": {},
   "source": [
    "tf.data 인스턴스 만들기"
   ]
  },
  {
   "cell_type": "code",
   "execution_count": 5,
   "id": "e862e303",
   "metadata": {},
   "outputs": [],
   "source": [
    "train_list_ds = tf.data.Dataset.from_tensor_slices(train_filenames)\n",
    "val_list_ds = tf.data.Dataset.from_tensor_slices(val_filenames)"
   ]
  },
  {
   "cell_type": "code",
   "execution_count": 6,
   "id": "18e362e2",
   "metadata": {},
   "outputs": [
    {
     "name": "stdout",
     "output_type": "stream",
     "text": [
      "Training images count: 4185\n",
      "Validating images count: 1047\n"
     ]
    }
   ],
   "source": [
    "TRAIN_IMG_COUNT = tf.data.experimental.cardinality(train_list_ds).numpy()\n",
    "print(f\"Training images count: {TRAIN_IMG_COUNT}\")\n",
    "\n",
    "VAL_IMG_COUNT = tf.data.experimental.cardinality(val_list_ds).numpy()\n",
    "print(f\"Validating images count: {VAL_IMG_COUNT}\")"
   ]
  },
  {
   "cell_type": "markdown",
   "id": "0ec060f6",
   "metadata": {},
   "source": [
    "현재 라벨 데이터가 없으므로 폴더 경로명에 따라 라벨을 붙여준다."
   ]
  },
  {
   "cell_type": "code",
   "execution_count": 7,
   "id": "75c1344d",
   "metadata": {},
   "outputs": [],
   "source": [
    "# 파일 경로의 끝에서 두번째 부분을 확인하면 양성과 음성을 구분할 수 있습니다\n",
    "def get_label(file_path):\n",
    "    parts = tf.strings.split(file_path, os.path.sep)\n",
    "    return parts[-2] == \"PNEUMONIA\"   # 폐렴이면 양성(True), 노말이면 음성(False)"
   ]
  },
  {
   "cell_type": "code",
   "execution_count": 8,
   "id": "fddce525",
   "metadata": {},
   "outputs": [],
   "source": [
    "# 이미지를 알맞은 형식으로 바꿉니다.\n",
    "def decode_img(img):\n",
    "    img = tf.image.decode_jpeg(img, channels=3) # 이미지를 uint8 tensor로 수정\n",
    "    img = tf.image.convert_image_dtype(img, tf.float32) # float32 타입으로 수정\n",
    "    img = tf.image.resize(img, IMAGE_SIZE) # 이미지 사이즈를 IMAGE_SIZE로 수정\n",
    "    return img\n",
    "\n",
    "# 이미지 파일의 경로를 입력하면 이미지와 라벨을 읽어옵니다.\n",
    "def process_path(file_path):\n",
    "    label = get_label(file_path) # 라벨 검출\n",
    "    img = tf.io.read_file(file_path) # 이미지 읽기\n",
    "    img = decode_img(img) # 이미지를 알맞은 형식으로 수정\n",
    "    return img, label"
   ]
  },
  {
   "cell_type": "code",
   "execution_count": 9,
   "id": "259ea268",
   "metadata": {},
   "outputs": [],
   "source": [
    "train_ds = train_list_ds.map(process_path, num_parallel_calls=AUTOTUNE)\n",
    "val_ds = val_list_ds.map(process_path, num_parallel_calls=AUTOTUNE)"
   ]
  },
  {
   "cell_type": "code",
   "execution_count": 10,
   "id": "7e1d48fe",
   "metadata": {},
   "outputs": [
    {
     "name": "stdout",
     "output_type": "stream",
     "text": [
      "Image shape:  (180, 180, 3)\n",
      "Label:  False\n",
      "Image shape:  (180, 180, 3)\n",
      "Label:  True\n",
      "Image shape:  (180, 180, 3)\n",
      "Label:  True\n",
      "Image shape:  (180, 180, 3)\n",
      "Label:  True\n",
      "Image shape:  (180, 180, 3)\n",
      "Label:  False\n",
      "Image shape:  (180, 180, 3)\n",
      "Label:  True\n",
      "Image shape:  (180, 180, 3)\n",
      "Label:  False\n",
      "Image shape:  (180, 180, 3)\n",
      "Label:  True\n",
      "Image shape:  (180, 180, 3)\n",
      "Label:  False\n",
      "Image shape:  (180, 180, 3)\n",
      "Label:  False\n"
     ]
    }
   ],
   "source": [
    "for image, label in train_ds.take(10):\n",
    "    print(\"Image shape: \", image.numpy().shape)\n",
    "    print(\"Label: \", label.numpy())"
   ]
  },
  {
   "cell_type": "markdown",
   "id": "f081b707",
   "metadata": {},
   "source": [
    "라벨이 잘 부여된 것을 확인했으니 이제 test 데이터 셋을 구성한다."
   ]
  },
  {
   "cell_type": "code",
   "execution_count": 11,
   "id": "a1e15f0e",
   "metadata": {},
   "outputs": [],
   "source": [
    "# 프로젝트를 진행할 때 아래 두 변수를 변경해보세요\n",
    "BATCH_SIZE = 300\n",
    "EPOCHS = 40"
   ]
  },
  {
   "cell_type": "markdown",
   "id": "b0879a92",
   "metadata": {},
   "source": [
    "배치 사이즈와 epoch를 조정해서 튜닝한다."
   ]
  },
  {
   "cell_type": "code",
   "execution_count": 12,
   "id": "9eff6528",
   "metadata": {},
   "outputs": [
    {
     "name": "stdout",
     "output_type": "stream",
     "text": [
      "624\n"
     ]
    }
   ],
   "source": [
    "test_list_ds = tf.data.Dataset.list_files(TEST_PATH)\n",
    "TEST_IMAGE_COUNT = tf.data.experimental.cardinality(test_list_ds).numpy()\n",
    "test_ds = test_list_ds.map(process_path, num_parallel_calls=AUTOTUNE)\n",
    "test_ds = test_ds.batch(BATCH_SIZE)\n",
    "\n",
    "print(TEST_IMAGE_COUNT)"
   ]
  },
  {
   "cell_type": "markdown",
   "id": "1259eac6",
   "metadata": {},
   "source": [
    "이제 현재 준비된 데이터를 증강시킨다. <br>\n",
    "data augmentation을 진행한다. <br>\n",
    "진행하는 data augmentation은 좌우 반전과 상하반전 등을 진행한다.\n",
    "\n",
    "참고 : https://www.tensorflow.org/api_docs/python/tf/image/random_flip_left_right\n"
   ]
  },
  {
   "cell_type": "code",
   "execution_count": 13,
   "id": "dbb7d833",
   "metadata": {},
   "outputs": [],
   "source": [
    "from tensorflow.keras import layers"
   ]
  },
  {
   "cell_type": "code",
   "execution_count": 17,
   "id": "7595b91b",
   "metadata": {},
   "outputs": [],
   "source": [
    "def augment(image,label):\n",
    "    image = tf.image.random_flip_left_right(image)  # 랜덤하게 좌우를 반전합니다.\n",
    "    #image = tf.image.random_flip_up_down(image) # 랜덤하게 상하를 반전합니다.\n",
    "    image = tf.image.random_brightness(image, max_delta=0.2) # 랜덤하게 밝기를 조절합니다.\n",
    "    image = tf.clip_by_value(image, 0, 1)\n",
    "  #layers.RandomContrast, layers.RandomCrop, layers.RandomZoom\n",
    "    return image,label\n",
    "\n",
    "def prepare_for_training(ds, shuffle_buffer_size=1000):\n",
    "    # augment 적용 부분이 배치처리 함수에 추가되었습니다.\n",
    "    ds = ds.map(\n",
    "            augment,       # augment 함수 적용\n",
    "            num_parallel_calls=2\n",
    "        )\n",
    "    ds = ds.shuffle(buffer_size=shuffle_buffer_size)\n",
    "    ds = ds.repeat()\n",
    "    ds = ds.batch(BATCH_SIZE)\n",
    "    ds = ds.prefetch(buffer_size=AUTOTUNE)\n",
    "\n",
    "    return ds\n"
   ]
  },
  {
   "cell_type": "code",
   "execution_count": 18,
   "id": "e6c125da",
   "metadata": {},
   "outputs": [],
   "source": [
    "\n",
    "train_ds = prepare_for_training(train_ds)\n",
    "val_ds = prepare_for_training(val_ds)"
   ]
  },
  {
   "cell_type": "markdown",
   "id": "8524f163",
   "metadata": {},
   "source": [
    "이것으로 데이터 준비를 마친다."
   ]
  },
  {
   "cell_type": "markdown",
   "id": "19579730",
   "metadata": {},
   "source": [
    "# Step 3. 데이터 시각화"
   ]
  },
  {
   "cell_type": "code",
   "execution_count": null,
   "id": "2c788259",
   "metadata": {},
   "outputs": [],
   "source": [
    "# 이미지 배치를 입력하면 여러장의 이미지를 보여줍니다.\n",
    "def show_batch(image_batch, label_batch):\n",
    "    plt.figure(figsize=(10,10))\n",
    "    for n in range(BATCH_SIZE):\n",
    "        ax = plt.subplot(10,math.ceil(BATCH_SIZE/10),n+1)\n",
    "        plt.imshow(image_batch[n])\n",
    "        if label_batch[n]:\n",
    "            plt.title(\"PNEUMONIA\")\n",
    "        else:\n",
    "            plt.title(\"NORMAL\")\n",
    "        plt.axis(\"off\")\n",
    "\n",
    "\n",
    "image_batch, label_batch = next(iter(train_ds))\n",
    "show_batch(image_batch.numpy(), label_batch.numpy())"
   ]
  },
  {
   "cell_type": "markdown",
   "id": "33384ed8",
   "metadata": {},
   "source": [
    "잘 바뀐 것을 확인할 수 있다."
   ]
  },
  {
   "cell_type": "markdown",
   "id": "1d1ee517",
   "metadata": {},
   "source": [
    "# Step 4. CNN 모델링"
   ]
  },
  {
   "cell_type": "code",
   "execution_count": 17,
   "id": "2d473412",
   "metadata": {},
   "outputs": [],
   "source": [
    "def conv_block(filters):\n",
    "    block = tf.keras.Sequential([\n",
    "        tf.keras.layers.SeparableConv2D(filters, 3, activation='relu', padding='same'),\n",
    "        tf.keras.layers.SeparableConv2D(filters, 3, activation='relu', padding='same'),\n",
    "        tf.keras.layers.BatchNormalization(),\n",
    "        tf.keras.layers.MaxPool2D()\n",
    "    ])\n",
    "    \n",
    "    return block"
   ]
  },
  {
   "cell_type": "code",
   "execution_count": 18,
   "id": "f253b940",
   "metadata": {},
   "outputs": [],
   "source": [
    "def dense_block(units, dropout_rate):\n",
    "    block = tf.keras.Sequential([\n",
    "        tf.keras.layers.Dense(units, activation='relu'),\n",
    "        tf.keras.layers.BatchNormalization(),\n",
    "        tf.keras.layers.Dropout(dropout_rate)\n",
    "    ])\n",
    "    \n",
    "    return block"
   ]
  },
  {
   "cell_type": "code",
   "execution_count": 19,
   "id": "99c41cea",
   "metadata": {},
   "outputs": [],
   "source": [
    "def build_model():\n",
    "    model = tf.keras.Sequential([\n",
    "        tf.keras.Input(shape=(IMAGE_SIZE[0], IMAGE_SIZE[1], 3)),\n",
    "        \n",
    "        tf.keras.layers.Conv2D(16, 3, activation='relu', padding='same'),\n",
    "        tf.keras.layers.Conv2D(16, 3, activation='relu', padding='same'),\n",
    "        tf.keras.layers.MaxPool2D(),\n",
    "        \n",
    "        conv_block(32),\n",
    "        conv_block(64),\n",
    "        \n",
    "        conv_block(128),\n",
    "        tf.keras.layers.Dropout(0.2),\n",
    "        \n",
    "        conv_block(256),\n",
    "        tf.keras.layers.Dropout(0.2),\n",
    "        \n",
    "        tf.keras.layers.Flatten(),\n",
    "        dense_block(512, 0.7),\n",
    "        dense_block(128, 0.5),\n",
    "        dense_block(64, 0.3),\n",
    "        \n",
    "        tf.keras.layers.Dense(1, activation='sigmoid')\n",
    "    ])\n",
    "    \n",
    "    return model"
   ]
  },
  {
   "cell_type": "markdown",
   "id": "2c532071",
   "metadata": {},
   "source": [
    "dense_block을 추가해보기도 하고, 레이어의 크기를 바꿔보기도 하고, 배치노멀화나 dropout을 둘 중 하나만 적용해보기도 하고 다양한 시도를 진행하였다."
   ]
  },
  {
   "cell_type": "markdown",
   "id": "daad2040",
   "metadata": {},
   "source": [
    "# Step 5. 데이터 imbalance 처리"
   ]
  },
  {
   "cell_type": "markdown",
   "id": "51386b6a",
   "metadata": {},
   "source": [
    "train 폴더에서 정상 사진과 폐렴 사진의 비율을 확인한다."
   ]
  },
  {
   "cell_type": "code",
   "execution_count": 20,
   "id": "ebea6524",
   "metadata": {},
   "outputs": [
    {
     "name": "stdout",
     "output_type": "stream",
     "text": [
      "Normal image path\n",
      ".\\chest_xray\\train\\NORMAL\\NORMAL2-IM-0707-0001.jpeg\n",
      "Pneumonia image path\n",
      ".\\chest_xray\\train\\PNEUMONIA\\person610_bacteria_2475.jpeg\n"
     ]
    }
   ],
   "source": [
    "print(f'Normal image path\\n{filenames[0]}')\n",
    "print(f'Pneumonia image path\\n{filenames[2000]}')"
   ]
  },
  {
   "cell_type": "code",
   "execution_count": 21,
   "id": "027b391e",
   "metadata": {},
   "outputs": [
    {
     "name": "stdout",
     "output_type": "stream",
     "text": [
      "Normal images count in training set: 1072\n",
      "Pneumonia images count in training set: 3113\n"
     ]
    }
   ],
   "source": [
    "COUNT_NORMAL = len([filename for filename in train_filenames if \"NORMAL\" in filename])\n",
    "print(f\"Normal images count in training set: {COUNT_NORMAL}\")\n",
    "\n",
    "\n",
    "COUNT_PNEUMONIA = len([filename for filename in train_filenames if \"PNEUMONIA\" in filename])\n",
    "print(f\"Pneumonia images count in training set: {COUNT_PNEUMONIA}\")"
   ]
  },
  {
   "cell_type": "code",
   "execution_count": 22,
   "id": "8eee05d5",
   "metadata": {},
   "outputs": [
    {
     "name": "stdout",
     "output_type": "stream",
     "text": [
      "Weight for NORMAL: 1.95\n",
      "Weight for PNEUMONIA: 0.67\n"
     ]
    }
   ],
   "source": [
    "weight_for_0 = (1 / COUNT_NORMAL)*(TRAIN_IMG_COUNT)/2.0 \n",
    "weight_for_1 = (1 / COUNT_PNEUMONIA)*(TRAIN_IMG_COUNT)/2.0\n",
    "\n",
    "class_weight = {0: weight_for_0, 1: weight_for_1}\n",
    "\n",
    "print('Weight for NORMAL: {:.2f}'.format(weight_for_0))\n",
    "print('Weight for PNEUMONIA: {:.2f}'.format(weight_for_1))"
   ]
  },
  {
   "cell_type": "markdown",
   "id": "15fa3ef7",
   "metadata": {},
   "source": [
    "각 라벨별로 가중치 설정도 마무리되었다."
   ]
  },
  {
   "cell_type": "markdown",
   "id": "1b3325a2",
   "metadata": {},
   "source": [
    "# Step 6. 모델 훈련"
   ]
  },
  {
   "cell_type": "code",
   "execution_count": 23,
   "id": "1d5e086e",
   "metadata": {},
   "outputs": [],
   "source": [
    "from tensorflow.keras.callbacks import EarlyStopping, ModelCheckpoint"
   ]
  },
  {
   "cell_type": "code",
   "execution_count": 24,
   "id": "c3bc64e3",
   "metadata": {},
   "outputs": [],
   "source": [
    "es = EarlyStopping(monitor='val_loss', mode = 'min', verbose=1, patience = 5, restore_best_weights = True)"
   ]
  },
  {
   "cell_type": "code",
   "execution_count": 25,
   "id": "381d766b",
   "metadata": {},
   "outputs": [],
   "source": [
    "with tf.device('/GPU:0'):\n",
    "    model = build_model()\n",
    "\n",
    "    METRICS = [\n",
    "        'accuracy',\n",
    "        tf.keras.metrics.Precision(name='precision'),\n",
    "        tf.keras.metrics.Recall(name='recall')\n",
    "    ]\n",
    "    \n",
    "    model.compile(\n",
    "        optimizer='adam',\n",
    "        loss='binary_crossentropy',\n",
    "        metrics=METRICS\n",
    "    )"
   ]
  },
  {
   "cell_type": "code",
   "execution_count": 26,
   "id": "f6ba7dcf",
   "metadata": {},
   "outputs": [
    {
     "name": "stdout",
     "output_type": "stream",
     "text": [
      "Epoch 1/40\n",
      " 2/13 [===>..........................] - ETA: 4s - loss: 0.9337 - accuracy: 0.5183 - precision: 0.7365 - recall: 0.5297WARNING:tensorflow:Callbacks method `on_train_batch_end` is slow compared to the batch time (batch time: 0.1870s vs `on_train_batch_end` time: 0.5974s). Check your callbacks.\n",
      "13/13 [==============================] - 33s 3s/step - loss: 0.8140 - accuracy: 0.5354 - precision: 0.7797 - recall: 0.5226 - val_loss: 0.7006 - val_accuracy: 0.2722 - val_precision: 0.0000e+00 - val_recall: 0.0000e+00\n",
      "Epoch 2/40\n",
      "13/13 [==============================] - 35s 3s/step - loss: 0.6139 - accuracy: 0.6490 - precision: 0.8855 - recall: 0.6072 - val_loss: 0.6978 - val_accuracy: 0.2656 - val_precision: 0.0000e+00 - val_recall: 0.0000e+00\n",
      "Epoch 3/40\n",
      "13/13 [==============================] - 37s 3s/step - loss: 0.4874 - accuracy: 0.7451 - precision: 0.9351 - recall: 0.7060 - val_loss: 0.6534 - val_accuracy: 0.7356 - val_precision: 0.7356 - val_recall: 1.0000\n",
      "Epoch 4/40\n",
      "13/13 [==============================] - 32s 2s/step - loss: 0.4150 - accuracy: 0.8010 - precision: 0.9567 - recall: 0.7678 - val_loss: 0.6039 - val_accuracy: 0.7400 - val_precision: 0.7400 - val_recall: 1.0000\n",
      "Epoch 5/40\n",
      "13/13 [==============================] - 32s 2s/step - loss: 0.3310 - accuracy: 0.8421 - precision: 0.9638 - recall: 0.8200 - val_loss: 0.5853 - val_accuracy: 0.7300 - val_precision: 0.7300 - val_recall: 1.0000\n",
      "Epoch 6/40\n",
      "13/13 [==============================] - 31s 2s/step - loss: 0.2900 - accuracy: 0.8759 - precision: 0.9709 - recall: 0.8575 - val_loss: 0.5903 - val_accuracy: 0.7278 - val_precision: 0.7278 - val_recall: 1.0000\n",
      "Epoch 7/40\n",
      "13/13 [==============================] - 31s 2s/step - loss: 0.2378 - accuracy: 0.9069 - precision: 0.9781 - recall: 0.8947 - val_loss: 0.6057 - val_accuracy: 0.7367 - val_precision: 0.7367 - val_recall: 1.0000\n",
      "Epoch 8/40\n",
      "13/13 [==============================] - 32s 2s/step - loss: 0.2221 - accuracy: 0.9146 - precision: 0.9792 - recall: 0.9050 - val_loss: 0.6462 - val_accuracy: 0.7356 - val_precision: 0.7356 - val_recall: 1.0000\n",
      "Epoch 9/40\n",
      "13/13 [==============================] - 31s 2s/step - loss: 0.2097 - accuracy: 0.9190 - precision: 0.9789 - recall: 0.9107 - val_loss: 0.7051 - val_accuracy: 0.7278 - val_precision: 0.7278 - val_recall: 1.0000\n",
      "Epoch 10/40\n",
      "13/13 [==============================] - ETA: 0s - loss: 0.1780 - accuracy: 0.9364 - precision: 0.9800 - recall: 0.9333Restoring model weights from the end of the best epoch.\n",
      "13/13 [==============================] - 32s 2s/step - loss: 0.1780 - accuracy: 0.9364 - precision: 0.9800 - recall: 0.9333 - val_loss: 0.7250 - val_accuracy: 0.7378 - val_precision: 0.7378 - val_recall: 1.0000\n",
      "Epoch 00010: early stopping\n"
     ]
    }
   ],
   "source": [
    "with tf.device('/GPU:0'):\n",
    "    history = model.fit(\n",
    "        train_ds,\n",
    "        steps_per_epoch=TRAIN_IMG_COUNT // BATCH_SIZE,\n",
    "        epochs=EPOCHS,\n",
    "        validation_data=val_ds,\n",
    "        validation_steps=VAL_IMG_COUNT // BATCH_SIZE,\n",
    "        class_weight=class_weight,\n",
    "        callbacks =[es]\n",
    "    )"
   ]
  },
  {
   "cell_type": "markdown",
   "id": "adc849bd",
   "metadata": {},
   "source": [
    "학습 도중 다양한 요소가 고려되었다."
   ]
  },
  {
   "cell_type": "markdown",
   "id": "6120504b",
   "metadata": {},
   "source": [
    "# Step 7. 결과 확인과 시각화"
   ]
  },
  {
   "cell_type": "code",
   "execution_count": 27,
   "id": "600e1a53",
   "metadata": {},
   "outputs": [
    {
     "data": {
      "image/png": "[encoded data removed]",
      "text/plain": [
       "<Figure size 1440x216 with 4 Axes>"
      ]
     },
     "metadata": {
      "needs_background": "light"
     },
     "output_type": "display_data"
    }
   ],
   "source": [
    "fig, ax = plt.subplots(1, 4, figsize=(20, 3))\n",
    "ax = ax.ravel()\n",
    "\n",
    "for i, met in enumerate(['precision', 'recall', 'accuracy', 'loss']):\n",
    "    ax[i].plot(history.history[met])\n",
    "    ax[i].plot(history.history['val_' + met])\n",
    "    ax[i].set_title('Model {}'.format(met))\n",
    "    ax[i].set_xlabel('epochs')\n",
    "    ax[i].set_ylabel(met)\n",
    "    ax[i].legend(['train', 'val'])"
   ]
  },
  {
   "cell_type": "code",
   "execution_count": 28,
   "id": "671d7831",
   "metadata": {},
   "outputs": [
    {
     "name": "stdout",
     "output_type": "stream",
     "text": [
      "3/3 [==============================] - 2s 660ms/step - loss: 0.6749 - accuracy: 0.6250 - precision: 0.6250 - recall: 1.0000\n",
      "Loss: 0.6748896837234497,\n",
      "Accuracy: 0.625,\n",
      "Precision: 0.625,\n",
      "Recall: 1.0\n"
     ]
    }
   ],
   "source": [
    "loss, accuracy, precision, recall = model.evaluate(test_ds)\n",
    "print(f'Loss: {loss},\\nAccuracy: {accuracy},\\nPrecision: {precision},\\nRecall: {recall}')"
   ]
  },
  {
   "cell_type": "code",
   "execution_count": null,
   "id": "ae489e02",
   "metadata": {},
   "outputs": [],
   "source": []
  },
  {
   "cell_type": "code",
   "execution_count": null,
   "id": "69462e65",
   "metadata": {},
   "outputs": [],
   "source": []
  },
  {
   "cell_type": "markdown",
   "id": "8c6ca542",
   "metadata": {},
   "source": [
    "# 마무리"
   ]
  },
  {
   "cell_type": "markdown",
   "id": "6ff83a0e",
   "metadata": {},
   "source": [
    "\n",
    "\n",
    "가장 잘나온 정확도가 84.6% 였는데, 이게 처음 작업했던 내용이었다.\n",
    "\n",
    "그런데 문제가 같은 설정으로 돌렸는데 다시 그때의 정확도가 안 나온다..."
   ]
  }
 ],
 "metadata": {
  "kernelspec": {
   "display_name": "Python 3",
   "language": "python",
   "name": "python3"
  },
  "language_info": {
   "codemirror_mode": {
    "name": "ipython",
    "version": 3
   },
   "file_extension": ".py",
   "mimetype": "text/x-python",
   "name": "python",
   "nbconvert_exporter": "python",
   "pygments_lexer": "ipython3",
   "version": "3.8.8"
  }
 },
 "nbformat": 4,
 "nbformat_minor": 5
}
